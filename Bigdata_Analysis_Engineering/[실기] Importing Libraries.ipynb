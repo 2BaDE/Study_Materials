{
 "cells": [
  {
   "cell_type": "markdown",
   "id": "cb4e852e",
   "metadata": {},
   "source": [
    "# Sklearn"
   ]
  },
  {
   "cell_type": "code",
   "execution_count": 1,
   "id": "bbeab5d2",
   "metadata": {
    "ExecuteTime": {
     "end_time": "2023-09-11T23:56:40.630373Z",
     "start_time": "2023-09-11T23:56:40.218573Z"
    }
   },
   "outputs": [],
   "source": [
    "# 전처리\n",
    "from sklearn.preprocessing import MinMaxScaler\n",
    "from sklearn.preprocessing import RobustScaler\n",
    "from sklearn.preprocessing import StandardScaler"
   ]
  },
  {
   "cell_type": "code",
   "execution_count": 2,
   "id": "f35c5838",
   "metadata": {
    "ExecuteTime": {
     "end_time": "2023-09-11T23:56:47.973040Z",
     "start_time": "2023-09-11T23:56:47.970361Z"
    }
   },
   "outputs": [],
   "source": [
    "# 인코더\n",
    "from sklearn.preprocessing import LabelEncoder\n",
    "from sklearn.preprocessing import OneHotEncoder"
   ]
  },
  {
   "cell_type": "code",
   "execution_count": 3,
   "id": "7bd68097",
   "metadata": {
    "ExecuteTime": {
     "end_time": "2023-09-11T23:56:53.697649Z",
     "start_time": "2023-09-11T23:56:53.670833Z"
    }
   },
   "outputs": [],
   "source": [
    "# 모델링 전처리\n",
    "## 데이터셋 분리\n",
    "from sklearn.model_selection import KFold\n",
    "from sklearn.model_selection import StratifiedKFold\n",
    "from sklearn.model_selection import train_test_split\n",
    "## 하이퍼파라미터 튜닝\n",
    "from sklearn.model_selection import GridSearchCV"
   ]
  },
  {
   "cell_type": "code",
   "execution_count": 4,
   "id": "e627067f",
   "metadata": {
    "ExecuteTime": {
     "end_time": "2023-09-11T23:56:59.393495Z",
     "start_time": "2023-09-11T23:56:59.295312Z"
    }
   },
   "outputs": [],
   "source": [
    "# 모델 학습\n",
    "## 앙상블\n",
    "from sklearn.ensemble import AdaBoostClassifier\n",
    "from sklearn.ensemble import GradientBoostingClassifier\n",
    "from sklearn.ensemble import RandomForestClassifier\n",
    "from sklearn.ensemble import RandomForestRegressor\n",
    "## 선형 모델\n",
    "from sklearn.linear_model import LogisticRegression\n",
    "from sklearn.linear_model import RidgeClassifier\n",
    "## 이웃\n",
    "from sklearn.neighbors import KNeighborsClassifier\n",
    "## SVM\n",
    "from sklearn.svm import SVC\n",
    "from sklearn.svm import SVR\n",
    "## Tree\n",
    "from sklearn.tree import DecisionTreeClassifier\n",
    "from sklearn.tree import DecisionTreeRegressor\n",
    "from sklearn.tree import ExtraTreeClassifier\n",
    "from sklearn.tree import ExtraTreeRegressor"
   ]
  },
  {
   "cell_type": "code",
   "execution_count": 5,
   "id": "bb543d0a",
   "metadata": {
    "ExecuteTime": {
     "end_time": "2023-09-11T23:57:07.483720Z",
     "start_time": "2023-09-11T23:57:07.473219Z"
    }
   },
   "outputs": [
    {
     "data": {
      "text/plain": [
       "'\\nmd.predict(predict, y_valid)\\nmd.predict_proba(predict, y_valid)\\n'"
      ]
     },
     "execution_count": 5,
     "metadata": {},
     "output_type": "execute_result"
    }
   ],
   "source": [
    "# 모델 평가\n",
    "## metrics\n",
    "from sklearn.metrics import accuracy_score\n",
    "from sklearn.metrics import classification_report\n",
    "from sklearn.metrics import confusion_matrix\n",
    "from sklearn.metrics import f1_score\n",
    "from sklearn.metrics import log_loss\n",
    "from sklearn.metrics import mean_absolute_error\n",
    "from sklearn.metrics import mean_squared_error\n",
    "from sklearn.metrics import roc_auc_score\n",
    "## models\n",
    "\"\"\"\n",
    "md.predict(predict, y_valid)\n",
    "md.predict_proba(predict, y_valid)\n",
    "\"\"\""
   ]
  },
  {
   "cell_type": "code",
   "execution_count": 6,
   "id": "f261116d",
   "metadata": {
    "ExecuteTime": {
     "end_time": "2023-09-11T23:57:20.325208Z",
     "start_time": "2023-09-11T23:57:20.313719Z"
    },
    "hide_input": false
   },
   "outputs": [
    {
     "ename": "ImportError",
     "evalue": "cannot import name 'VotingRegres' from 'sklearn.ensemble' (/home/jeong/anaconda3/lib/python3.9/site-packages/sklearn/ensemble/__init__.py)",
     "output_type": "error",
     "traceback": [
      "\u001b[0;31m---------------------------------------------------------------------------\u001b[0m",
      "\u001b[0;31mImportError\u001b[0m                               Traceback (most recent call last)",
      "\u001b[0;32m/tmp/ipykernel_8248/2742300555.py\u001b[0m in \u001b[0;36m<module>\u001b[0;34m\u001b[0m\n\u001b[1;32m      3\u001b[0m \u001b[0;32mfrom\u001b[0m \u001b[0msklearn\u001b[0m\u001b[0;34m.\u001b[0m\u001b[0mensemble\u001b[0m \u001b[0;32mimport\u001b[0m \u001b[0mStackingRegressor\u001b[0m\u001b[0;34m\u001b[0m\u001b[0;34m\u001b[0m\u001b[0m\n\u001b[1;32m      4\u001b[0m \u001b[0;32mfrom\u001b[0m \u001b[0msklearn\u001b[0m\u001b[0;34m.\u001b[0m\u001b[0mensemble\u001b[0m \u001b[0;32mimport\u001b[0m \u001b[0mVotingClassifier\u001b[0m\u001b[0;34m\u001b[0m\u001b[0;34m\u001b[0m\u001b[0m\n\u001b[0;32m----> 5\u001b[0;31m \u001b[0;32mfrom\u001b[0m \u001b[0msklearn\u001b[0m\u001b[0;34m.\u001b[0m\u001b[0mensemble\u001b[0m \u001b[0;32mimport\u001b[0m \u001b[0mVotingRegres\u001b[0m\u001b[0;34m\u001b[0m\u001b[0;34m\u001b[0m\u001b[0m\n\u001b[0m",
      "\u001b[0;31mImportError\u001b[0m: cannot import name 'VotingRegres' from 'sklearn.ensemble' (/home/jeong/anaconda3/lib/python3.9/site-packages/sklearn/ensemble/__init__.py)"
     ]
    }
   ],
   "source": [
    "# 최종 앙상블\n",
    "from sklearn.ensemble import StackingClassifier\n",
    "from sklearn.ensemble import StackingRegressor\n",
    "from sklearn.ensemble import VotingClassifier\n",
    "from sklearn.ensemble import VotingRegres"
   ]
  },
  {
   "cell_type": "markdown",
   "id": "3097d875",
   "metadata": {},
   "source": [
    "# Scipy"
   ]
  },
  {
   "cell_type": "code",
   "execution_count": 7,
   "id": "47d241dd",
   "metadata": {
    "ExecuteTime": {
     "end_time": "2023-09-11T23:57:40.731176Z",
     "start_time": "2023-09-11T23:57:40.714290Z"
    }
   },
   "outputs": [],
   "source": [
    "# T-test\n",
    "from scipy.stats import ttest_1samp\n",
    "from scipy.stats import ttest_ind\n",
    "from scipy.stats import ttest_rel\n",
    "# 비모수 검정\n",
    "from scipy.stats import mannwhitneyu\n",
    "from scipy.stats import ranksums\n",
    "from scipy.stats import wilcoxon\n",
    "# 정규성 검정\n",
    "from scipy.stats import anderson\n",
    "from scipy.stats import kstest\n",
    "from scipy.stats import shapiro\n",
    "# 등분산 검정\n",
    "from scipy.stats import bartlett\n",
    "from scipy.stats import fligner\n",
    "from scipy.stats import levene\n",
    "# 카이제곱 검정\n",
    "from scipy.stats import chi2_contingency\n",
    "from scipy.stats import chisquare\n",
    "from scipy.stats import fisher_exact\n",
    "# 일원 분산 분석\n",
    "from scipy.stats import f_oneway"
   ]
  }
 ],
 "metadata": {
  "kernelspec": {
   "display_name": "Python 3 (ipykernel)",
   "language": "python",
   "name": "python3"
  },
  "language_info": {
   "codemirror_mode": {
    "name": "ipython",
    "version": 3
   },
   "file_extension": ".py",
   "mimetype": "text/x-python",
   "name": "python",
   "nbconvert_exporter": "python",
   "pygments_lexer": "ipython3",
   "version": "3.9.13"
  },
  "latex_envs": {
   "LaTeX_envs_menu_present": true,
   "autoclose": false,
   "autocomplete": true,
   "bibliofile": "biblio.bib",
   "cite_by": "apalike",
   "current_citInitial": 1,
   "eqLabelWithNumbers": true,
   "eqNumInitial": 1,
   "hotkeys": {
    "equation": "Ctrl-E",
    "itemize": "Ctrl-I"
   },
   "labels_anchors": false,
   "latex_user_defs": false,
   "report_style_numbering": false,
   "user_envs_cfg": false
  },
  "toc": {
   "base_numbering": 1,
   "nav_menu": {},
   "number_sections": true,
   "sideBar": true,
   "skip_h1_title": false,
   "title_cell": "Table of Contents",
   "title_sidebar": "Contents",
   "toc_cell": false,
   "toc_position": {},
   "toc_section_display": true,
   "toc_window_display": false
  },
  "varInspector": {
   "cols": {
    "lenName": 16,
    "lenType": 16,
    "lenVar": 40
   },
   "kernels_config": {
    "python": {
     "delete_cmd_postfix": "",
     "delete_cmd_prefix": "del ",
     "library": "var_list.py",
     "varRefreshCmd": "print(var_dic_list())"
    },
    "r": {
     "delete_cmd_postfix": ") ",
     "delete_cmd_prefix": "rm(",
     "library": "var_list.r",
     "varRefreshCmd": "cat(var_dic_list()) "
    }
   },
   "types_to_exclude": [
    "module",
    "function",
    "builtin_function_or_method",
    "instance",
    "_Feature"
   ],
   "window_display": false
  }
 },
 "nbformat": 4,
 "nbformat_minor": 5
}
