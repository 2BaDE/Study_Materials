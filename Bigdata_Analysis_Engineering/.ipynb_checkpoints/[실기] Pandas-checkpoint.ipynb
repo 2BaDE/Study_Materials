{
 "cells": [
  {
   "cell_type": "markdown",
   "id": "50128168",
   "metadata": {},
   "source": [
    "# Importing Data"
   ]
  },
  {
   "cell_type": "code",
   "execution_count": 1,
   "id": "1dca9597",
   "metadata": {
    "ExecuteTime": {
     "end_time": "2023-09-12T00:41:27.945073Z",
     "start_time": "2023-09-12T00:41:25.407891Z"
    }
   },
   "outputs": [
    {
     "data": {
      "text/html": [
       "<div>\n",
       "<style scoped>\n",
       "    .dataframe tbody tr th:only-of-type {\n",
       "        vertical-align: middle;\n",
       "    }\n",
       "\n",
       "    .dataframe tbody tr th {\n",
       "        vertical-align: top;\n",
       "    }\n",
       "\n",
       "    .dataframe thead th {\n",
       "        text-align: right;\n",
       "    }\n",
       "</style>\n",
       "<table border=\"1\" class=\"dataframe\">\n",
       "  <thead>\n",
       "    <tr style=\"text-align: right;\">\n",
       "      <th></th>\n",
       "      <th>gameId</th>\n",
       "      <th>creationTime</th>\n",
       "      <th>gameDuration</th>\n",
       "      <th>seasonId</th>\n",
       "      <th>winner</th>\n",
       "      <th>firstBlood</th>\n",
       "      <th>firstTower</th>\n",
       "      <th>firstInhibitor</th>\n",
       "      <th>firstBaron</th>\n",
       "      <th>firstDragon</th>\n",
       "      <th>...</th>\n",
       "      <th>t2_towerKills</th>\n",
       "      <th>t2_inhibitorKills</th>\n",
       "      <th>t2_baronKills</th>\n",
       "      <th>t2_dragonKills</th>\n",
       "      <th>t2_riftHeraldKills</th>\n",
       "      <th>t2_ban1</th>\n",
       "      <th>t2_ban2</th>\n",
       "      <th>t2_ban3</th>\n",
       "      <th>t2_ban4</th>\n",
       "      <th>t2_ban5</th>\n",
       "    </tr>\n",
       "  </thead>\n",
       "  <tbody>\n",
       "    <tr>\n",
       "      <th>0</th>\n",
       "      <td>3326086514</td>\n",
       "      <td>1504279457970</td>\n",
       "      <td>1949</td>\n",
       "      <td>9</td>\n",
       "      <td>1</td>\n",
       "      <td>2</td>\n",
       "      <td>1</td>\n",
       "      <td>1</td>\n",
       "      <td>1</td>\n",
       "      <td>1</td>\n",
       "      <td>...</td>\n",
       "      <td>5</td>\n",
       "      <td>0</td>\n",
       "      <td>0</td>\n",
       "      <td>1</td>\n",
       "      <td>1</td>\n",
       "      <td>114</td>\n",
       "      <td>67</td>\n",
       "      <td>43</td>\n",
       "      <td>16</td>\n",
       "      <td>51</td>\n",
       "    </tr>\n",
       "    <tr>\n",
       "      <th>1</th>\n",
       "      <td>3229566029</td>\n",
       "      <td>1497848803862</td>\n",
       "      <td>1851</td>\n",
       "      <td>9</td>\n",
       "      <td>1</td>\n",
       "      <td>1</td>\n",
       "      <td>1</td>\n",
       "      <td>1</td>\n",
       "      <td>0</td>\n",
       "      <td>1</td>\n",
       "      <td>...</td>\n",
       "      <td>2</td>\n",
       "      <td>0</td>\n",
       "      <td>0</td>\n",
       "      <td>0</td>\n",
       "      <td>0</td>\n",
       "      <td>11</td>\n",
       "      <td>67</td>\n",
       "      <td>238</td>\n",
       "      <td>51</td>\n",
       "      <td>420</td>\n",
       "    </tr>\n",
       "  </tbody>\n",
       "</table>\n",
       "<p>2 rows × 61 columns</p>\n",
       "</div>"
      ],
      "text/plain": [
       "       gameId   creationTime  gameDuration  seasonId  winner  firstBlood  \\\n",
       "0  3326086514  1504279457970          1949         9       1           2   \n",
       "1  3229566029  1497848803862          1851         9       1           1   \n",
       "\n",
       "   firstTower  firstInhibitor  firstBaron  firstDragon  ...  t2_towerKills  \\\n",
       "0           1               1           1            1  ...              5   \n",
       "1           1               1           0            1  ...              2   \n",
       "\n",
       "   t2_inhibitorKills  t2_baronKills  t2_dragonKills  t2_riftHeraldKills  \\\n",
       "0                  0              0               1                   1   \n",
       "1                  0              0               0                   0   \n",
       "\n",
       "   t2_ban1  t2_ban2  t2_ban3  t2_ban4  t2_ban5  \n",
       "0      114       67       43       16       51  \n",
       "1       11       67      238       51      420  \n",
       "\n",
       "[2 rows x 61 columns]"
      ]
     },
     "execution_count": 1,
     "metadata": {},
     "output_type": "execute_result"
    }
   ],
   "source": [
    "# Question 1 : 데이터를 로드하라. 데이터는 \\t를 기준으로 구분되어 있다.\n",
    "import pandas as pd\n",
    "df = pd.read_csv('https://raw.githubusercontent.com/Datamanim/pandas/main/lol.csv', sep = '\\t')\n",
    "df.head(2)"
   ]
  },
  {
   "cell_type": "code",
   "execution_count": 2,
   "id": "34c7ba12",
   "metadata": {
    "ExecuteTime": {
     "end_time": "2023-09-12T00:41:27.955514Z",
     "start_time": "2023-09-12T00:41:27.946618Z"
    }
   },
   "outputs": [
    {
     "data": {
      "text/html": [
       "<div>\n",
       "<style scoped>\n",
       "    .dataframe tbody tr th:only-of-type {\n",
       "        vertical-align: middle;\n",
       "    }\n",
       "\n",
       "    .dataframe tbody tr th {\n",
       "        vertical-align: top;\n",
       "    }\n",
       "\n",
       "    .dataframe thead th {\n",
       "        text-align: right;\n",
       "    }\n",
       "</style>\n",
       "<table border=\"1\" class=\"dataframe\">\n",
       "  <thead>\n",
       "    <tr style=\"text-align: right;\">\n",
       "      <th></th>\n",
       "      <th>gameId</th>\n",
       "      <th>creationTime</th>\n",
       "      <th>gameDuration</th>\n",
       "      <th>seasonId</th>\n",
       "      <th>winner</th>\n",
       "      <th>firstBlood</th>\n",
       "      <th>firstTower</th>\n",
       "      <th>firstInhibitor</th>\n",
       "      <th>firstBaron</th>\n",
       "      <th>firstDragon</th>\n",
       "      <th>...</th>\n",
       "      <th>t2_towerKills</th>\n",
       "      <th>t2_inhibitorKills</th>\n",
       "      <th>t2_baronKills</th>\n",
       "      <th>t2_dragonKills</th>\n",
       "      <th>t2_riftHeraldKills</th>\n",
       "      <th>t2_ban1</th>\n",
       "      <th>t2_ban2</th>\n",
       "      <th>t2_ban3</th>\n",
       "      <th>t2_ban4</th>\n",
       "      <th>t2_ban5</th>\n",
       "    </tr>\n",
       "  </thead>\n",
       "  <tbody>\n",
       "    <tr>\n",
       "      <th>0</th>\n",
       "      <td>3326086514</td>\n",
       "      <td>1504279457970</td>\n",
       "      <td>1949</td>\n",
       "      <td>9</td>\n",
       "      <td>1</td>\n",
       "      <td>2</td>\n",
       "      <td>1</td>\n",
       "      <td>1</td>\n",
       "      <td>1</td>\n",
       "      <td>1</td>\n",
       "      <td>...</td>\n",
       "      <td>5</td>\n",
       "      <td>0</td>\n",
       "      <td>0</td>\n",
       "      <td>1</td>\n",
       "      <td>1</td>\n",
       "      <td>114</td>\n",
       "      <td>67</td>\n",
       "      <td>43</td>\n",
       "      <td>16</td>\n",
       "      <td>51</td>\n",
       "    </tr>\n",
       "    <tr>\n",
       "      <th>1</th>\n",
       "      <td>3229566029</td>\n",
       "      <td>1497848803862</td>\n",
       "      <td>1851</td>\n",
       "      <td>9</td>\n",
       "      <td>1</td>\n",
       "      <td>1</td>\n",
       "      <td>1</td>\n",
       "      <td>1</td>\n",
       "      <td>0</td>\n",
       "      <td>1</td>\n",
       "      <td>...</td>\n",
       "      <td>2</td>\n",
       "      <td>0</td>\n",
       "      <td>0</td>\n",
       "      <td>0</td>\n",
       "      <td>0</td>\n",
       "      <td>11</td>\n",
       "      <td>67</td>\n",
       "      <td>238</td>\n",
       "      <td>51</td>\n",
       "      <td>420</td>\n",
       "    </tr>\n",
       "    <tr>\n",
       "      <th>2</th>\n",
       "      <td>3327363504</td>\n",
       "      <td>1504360103310</td>\n",
       "      <td>1493</td>\n",
       "      <td>9</td>\n",
       "      <td>1</td>\n",
       "      <td>2</td>\n",
       "      <td>1</td>\n",
       "      <td>1</td>\n",
       "      <td>1</td>\n",
       "      <td>2</td>\n",
       "      <td>...</td>\n",
       "      <td>2</td>\n",
       "      <td>0</td>\n",
       "      <td>0</td>\n",
       "      <td>1</td>\n",
       "      <td>0</td>\n",
       "      <td>157</td>\n",
       "      <td>238</td>\n",
       "      <td>121</td>\n",
       "      <td>57</td>\n",
       "      <td>28</td>\n",
       "    </tr>\n",
       "    <tr>\n",
       "      <th>3</th>\n",
       "      <td>3326856598</td>\n",
       "      <td>1504348503996</td>\n",
       "      <td>1758</td>\n",
       "      <td>9</td>\n",
       "      <td>1</td>\n",
       "      <td>1</td>\n",
       "      <td>1</td>\n",
       "      <td>1</td>\n",
       "      <td>1</td>\n",
       "      <td>1</td>\n",
       "      <td>...</td>\n",
       "      <td>0</td>\n",
       "      <td>0</td>\n",
       "      <td>0</td>\n",
       "      <td>0</td>\n",
       "      <td>0</td>\n",
       "      <td>164</td>\n",
       "      <td>18</td>\n",
       "      <td>141</td>\n",
       "      <td>40</td>\n",
       "      <td>51</td>\n",
       "    </tr>\n",
       "    <tr>\n",
       "      <th>4</th>\n",
       "      <td>3330080762</td>\n",
       "      <td>1504554410899</td>\n",
       "      <td>2094</td>\n",
       "      <td>9</td>\n",
       "      <td>1</td>\n",
       "      <td>2</td>\n",
       "      <td>1</td>\n",
       "      <td>1</td>\n",
       "      <td>1</td>\n",
       "      <td>1</td>\n",
       "      <td>...</td>\n",
       "      <td>3</td>\n",
       "      <td>0</td>\n",
       "      <td>0</td>\n",
       "      <td>1</td>\n",
       "      <td>0</td>\n",
       "      <td>86</td>\n",
       "      <td>11</td>\n",
       "      <td>201</td>\n",
       "      <td>122</td>\n",
       "      <td>18</td>\n",
       "    </tr>\n",
       "  </tbody>\n",
       "</table>\n",
       "<p>5 rows × 61 columns</p>\n",
       "</div>"
      ],
      "text/plain": [
       "       gameId   creationTime  gameDuration  seasonId  winner  firstBlood  \\\n",
       "0  3326086514  1504279457970          1949         9       1           2   \n",
       "1  3229566029  1497848803862          1851         9       1           1   \n",
       "2  3327363504  1504360103310          1493         9       1           2   \n",
       "3  3326856598  1504348503996          1758         9       1           1   \n",
       "4  3330080762  1504554410899          2094         9       1           2   \n",
       "\n",
       "   firstTower  firstInhibitor  firstBaron  firstDragon  ...  t2_towerKills  \\\n",
       "0           1               1           1            1  ...              5   \n",
       "1           1               1           0            1  ...              2   \n",
       "2           1               1           1            2  ...              2   \n",
       "3           1               1           1            1  ...              0   \n",
       "4           1               1           1            1  ...              3   \n",
       "\n",
       "   t2_inhibitorKills  t2_baronKills  t2_dragonKills  t2_riftHeraldKills  \\\n",
       "0                  0              0               1                   1   \n",
       "1                  0              0               0                   0   \n",
       "2                  0              0               1                   0   \n",
       "3                  0              0               0                   0   \n",
       "4                  0              0               1                   0   \n",
       "\n",
       "   t2_ban1  t2_ban2  t2_ban3  t2_ban4  t2_ban5  \n",
       "0      114       67       43       16       51  \n",
       "1       11       67      238       51      420  \n",
       "2      157      238      121       57       28  \n",
       "3      164       18      141       40       51  \n",
       "4       86       11      201      122       18  \n",
       "\n",
       "[5 rows x 61 columns]"
      ]
     },
     "execution_count": 2,
     "metadata": {},
     "output_type": "execute_result"
    }
   ],
   "source": [
    " # Question 2 : 데이터의 상위 5개 행을 출력하라.\n",
    "import pandas as pd\n",
    "df.head()"
   ]
  },
  {
   "cell_type": "code",
   "execution_count": 3,
   "id": "0bfbc885",
   "metadata": {
    "ExecuteTime": {
     "end_time": "2023-09-12T00:41:27.961484Z",
     "start_time": "2023-09-12T00:41:27.956768Z"
    }
   },
   "outputs": [
    {
     "name": "stdout",
     "output_type": "stream",
     "text": [
      "51490 61\n"
     ]
    }
   ],
   "source": [
    "# Question 3 : 데이터의 행과 열의 갯수를 파악하라.\n",
    "row, col = df.shape\n",
    "print(row, col)"
   ]
  },
  {
   "cell_type": "code",
   "execution_count": 4,
   "id": "89ef1bd2",
   "metadata": {
    "ExecuteTime": {
     "end_time": "2023-09-12T00:41:27.966489Z",
     "start_time": "2023-09-12T00:41:27.963792Z"
    }
   },
   "outputs": [
    {
     "name": "stdout",
     "output_type": "stream",
     "text": [
      "Index(['gameId', 'creationTime', 'gameDuration', 'seasonId', 'winner',\n",
      "       'firstBlood', 'firstTower', 'firstInhibitor', 'firstBaron',\n",
      "       'firstDragon', 'firstRiftHerald', 't1_champ1id', 't1_champ1_sum1',\n",
      "       't1_champ1_sum2', 't1_champ2id', 't1_champ2_sum1', 't1_champ2_sum2',\n",
      "       't1_champ3id', 't1_champ3_sum1', 't1_champ3_sum2', 't1_champ4id',\n",
      "       't1_champ4_sum1', 't1_champ4_sum2', 't1_champ5id', 't1_champ5_sum1',\n",
      "       't1_champ5_sum2', 't1_towerKills', 't1_inhibitorKills', 't1_baronKills',\n",
      "       't1_dragonKills', 't1_riftHeraldKills', 't1_ban1', 't1_ban2', 't1_ban3',\n",
      "       't1_ban4', 't1_ban5', 't2_champ1id', 't2_champ1_sum1', 't2_champ1_sum2',\n",
      "       't2_champ2id', 't2_champ2_sum1', 't2_champ2_sum2', 't2_champ3id',\n",
      "       't2_champ3_sum1', 't2_champ3_sum2', 't2_champ4id', 't2_champ4_sum1',\n",
      "       't2_champ4_sum2', 't2_champ5id', 't2_champ5_sum1', 't2_champ5_sum2',\n",
      "       't2_towerKills', 't2_inhibitorKills', 't2_baronKills', 't2_dragonKills',\n",
      "       't2_riftHeraldKills', 't2_ban1', 't2_ban2', 't2_ban3', 't2_ban4',\n",
      "       't2_ban5'],\n",
      "      dtype='object')\n"
     ]
    }
   ],
   "source": [
    "# Question 4 : 전체 컬럼을 출력하라\n",
    "print(df.columns)"
   ]
  },
  {
   "cell_type": "code",
   "execution_count": 5,
   "id": "c0185d01",
   "metadata": {
    "ExecuteTime": {
     "end_time": "2023-09-12T00:41:27.970999Z",
     "start_time": "2023-09-12T00:41:27.967996Z"
    }
   },
   "outputs": [
    {
     "name": "stdout",
     "output_type": "stream",
     "text": [
      "firstBlood\n"
     ]
    }
   ],
   "source": [
    "# Question 5 : 6번째 컬럼명을 출력하라.\n",
    "print(df.columns[5])"
   ]
  },
  {
   "cell_type": "code",
   "execution_count": 6,
   "id": "8cef1cba",
   "metadata": {
    "ExecuteTime": {
     "end_time": "2023-09-12T00:41:27.976136Z",
     "start_time": "2023-09-12T00:41:27.972684Z"
    }
   },
   "outputs": [
    {
     "name": "stdout",
     "output_type": "stream",
     "text": [
      "int64\n"
     ]
    }
   ],
   "source": [
    "# Question 6 : 6번째 컬럼의 데이터 타입을 확인하라.\n",
    "print(df.dtypes[5])"
   ]
  },
  {
   "cell_type": "code",
   "execution_count": 7,
   "id": "047fe3bc",
   "metadata": {
    "ExecuteTime": {
     "end_time": "2023-09-12T00:41:27.981389Z",
     "start_time": "2023-09-12T00:41:27.977681Z"
    }
   },
   "outputs": [
    {
     "name": "stdout",
     "output_type": "stream",
     "text": [
      "RangeIndex(start=0, stop=51490, step=1)\n"
     ]
    }
   ],
   "source": [
    "# Question 7 : 데이터셋의 인덱스 구성은 어떠한가.\n",
    "print(df.index)"
   ]
  },
  {
   "cell_type": "code",
   "execution_count": 8,
   "id": "81017248",
   "metadata": {
    "ExecuteTime": {
     "end_time": "2023-09-12T00:41:27.986349Z",
     "start_time": "2023-09-12T00:41:27.983032Z"
    }
   },
   "outputs": [
    {
     "name": "stdout",
     "output_type": "stream",
     "text": [
      "2\n"
     ]
    }
   ],
   "source": [
    "# Question 8 : 6번째 컬럼의 3번째 값은 무엇인가.\n",
    "print(df.iloc[2, 5])"
   ]
  },
  {
   "cell_type": "code",
   "execution_count": 9,
   "id": "edd82c23",
   "metadata": {
    "ExecuteTime": {
     "end_time": "2023-09-12T00:41:28.155118Z",
     "start_time": "2023-09-12T00:41:27.988101Z"
    }
   },
   "outputs": [],
   "source": [
    "# Question 9 : 데이터를 로드하라. 컬럼이 한글이기 때문에 적절하게 처리해야함.\n",
    "df = pd.read_csv('https://raw.githubusercontent.com/Datamanim/pandas/main/Jeju.csv', encoding='euc-kr')"
   ]
  },
  {
   "cell_type": "code",
   "execution_count": 10,
   "id": "8eac9b9e",
   "metadata": {
    "ExecuteTime": {
     "end_time": "2023-09-12T00:41:28.167470Z",
     "start_time": "2023-09-12T00:41:28.157830Z"
    }
   },
   "outputs": [
    {
     "data": {
      "text/html": [
       "<div>\n",
       "<style scoped>\n",
       "    .dataframe tbody tr th:only-of-type {\n",
       "        vertical-align: middle;\n",
       "    }\n",
       "\n",
       "    .dataframe tbody tr th {\n",
       "        vertical-align: top;\n",
       "    }\n",
       "\n",
       "    .dataframe thead th {\n",
       "        text-align: right;\n",
       "    }\n",
       "</style>\n",
       "<table border=\"1\" class=\"dataframe\">\n",
       "  <thead>\n",
       "    <tr style=\"text-align: right;\">\n",
       "      <th></th>\n",
       "      <th>id</th>\n",
       "      <th>일자</th>\n",
       "      <th>시도명</th>\n",
       "      <th>읍면동명</th>\n",
       "      <th>거주인구</th>\n",
       "      <th>근무인구</th>\n",
       "      <th>방문인구</th>\n",
       "      <th>총 유동인구</th>\n",
       "      <th>평균 속도</th>\n",
       "      <th>평균 소요 시간</th>\n",
       "      <th>평균 기온</th>\n",
       "      <th>일강수량</th>\n",
       "      <th>평균 풍속</th>\n",
       "    </tr>\n",
       "  </thead>\n",
       "  <tbody>\n",
       "    <tr>\n",
       "      <th>9618</th>\n",
       "      <td>32066</td>\n",
       "      <td>2020-04-30</td>\n",
       "      <td>제주시</td>\n",
       "      <td>도두동</td>\n",
       "      <td>28397.481</td>\n",
       "      <td>3144.895</td>\n",
       "      <td>84052.697</td>\n",
       "      <td>115595.073</td>\n",
       "      <td>41.053</td>\n",
       "      <td>29.421</td>\n",
       "      <td>20.3</td>\n",
       "      <td>0.0</td>\n",
       "      <td>3.0</td>\n",
       "    </tr>\n",
       "    <tr>\n",
       "      <th>9619</th>\n",
       "      <td>32067</td>\n",
       "      <td>2020-04-30</td>\n",
       "      <td>서귀포시</td>\n",
       "      <td>안덕면</td>\n",
       "      <td>348037.846</td>\n",
       "      <td>29106.286</td>\n",
       "      <td>251129.660</td>\n",
       "      <td>628273.792</td>\n",
       "      <td>46.595</td>\n",
       "      <td>49.189</td>\n",
       "      <td>17.6</td>\n",
       "      <td>0.0</td>\n",
       "      <td>3.5</td>\n",
       "    </tr>\n",
       "    <tr>\n",
       "      <th>9620</th>\n",
       "      <td>32068</td>\n",
       "      <td>2020-04-30</td>\n",
       "      <td>제주시</td>\n",
       "      <td>연동</td>\n",
       "      <td>1010643.372</td>\n",
       "      <td>65673.477</td>\n",
       "      <td>447622.068</td>\n",
       "      <td>1523938.917</td>\n",
       "      <td>40.863</td>\n",
       "      <td>27.765</td>\n",
       "      <td>14.1</td>\n",
       "      <td>0.0</td>\n",
       "      <td>4.8</td>\n",
       "    </tr>\n",
       "  </tbody>\n",
       "</table>\n",
       "</div>"
      ],
      "text/plain": [
       "         id          일자   시도명 읍면동명         거주인구       근무인구        방문인구  \\\n",
       "9618  32066  2020-04-30   제주시  도두동    28397.481   3144.895   84052.697   \n",
       "9619  32067  2020-04-30  서귀포시  안덕면   348037.846  29106.286  251129.660   \n",
       "9620  32068  2020-04-30   제주시   연동  1010643.372  65673.477  447622.068   \n",
       "\n",
       "           총 유동인구   평균 속도  평균 소요 시간  평균 기온  일강수량  평균 풍속  \n",
       "9618   115595.073  41.053    29.421   20.3   0.0    3.0  \n",
       "9619   628273.792  46.595    49.189   17.6   0.0    3.5  \n",
       "9620  1523938.917  40.863    27.765   14.1   0.0    4.8  "
      ]
     },
     "execution_count": 10,
     "metadata": {},
     "output_type": "execute_result"
    }
   ],
   "source": [
    "# Question 10 : 데이터 마지막 3개 행을 출력하라.\n",
    "df.tail(3)"
   ]
  },
  {
   "cell_type": "code",
   "execution_count": 11,
   "id": "7a67e9f5",
   "metadata": {
    "ExecuteTime": {
     "end_time": "2023-09-12T00:41:28.173337Z",
     "start_time": "2023-09-12T00:41:28.168950Z"
    }
   },
   "outputs": [
    {
     "name": "stdout",
     "output_type": "stream",
     "text": [
      "Index(['id', '거주인구', '근무인구', '방문인구', '총 유동인구', '평균 속도', '평균 소요 시간', '평균 기온',\n",
      "       '일강수량', '평균 풍속'],\n",
      "      dtype='object')\n"
     ]
    }
   ],
   "source": [
    "# Question 11 : 수치형 변수를 가진 컬럼을 출력하라.\n",
    "num_cols = df.select_dtypes(include = ['int64', 'float64']).columns\n",
    "print(num_cols)"
   ]
  },
  {
   "cell_type": "code",
   "execution_count": 12,
   "id": "a937e444",
   "metadata": {
    "ExecuteTime": {
     "end_time": "2023-09-12T00:41:28.178379Z",
     "start_time": "2023-09-12T00:41:28.175033Z"
    }
   },
   "outputs": [
    {
     "name": "stdout",
     "output_type": "stream",
     "text": [
      "Index(['일자', '시도명', '읍면동명'], dtype='object')\n"
     ]
    }
   ],
   "source": [
    " # Question 12 : 범주형 변수를 가진 컬럼을 출력하라.\n",
    "obj_cols = df.select_dtypes(include = ['object']).columns\n",
    "print(obj_cols)"
   ]
  },
  {
   "cell_type": "code",
   "execution_count": 13,
   "id": "0b1a84ef",
   "metadata": {
    "ExecuteTime": {
     "end_time": "2023-09-12T00:41:28.186856Z",
     "start_time": "2023-09-12T00:41:28.179605Z"
    }
   },
   "outputs": [
    {
     "data": {
      "text/plain": [
       "id          0\n",
       "일자          0\n",
       "시도명         0\n",
       "읍면동명        0\n",
       "거주인구        0\n",
       "근무인구        0\n",
       "방문인구        0\n",
       "총 유동인구      0\n",
       "평균 속도       0\n",
       "평균 소요 시간    0\n",
       "평균 기온       0\n",
       "일강수량        0\n",
       "평균 풍속       0\n",
       "dtype: int64"
      ]
     },
     "execution_count": 13,
     "metadata": {},
     "output_type": "execute_result"
    }
   ],
   "source": [
    " # Question 13 : 각 컬럼의 결측치 숫자를 파악하라.\n",
    "df.isnull().sum()"
   ]
  },
  {
   "cell_type": "code",
   "execution_count": 14,
   "id": "33666f5b",
   "metadata": {
    "ExecuteTime": {
     "end_time": "2023-09-12T00:41:28.198122Z",
     "start_time": "2023-09-12T00:41:28.187978Z"
    }
   },
   "outputs": [
    {
     "name": "stdout",
     "output_type": "stream",
     "text": [
      "<class 'pandas.core.frame.DataFrame'>\n",
      "RangeIndex: 9621 entries, 0 to 9620\n",
      "Data columns (total 13 columns):\n",
      " #   Column    Non-Null Count  Dtype  \n",
      "---  ------    --------------  -----  \n",
      " 0   id        9621 non-null   int64  \n",
      " 1   일자        9621 non-null   object \n",
      " 2   시도명       9621 non-null   object \n",
      " 3   읍면동명      9621 non-null   object \n",
      " 4   거주인구      9621 non-null   float64\n",
      " 5   근무인구      9621 non-null   float64\n",
      " 6   방문인구      9621 non-null   float64\n",
      " 7   총 유동인구    9621 non-null   float64\n",
      " 8   평균 속도     9621 non-null   float64\n",
      " 9   평균 소요 시간  9621 non-null   float64\n",
      " 10  평균 기온     9621 non-null   float64\n",
      " 11  일강수량      9621 non-null   float64\n",
      " 12  평균 풍속     9621 non-null   float64\n",
      "dtypes: float64(9), int64(1), object(3)\n",
      "memory usage: 977.3+ KB\n"
     ]
    }
   ],
   "source": [
    "# Question 14 : 각 컬럼의 데이터 수, 데이터 타입을 한번에 확인하라.\n",
    "df.info()"
   ]
  },
  {
   "cell_type": "code",
   "execution_count": 15,
   "id": "2204746a",
   "metadata": {
    "ExecuteTime": {
     "end_time": "2023-09-12T00:41:28.222755Z",
     "start_time": "2023-09-12T00:41:28.199883Z"
    }
   },
   "outputs": [
    {
     "data": {
      "text/html": [
       "<div>\n",
       "<style scoped>\n",
       "    .dataframe tbody tr th:only-of-type {\n",
       "        vertical-align: middle;\n",
       "    }\n",
       "\n",
       "    .dataframe tbody tr th {\n",
       "        vertical-align: top;\n",
       "    }\n",
       "\n",
       "    .dataframe thead th {\n",
       "        text-align: right;\n",
       "    }\n",
       "</style>\n",
       "<table border=\"1\" class=\"dataframe\">\n",
       "  <thead>\n",
       "    <tr style=\"text-align: right;\">\n",
       "      <th></th>\n",
       "      <th>id</th>\n",
       "      <th>거주인구</th>\n",
       "      <th>근무인구</th>\n",
       "      <th>방문인구</th>\n",
       "      <th>총 유동인구</th>\n",
       "      <th>평균 속도</th>\n",
       "      <th>평균 소요 시간</th>\n",
       "      <th>평균 기온</th>\n",
       "      <th>일강수량</th>\n",
       "      <th>평균 풍속</th>\n",
       "    </tr>\n",
       "  </thead>\n",
       "  <tbody>\n",
       "    <tr>\n",
       "      <th>count</th>\n",
       "      <td>9621.000000</td>\n",
       "      <td>9.621000e+03</td>\n",
       "      <td>9621.000000</td>\n",
       "      <td>9621.000000</td>\n",
       "      <td>9.621000e+03</td>\n",
       "      <td>9621.000000</td>\n",
       "      <td>9621.000000</td>\n",
       "      <td>9621.000000</td>\n",
       "      <td>9621.000000</td>\n",
       "      <td>9621.000000</td>\n",
       "    </tr>\n",
       "    <tr>\n",
       "      <th>mean</th>\n",
       "      <td>27258.000000</td>\n",
       "      <td>3.174315e+05</td>\n",
       "      <td>35471.201510</td>\n",
       "      <td>195889.561802</td>\n",
       "      <td>5.487922e+05</td>\n",
       "      <td>41.109084</td>\n",
       "      <td>37.215873</td>\n",
       "      <td>13.550828</td>\n",
       "      <td>6.972426</td>\n",
       "      <td>2.753171</td>\n",
       "    </tr>\n",
       "    <tr>\n",
       "      <th>std</th>\n",
       "      <td>2777.487804</td>\n",
       "      <td>2.982079e+05</td>\n",
       "      <td>40381.214775</td>\n",
       "      <td>140706.090325</td>\n",
       "      <td>4.608802e+05</td>\n",
       "      <td>8.758631</td>\n",
       "      <td>12.993786</td>\n",
       "      <td>7.745515</td>\n",
       "      <td>27.617260</td>\n",
       "      <td>1.498538</td>\n",
       "    </tr>\n",
       "    <tr>\n",
       "      <th>min</th>\n",
       "      <td>22448.000000</td>\n",
       "      <td>9.305552e+03</td>\n",
       "      <td>1407.936000</td>\n",
       "      <td>11538.322000</td>\n",
       "      <td>2.225181e+04</td>\n",
       "      <td>24.333000</td>\n",
       "      <td>12.667000</td>\n",
       "      <td>-9.600000</td>\n",
       "      <td>0.000000</td>\n",
       "      <td>0.000000</td>\n",
       "    </tr>\n",
       "    <tr>\n",
       "      <th>25%</th>\n",
       "      <td>24853.000000</td>\n",
       "      <td>9.539939e+04</td>\n",
       "      <td>12074.498000</td>\n",
       "      <td>99632.153000</td>\n",
       "      <td>2.216910e+05</td>\n",
       "      <td>34.250000</td>\n",
       "      <td>27.889000</td>\n",
       "      <td>7.600000</td>\n",
       "      <td>0.000000</td>\n",
       "      <td>1.700000</td>\n",
       "    </tr>\n",
       "    <tr>\n",
       "      <th>50%</th>\n",
       "      <td>27258.000000</td>\n",
       "      <td>2.221105e+05</td>\n",
       "      <td>21960.928000</td>\n",
       "      <td>152805.335000</td>\n",
       "      <td>3.866935e+05</td>\n",
       "      <td>39.640000</td>\n",
       "      <td>34.500000</td>\n",
       "      <td>13.400000</td>\n",
       "      <td>0.000000</td>\n",
       "      <td>2.400000</td>\n",
       "    </tr>\n",
       "    <tr>\n",
       "      <th>75%</th>\n",
       "      <td>29663.000000</td>\n",
       "      <td>4.106671e+05</td>\n",
       "      <td>40192.032000</td>\n",
       "      <td>236325.109000</td>\n",
       "      <td>6.406918e+05</td>\n",
       "      <td>49.105000</td>\n",
       "      <td>46.176000</td>\n",
       "      <td>19.700000</td>\n",
       "      <td>1.500000</td>\n",
       "      <td>3.400000</td>\n",
       "    </tr>\n",
       "    <tr>\n",
       "      <th>max</th>\n",
       "      <td>32068.000000</td>\n",
       "      <td>1.364504e+06</td>\n",
       "      <td>263476.965000</td>\n",
       "      <td>723459.209000</td>\n",
       "      <td>2.066484e+06</td>\n",
       "      <td>103.000000</td>\n",
       "      <td>172.200000</td>\n",
       "      <td>30.400000</td>\n",
       "      <td>587.500000</td>\n",
       "      <td>13.333000</td>\n",
       "    </tr>\n",
       "  </tbody>\n",
       "</table>\n",
       "</div>"
      ],
      "text/plain": [
       "                 id          거주인구           근무인구           방문인구        총 유동인구  \\\n",
       "count   9621.000000  9.621000e+03    9621.000000    9621.000000  9.621000e+03   \n",
       "mean   27258.000000  3.174315e+05   35471.201510  195889.561802  5.487922e+05   \n",
       "std     2777.487804  2.982079e+05   40381.214775  140706.090325  4.608802e+05   \n",
       "min    22448.000000  9.305552e+03    1407.936000   11538.322000  2.225181e+04   \n",
       "25%    24853.000000  9.539939e+04   12074.498000   99632.153000  2.216910e+05   \n",
       "50%    27258.000000  2.221105e+05   21960.928000  152805.335000  3.866935e+05   \n",
       "75%    29663.000000  4.106671e+05   40192.032000  236325.109000  6.406918e+05   \n",
       "max    32068.000000  1.364504e+06  263476.965000  723459.209000  2.066484e+06   \n",
       "\n",
       "             평균 속도     평균 소요 시간        평균 기온         일강수량        평균 풍속  \n",
       "count  9621.000000  9621.000000  9621.000000  9621.000000  9621.000000  \n",
       "mean     41.109084    37.215873    13.550828     6.972426     2.753171  \n",
       "std       8.758631    12.993786     7.745515    27.617260     1.498538  \n",
       "min      24.333000    12.667000    -9.600000     0.000000     0.000000  \n",
       "25%      34.250000    27.889000     7.600000     0.000000     1.700000  \n",
       "50%      39.640000    34.500000    13.400000     0.000000     2.400000  \n",
       "75%      49.105000    46.176000    19.700000     1.500000     3.400000  \n",
       "max     103.000000   172.200000    30.400000   587.500000    13.333000  "
      ]
     },
     "execution_count": 15,
     "metadata": {},
     "output_type": "execute_result"
    }
   ],
   "source": [
    "# Question 15 : 각 수치형 변수의 분포(사분위, 평균, 표준편차, 최대, 최소)를 확인하라.\n",
    "df.describe()"
   ]
  },
  {
   "cell_type": "code",
   "execution_count": 16,
   "id": "b8000b13",
   "metadata": {
    "ExecuteTime": {
     "end_time": "2023-09-12T00:41:28.227417Z",
     "start_time": "2023-09-12T00:41:28.223962Z"
    }
   },
   "outputs": [
    {
     "data": {
      "text/plain": [
       "0      32249.987\n",
       "1     213500.997\n",
       "2    1212382.218\n",
       "3      33991.653\n",
       "4     155036.925\n",
       "Name: 거주인구, dtype: float64"
      ]
     },
     "execution_count": 16,
     "metadata": {},
     "output_type": "execute_result"
    }
   ],
   "source": [
    "# Question 16 : 거주 인구 컬럼의 값들을 출력하라.\n",
    "pop_ser = df['거주인구']\n",
    "pop_ser.head()"
   ]
  },
  {
   "cell_type": "code",
   "execution_count": 17,
   "id": "c027dbfa",
   "metadata": {
    "ExecuteTime": {
     "end_time": "2023-09-12T00:41:28.233005Z",
     "start_time": "2023-09-12T00:41:28.228543Z"
    }
   },
   "outputs": [
    {
     "name": "stdout",
     "output_type": "stream",
     "text": [
      "14.854999999999997\n"
     ]
    }
   ],
   "source": [
    "# Question 17 : 평균 속도 컬럼의 4분위 범위(IQR) 값을 구하여라.\n",
    "Q1 = df['평균 속도'].quantile(0.25)\n",
    "Q3 = df['평균 속도'].quantile(0.75)\n",
    "IQR = Q3 - Q1\n",
    "print(IQR)"
   ]
  },
  {
   "cell_type": "code",
   "execution_count": 18,
   "id": "32eb6155",
   "metadata": {
    "ExecuteTime": {
     "end_time": "2023-09-12T00:41:28.237765Z",
     "start_time": "2023-09-12T00:41:28.234272Z"
    }
   },
   "outputs": [
    {
     "name": "stdout",
     "output_type": "stream",
     "text": [
      "41\n"
     ]
    }
   ],
   "source": [
    "# Question 18 : 읍면동명 컬럼의 유일값 개수를 출력하라.\n",
    "nunique = df['읍면동명'].nunique()\n",
    "print(nunique)"
   ]
  },
  {
   "cell_type": "markdown",
   "id": "b8b60a53",
   "metadata": {},
   "source": [
    "# Filtering & Sorting"
   ]
  },
  {
   "cell_type": "code",
   "execution_count": 19,
   "id": "48aabad4",
   "metadata": {
    "ExecuteTime": {
     "end_time": "2023-09-12T00:41:28.397822Z",
     "start_time": "2023-09-12T00:41:28.239093Z"
    }
   },
   "outputs": [
    {
     "data": {
      "text/html": [
       "<div>\n",
       "<style scoped>\n",
       "    .dataframe tbody tr th:only-of-type {\n",
       "        vertical-align: middle;\n",
       "    }\n",
       "\n",
       "    .dataframe tbody tr th {\n",
       "        vertical-align: top;\n",
       "    }\n",
       "\n",
       "    .dataframe thead th {\n",
       "        text-align: right;\n",
       "    }\n",
       "</style>\n",
       "<table border=\"1\" class=\"dataframe\">\n",
       "  <thead>\n",
       "    <tr style=\"text-align: right;\">\n",
       "      <th></th>\n",
       "      <th>order_id</th>\n",
       "      <th>quantity</th>\n",
       "      <th>item_name</th>\n",
       "      <th>choice_description</th>\n",
       "      <th>item_price</th>\n",
       "    </tr>\n",
       "  </thead>\n",
       "  <tbody>\n",
       "    <tr>\n",
       "      <th>0</th>\n",
       "      <td>1</td>\n",
       "      <td>1</td>\n",
       "      <td>Chips and Fresh Tomato Salsa</td>\n",
       "      <td>NaN</td>\n",
       "      <td>$2.39</td>\n",
       "    </tr>\n",
       "    <tr>\n",
       "      <th>1</th>\n",
       "      <td>1</td>\n",
       "      <td>1</td>\n",
       "      <td>Izze</td>\n",
       "      <td>[Clementine]</td>\n",
       "      <td>$3.39</td>\n",
       "    </tr>\n",
       "  </tbody>\n",
       "</table>\n",
       "</div>"
      ],
      "text/plain": [
       "   order_id  quantity                     item_name choice_description  \\\n",
       "0         1         1  Chips and Fresh Tomato Salsa                NaN   \n",
       "1         1         1                          Izze       [Clementine]   \n",
       "\n",
       "  item_price  \n",
       "0     $2.39   \n",
       "1     $3.39   "
      ]
     },
     "execution_count": 19,
     "metadata": {},
     "output_type": "execute_result"
    }
   ],
   "source": [
    "# Question 20 : 데이터를 로드하라.\n",
    "df = pd.read_csv('https://raw.githubusercontent.com/Datamanim/pandas/main/chipo.csv')\n",
    "df.head(2)"
   ]
  },
  {
   "cell_type": "code",
   "execution_count": 20,
   "id": "c220ace5",
   "metadata": {
    "ExecuteTime": {
     "end_time": "2023-09-12T00:41:28.405931Z",
     "start_time": "2023-09-12T00:41:28.399145Z"
    }
   },
   "outputs": [
    {
     "data": {
      "text/html": [
       "<div>\n",
       "<style scoped>\n",
       "    .dataframe tbody tr th:only-of-type {\n",
       "        vertical-align: middle;\n",
       "    }\n",
       "\n",
       "    .dataframe tbody tr th {\n",
       "        vertical-align: top;\n",
       "    }\n",
       "\n",
       "    .dataframe thead th {\n",
       "        text-align: right;\n",
       "    }\n",
       "</style>\n",
       "<table border=\"1\" class=\"dataframe\">\n",
       "  <thead>\n",
       "    <tr style=\"text-align: right;\">\n",
       "      <th></th>\n",
       "      <th>order_id</th>\n",
       "      <th>quantity</th>\n",
       "      <th>item_name</th>\n",
       "      <th>choice_description</th>\n",
       "      <th>item_price</th>\n",
       "    </tr>\n",
       "  </thead>\n",
       "  <tbody>\n",
       "    <tr>\n",
       "      <th>409</th>\n",
       "      <td>178</td>\n",
       "      <td>3</td>\n",
       "      <td>Chicken Bowl</td>\n",
       "      <td>[[Fresh Tomato Salsa (Mild), Tomatillo-Green C...</td>\n",
       "      <td>$32.94</td>\n",
       "    </tr>\n",
       "    <tr>\n",
       "      <th>445</th>\n",
       "      <td>193</td>\n",
       "      <td>3</td>\n",
       "      <td>Bowl</td>\n",
       "      <td>[Braised Carnitas, Pinto Beans, [Sour Cream, C...</td>\n",
       "      <td>$22.20</td>\n",
       "    </tr>\n",
       "    <tr>\n",
       "      <th>689</th>\n",
       "      <td>284</td>\n",
       "      <td>3</td>\n",
       "      <td>Canned Soft Drink</td>\n",
       "      <td>[Diet Coke]</td>\n",
       "      <td>$3.75</td>\n",
       "    </tr>\n",
       "    <tr>\n",
       "      <th>818</th>\n",
       "      <td>338</td>\n",
       "      <td>3</td>\n",
       "      <td>Bottled Water</td>\n",
       "      <td>NaN</td>\n",
       "      <td>$3.27</td>\n",
       "    </tr>\n",
       "    <tr>\n",
       "      <th>850</th>\n",
       "      <td>350</td>\n",
       "      <td>3</td>\n",
       "      <td>Canned Soft Drink</td>\n",
       "      <td>[Sprite]</td>\n",
       "      <td>$3.75</td>\n",
       "    </tr>\n",
       "  </tbody>\n",
       "</table>\n",
       "</div>"
      ],
      "text/plain": [
       "     order_id  quantity          item_name  \\\n",
       "409       178         3       Chicken Bowl   \n",
       "445       193         3               Bowl   \n",
       "689       284         3  Canned Soft Drink   \n",
       "818       338         3      Bottled Water   \n",
       "850       350         3  Canned Soft Drink   \n",
       "\n",
       "                                    choice_description item_price  \n",
       "409  [[Fresh Tomato Salsa (Mild), Tomatillo-Green C...    $32.94   \n",
       "445  [Braised Carnitas, Pinto Beans, [Sour Cream, C...    $22.20   \n",
       "689                                        [Diet Coke]     $3.75   \n",
       "818                                                NaN     $3.27   \n",
       "850                                           [Sprite]     $3.75   "
      ]
     },
     "execution_count": 20,
     "metadata": {},
     "output_type": "execute_result"
    }
   ],
   "source": [
    "# Question 21 : quantitiy 컬럼 값이 3인 데이터를 추출하여 첫 5행을 출력하라.\n",
    "df_q21 = df[df['quantity'] == 3]\n",
    "df_q21.head()"
   ]
  },
  {
   "cell_type": "code",
   "execution_count": 21,
   "id": "05d04d0f",
   "metadata": {
    "ExecuteTime": {
     "end_time": "2023-09-12T00:41:28.413420Z",
     "start_time": "2023-09-12T00:41:28.407583Z"
    }
   },
   "outputs": [
    {
     "data": {
      "text/html": [
       "<div>\n",
       "<style scoped>\n",
       "    .dataframe tbody tr th:only-of-type {\n",
       "        vertical-align: middle;\n",
       "    }\n",
       "\n",
       "    .dataframe tbody tr th {\n",
       "        vertical-align: top;\n",
       "    }\n",
       "\n",
       "    .dataframe thead th {\n",
       "        text-align: right;\n",
       "    }\n",
       "</style>\n",
       "<table border=\"1\" class=\"dataframe\">\n",
       "  <thead>\n",
       "    <tr style=\"text-align: right;\">\n",
       "      <th></th>\n",
       "      <th>quantity</th>\n",
       "      <th>item_price</th>\n",
       "    </tr>\n",
       "  </thead>\n",
       "  <tbody>\n",
       "    <tr>\n",
       "      <th>0</th>\n",
       "      <td>1</td>\n",
       "      <td>$2.39</td>\n",
       "    </tr>\n",
       "    <tr>\n",
       "      <th>1</th>\n",
       "      <td>1</td>\n",
       "      <td>$3.39</td>\n",
       "    </tr>\n",
       "  </tbody>\n",
       "</table>\n",
       "</div>"
      ],
      "text/plain": [
       "   quantity item_price\n",
       "0         1     $2.39 \n",
       "1         1     $3.39 "
      ]
     },
     "execution_count": 21,
     "metadata": {},
     "output_type": "execute_result"
    }
   ],
   "source": [
    "# Question 23 : quanitity, item_price 두개의 컬럼으로 구성된 새로운 데이터 프레임을 정의하라.\n",
    "df_q23 = df[['quantity', 'item_price']]\n",
    "df_q23.head(2)"
   ]
  },
  {
   "cell_type": "code",
   "execution_count": 22,
   "id": "bc8ddba9",
   "metadata": {
    "ExecuteTime": {
     "end_time": "2023-09-12T00:41:28.421874Z",
     "start_time": "2023-09-12T00:41:28.414683Z"
    }
   },
   "outputs": [
    {
     "data": {
      "text/plain": [
       "0    2.39\n",
       "1    3.39\n",
       "2    3.39\n",
       "Name: new_price, dtype: float64"
      ]
     },
     "execution_count": 22,
     "metadata": {},
     "output_type": "execute_result"
    }
   ],
   "source": [
    "# Question 24 : item_price 컬럼의 달러표시 문자를 제거하고 float 타입으로 저장하여 new_price 컬럼에 저장하라.\n",
    "df['new_price'] = df['item_price'].str.strip('$').astype('float64')\n",
    "df['new_price'].head(3)"
   ]
  },
  {
   "cell_type": "code",
   "execution_count": 23,
   "id": "9c74a9e1",
   "metadata": {
    "ExecuteTime": {
     "end_time": "2023-09-12T00:41:28.426537Z",
     "start_time": "2023-09-12T00:41:28.423206Z"
    }
   },
   "outputs": [
    {
     "name": "stdout",
     "output_type": "stream",
     "text": [
      "1652\n"
     ]
    }
   ],
   "source": [
    "# Question 25 : new_price 컬럼이 5 이하의 값을 가지는 데이터 프레임을 추출하고, 전체 갯수를 구하여라.\n",
    "df_q25 = df[df['new_price'] <= 5]\n",
    "print(len(df_q25))"
   ]
  },
  {
   "cell_type": "code",
   "execution_count": 24,
   "id": "2a3e3041",
   "metadata": {
    "ExecuteTime": {
     "end_time": "2023-09-12T00:41:28.436095Z",
     "start_time": "2023-09-12T00:41:28.427815Z"
    }
   },
   "outputs": [
    {
     "data": {
      "text/html": [
       "<div>\n",
       "<style scoped>\n",
       "    .dataframe tbody tr th:only-of-type {\n",
       "        vertical-align: middle;\n",
       "    }\n",
       "\n",
       "    .dataframe tbody tr th {\n",
       "        vertical-align: top;\n",
       "    }\n",
       "\n",
       "    .dataframe thead th {\n",
       "        text-align: right;\n",
       "    }\n",
       "</style>\n",
       "<table border=\"1\" class=\"dataframe\">\n",
       "  <thead>\n",
       "    <tr style=\"text-align: right;\">\n",
       "      <th></th>\n",
       "      <th>order_id</th>\n",
       "      <th>quantity</th>\n",
       "      <th>item_name</th>\n",
       "      <th>choice_description</th>\n",
       "      <th>item_price</th>\n",
       "      <th>new_price</th>\n",
       "    </tr>\n",
       "  </thead>\n",
       "  <tbody>\n",
       "    <tr>\n",
       "      <th>0</th>\n",
       "      <td>20</td>\n",
       "      <td>1</td>\n",
       "      <td>Chicken Salad Bowl</td>\n",
       "      <td>[Fresh Tomato Salsa, [Fajita Vegetables, Pinto...</td>\n",
       "      <td>$8.75</td>\n",
       "      <td>8.75</td>\n",
       "    </tr>\n",
       "    <tr>\n",
       "      <th>1</th>\n",
       "      <td>60</td>\n",
       "      <td>2</td>\n",
       "      <td>Chicken Salad Bowl</td>\n",
       "      <td>[Tomatillo Green Chili Salsa, [Sour Cream, Che...</td>\n",
       "      <td>$22.50</td>\n",
       "      <td>22.50</td>\n",
       "    </tr>\n",
       "    <tr>\n",
       "      <th>2</th>\n",
       "      <td>94</td>\n",
       "      <td>2</td>\n",
       "      <td>Chicken Salad Bowl</td>\n",
       "      <td>[Fresh Tomato Salsa, [Fajita Vegetables, Pinto...</td>\n",
       "      <td>$22.50</td>\n",
       "      <td>22.50</td>\n",
       "    </tr>\n",
       "  </tbody>\n",
       "</table>\n",
       "</div>"
      ],
      "text/plain": [
       "   order_id  quantity           item_name  \\\n",
       "0        20         1  Chicken Salad Bowl   \n",
       "1        60         2  Chicken Salad Bowl   \n",
       "2        94         2  Chicken Salad Bowl   \n",
       "\n",
       "                                  choice_description item_price  new_price  \n",
       "0  [Fresh Tomato Salsa, [Fajita Vegetables, Pinto...     $8.75        8.75  \n",
       "1  [Tomatillo Green Chili Salsa, [Sour Cream, Che...    $22.50       22.50  \n",
       "2  [Fresh Tomato Salsa, [Fajita Vegetables, Pinto...    $22.50       22.50  "
      ]
     },
     "execution_count": 24,
     "metadata": {},
     "output_type": "execute_result"
    }
   ],
   "source": [
    "#  Question 26 : item_name명이 Chicken Salad Bowl 인 데이터 프레임을 추출하고, index 값을 초기화하여라.\n",
    "df_q26 = df[df['item_name'] == 'Chicken Salad Bowl'].reset_index(drop = True)\n",
    "df_q26.head(3)"
   ]
  },
  {
   "cell_type": "code",
   "execution_count": 25,
   "id": "786d759e",
   "metadata": {
    "ExecuteTime": {
     "end_time": "2023-09-12T00:41:28.445765Z",
     "start_time": "2023-09-12T00:41:28.437576Z"
    }
   },
   "outputs": [
    {
     "data": {
      "text/html": [
       "<div>\n",
       "<style scoped>\n",
       "    .dataframe tbody tr th:only-of-type {\n",
       "        vertical-align: middle;\n",
       "    }\n",
       "\n",
       "    .dataframe tbody tr th {\n",
       "        vertical-align: top;\n",
       "    }\n",
       "\n",
       "    .dataframe thead th {\n",
       "        text-align: right;\n",
       "    }\n",
       "</style>\n",
       "<table border=\"1\" class=\"dataframe\">\n",
       "  <thead>\n",
       "    <tr style=\"text-align: right;\">\n",
       "      <th></th>\n",
       "      <th>order_id</th>\n",
       "      <th>quantity</th>\n",
       "      <th>item_name</th>\n",
       "      <th>choice_description</th>\n",
       "      <th>item_price</th>\n",
       "      <th>new_price</th>\n",
       "    </tr>\n",
       "  </thead>\n",
       "  <tbody>\n",
       "    <tr>\n",
       "      <th>44</th>\n",
       "      <td>20</td>\n",
       "      <td>1</td>\n",
       "      <td>Chicken Salad Bowl</td>\n",
       "      <td>[Fresh Tomato Salsa, [Fajita Vegetables, Pinto...</td>\n",
       "      <td>$8.75</td>\n",
       "      <td>8.75</td>\n",
       "    </tr>\n",
       "    <tr>\n",
       "      <th>256</th>\n",
       "      <td>111</td>\n",
       "      <td>1</td>\n",
       "      <td>Chicken Salad Bowl</td>\n",
       "      <td>[Fresh Tomato Salsa, [Fajita Vegetables, Rice,...</td>\n",
       "      <td>$8.75</td>\n",
       "      <td>8.75</td>\n",
       "    </tr>\n",
       "    <tr>\n",
       "      <th>526</th>\n",
       "      <td>220</td>\n",
       "      <td>1</td>\n",
       "      <td>Chicken Salad Bowl</td>\n",
       "      <td>[Roasted Chili Corn Salsa, [Black Beans, Sour ...</td>\n",
       "      <td>$8.75</td>\n",
       "      <td>8.75</td>\n",
       "    </tr>\n",
       "  </tbody>\n",
       "</table>\n",
       "</div>"
      ],
      "text/plain": [
       "     order_id  quantity           item_name  \\\n",
       "44         20         1  Chicken Salad Bowl   \n",
       "256       111         1  Chicken Salad Bowl   \n",
       "526       220         1  Chicken Salad Bowl   \n",
       "\n",
       "                                    choice_description item_price  new_price  \n",
       "44   [Fresh Tomato Salsa, [Fajita Vegetables, Pinto...     $8.75        8.75  \n",
       "256  [Fresh Tomato Salsa, [Fajita Vegetables, Rice,...     $8.75        8.75  \n",
       "526  [Roasted Chili Corn Salsa, [Black Beans, Sour ...     $8.75        8.75  "
      ]
     },
     "execution_count": 25,
     "metadata": {},
     "output_type": "execute_result"
    }
   ],
   "source": [
    " # Question 27 : new_price 값이 9 이하이고 item_name 값이 Chicken Salad Bowl 인 데이터 프레임을 추출하라.\n",
    "df_q27 = df[(df['new_price'] <= 9) & (df['item_name'] == 'Chicken Salad Bowl')]\n",
    "df_q27.head(3)"
   ]
  },
  {
   "cell_type": "code",
   "execution_count": 26,
   "id": "b01c29ab",
   "metadata": {
    "ExecuteTime": {
     "end_time": "2023-09-12T00:41:28.454563Z",
     "start_time": "2023-09-12T00:41:28.447104Z"
    }
   },
   "outputs": [
    {
     "data": {
      "text/html": [
       "<div>\n",
       "<style scoped>\n",
       "    .dataframe tbody tr th:only-of-type {\n",
       "        vertical-align: middle;\n",
       "    }\n",
       "\n",
       "    .dataframe tbody tr th {\n",
       "        vertical-align: top;\n",
       "    }\n",
       "\n",
       "    .dataframe thead th {\n",
       "        text-align: right;\n",
       "    }\n",
       "</style>\n",
       "<table border=\"1\" class=\"dataframe\">\n",
       "  <thead>\n",
       "    <tr style=\"text-align: right;\">\n",
       "      <th></th>\n",
       "      <th>order_id</th>\n",
       "      <th>quantity</th>\n",
       "      <th>item_name</th>\n",
       "      <th>choice_description</th>\n",
       "      <th>item_price</th>\n",
       "      <th>new_price</th>\n",
       "    </tr>\n",
       "  </thead>\n",
       "  <tbody>\n",
       "    <tr>\n",
       "      <th>0</th>\n",
       "      <td>471</td>\n",
       "      <td>1</td>\n",
       "      <td>Bottled Water</td>\n",
       "      <td>NaN</td>\n",
       "      <td>$1.09</td>\n",
       "      <td>1.09</td>\n",
       "    </tr>\n",
       "    <tr>\n",
       "      <th>1</th>\n",
       "      <td>338</td>\n",
       "      <td>1</td>\n",
       "      <td>Canned Soda</td>\n",
       "      <td>[Coca Cola]</td>\n",
       "      <td>$1.09</td>\n",
       "      <td>1.09</td>\n",
       "    </tr>\n",
       "    <tr>\n",
       "      <th>2</th>\n",
       "      <td>1575</td>\n",
       "      <td>1</td>\n",
       "      <td>Canned Soda</td>\n",
       "      <td>[Dr. Pepper]</td>\n",
       "      <td>$1.09</td>\n",
       "      <td>1.09</td>\n",
       "    </tr>\n",
       "  </tbody>\n",
       "</table>\n",
       "</div>"
      ],
      "text/plain": [
       "   order_id  quantity      item_name choice_description item_price  new_price\n",
       "0       471         1  Bottled Water                NaN     $1.09        1.09\n",
       "1       338         1    Canned Soda        [Coca Cola]     $1.09        1.09\n",
       "2      1575         1    Canned Soda       [Dr. Pepper]     $1.09        1.09"
      ]
     },
     "execution_count": 26,
     "metadata": {},
     "output_type": "execute_result"
    }
   ],
   "source": [
    "# Question 28 : df의 new_price 컬럼 값에 따라 오름차순으로 정렬하고 index를 초기화 하여라.\n",
    "df_q28 = df.sort_values('new_price').reset_index(drop = True)\n",
    "df_q28.head(3)"
   ]
  },
  {
   "cell_type": "code",
   "execution_count": 27,
   "id": "edc30ca8",
   "metadata": {
    "ExecuteTime": {
     "end_time": "2023-09-12T00:41:28.463942Z",
     "start_time": "2023-09-12T00:41:28.455733Z"
    }
   },
   "outputs": [
    {
     "data": {
      "text/html": [
       "<div>\n",
       "<style scoped>\n",
       "    .dataframe tbody tr th:only-of-type {\n",
       "        vertical-align: middle;\n",
       "    }\n",
       "\n",
       "    .dataframe tbody tr th {\n",
       "        vertical-align: top;\n",
       "    }\n",
       "\n",
       "    .dataframe thead th {\n",
       "        text-align: right;\n",
       "    }\n",
       "</style>\n",
       "<table border=\"1\" class=\"dataframe\">\n",
       "  <thead>\n",
       "    <tr style=\"text-align: right;\">\n",
       "      <th></th>\n",
       "      <th>order_id</th>\n",
       "      <th>quantity</th>\n",
       "      <th>item_name</th>\n",
       "      <th>choice_description</th>\n",
       "      <th>item_price</th>\n",
       "      <th>new_price</th>\n",
       "    </tr>\n",
       "  </thead>\n",
       "  <tbody>\n",
       "    <tr>\n",
       "      <th>0</th>\n",
       "      <td>1</td>\n",
       "      <td>1</td>\n",
       "      <td>Chips and Fresh Tomato Salsa</td>\n",
       "      <td>NaN</td>\n",
       "      <td>$2.39</td>\n",
       "      <td>2.39</td>\n",
       "    </tr>\n",
       "    <tr>\n",
       "      <th>3</th>\n",
       "      <td>1</td>\n",
       "      <td>1</td>\n",
       "      <td>Chips and Tomatillo-Green Chili Salsa</td>\n",
       "      <td>NaN</td>\n",
       "      <td>$2.39</td>\n",
       "      <td>2.39</td>\n",
       "    </tr>\n",
       "    <tr>\n",
       "      <th>6</th>\n",
       "      <td>3</td>\n",
       "      <td>1</td>\n",
       "      <td>Side of Chips</td>\n",
       "      <td>NaN</td>\n",
       "      <td>$1.69</td>\n",
       "      <td>1.69</td>\n",
       "    </tr>\n",
       "  </tbody>\n",
       "</table>\n",
       "</div>"
      ],
      "text/plain": [
       "   order_id  quantity                              item_name  \\\n",
       "0         1         1           Chips and Fresh Tomato Salsa   \n",
       "3         1         1  Chips and Tomatillo-Green Chili Salsa   \n",
       "6         3         1                          Side of Chips   \n",
       "\n",
       "  choice_description item_price  new_price  \n",
       "0                NaN     $2.39        2.39  \n",
       "3                NaN     $2.39        2.39  \n",
       "6                NaN     $1.69        1.69  "
      ]
     },
     "execution_count": 27,
     "metadata": {},
     "output_type": "execute_result"
    }
   ],
   "source": [
    "# Question 29 : df의 item_name 컬럼 값 중 Chips 포함하는 경우의 데이터를 출력하라.\n",
    "df_q28 = df[df['item_name'].str.contains('Chips')]\n",
    "df_q28.head(3)"
   ]
  },
  {
   "cell_type": "code",
   "execution_count": 28,
   "id": "3ec064f9",
   "metadata": {
    "ExecuteTime": {
     "end_time": "2023-09-12T00:41:28.474717Z",
     "start_time": "2023-09-12T00:41:28.469718Z"
    }
   },
   "outputs": [
    {
     "data": {
      "text/html": [
       "<div>\n",
       "<style scoped>\n",
       "    .dataframe tbody tr th:only-of-type {\n",
       "        vertical-align: middle;\n",
       "    }\n",
       "\n",
       "    .dataframe tbody tr th {\n",
       "        vertical-align: top;\n",
       "    }\n",
       "\n",
       "    .dataframe thead th {\n",
       "        text-align: right;\n",
       "    }\n",
       "</style>\n",
       "<table border=\"1\" class=\"dataframe\">\n",
       "  <thead>\n",
       "    <tr style=\"text-align: right;\">\n",
       "      <th></th>\n",
       "      <th>order_id</th>\n",
       "      <th>item_name</th>\n",
       "      <th>item_price</th>\n",
       "    </tr>\n",
       "  </thead>\n",
       "  <tbody>\n",
       "    <tr>\n",
       "      <th>0</th>\n",
       "      <td>1</td>\n",
       "      <td>Chips and Fresh Tomato Salsa</td>\n",
       "      <td>$2.39</td>\n",
       "    </tr>\n",
       "    <tr>\n",
       "      <th>1</th>\n",
       "      <td>1</td>\n",
       "      <td>Izze</td>\n",
       "      <td>$3.39</td>\n",
       "    </tr>\n",
       "    <tr>\n",
       "      <th>2</th>\n",
       "      <td>1</td>\n",
       "      <td>Nantucket Nectar</td>\n",
       "      <td>$3.39</td>\n",
       "    </tr>\n",
       "  </tbody>\n",
       "</table>\n",
       "</div>"
      ],
      "text/plain": [
       "   order_id                     item_name item_price\n",
       "0         1  Chips and Fresh Tomato Salsa     $2.39 \n",
       "1         1                          Izze     $3.39 \n",
       "2         1              Nantucket Nectar     $3.39 "
      ]
     },
     "execution_count": 28,
     "metadata": {},
     "output_type": "execute_result"
    }
   ],
   "source": [
    "# Question 30 : df의 짝수번째 컬람만을 포함하는 데이터 프레임을 출력하라.\n",
    "df_q30 = df.iloc[:, ::2]\n",
    "df_q30.head(3)"
   ]
  },
  {
   "cell_type": "code",
   "execution_count": 29,
   "id": "cf096f2b",
   "metadata": {
    "ExecuteTime": {
     "end_time": "2023-09-12T00:41:28.483332Z",
     "start_time": "2023-09-12T00:41:28.475916Z"
    }
   },
   "outputs": [
    {
     "data": {
      "text/html": [
       "<div>\n",
       "<style scoped>\n",
       "    .dataframe tbody tr th:only-of-type {\n",
       "        vertical-align: middle;\n",
       "    }\n",
       "\n",
       "    .dataframe tbody tr th {\n",
       "        vertical-align: top;\n",
       "    }\n",
       "\n",
       "    .dataframe thead th {\n",
       "        text-align: right;\n",
       "    }\n",
       "</style>\n",
       "<table border=\"1\" class=\"dataframe\">\n",
       "  <thead>\n",
       "    <tr style=\"text-align: right;\">\n",
       "      <th></th>\n",
       "      <th>order_id</th>\n",
       "      <th>quantity</th>\n",
       "      <th>item_name</th>\n",
       "      <th>choice_description</th>\n",
       "      <th>item_price</th>\n",
       "      <th>new_price</th>\n",
       "    </tr>\n",
       "  </thead>\n",
       "  <tbody>\n",
       "    <tr>\n",
       "      <th>0</th>\n",
       "      <td>1443</td>\n",
       "      <td>15</td>\n",
       "      <td>Chips and Fresh Tomato Salsa</td>\n",
       "      <td>NaN</td>\n",
       "      <td>$44.25</td>\n",
       "      <td>44.25</td>\n",
       "    </tr>\n",
       "    <tr>\n",
       "      <th>1</th>\n",
       "      <td>1398</td>\n",
       "      <td>3</td>\n",
       "      <td>Carnitas Bowl</td>\n",
       "      <td>[Roasted Chili Corn Salsa, [Fajita Vegetables,...</td>\n",
       "      <td>$35.25</td>\n",
       "      <td>35.25</td>\n",
       "    </tr>\n",
       "    <tr>\n",
       "      <th>2</th>\n",
       "      <td>511</td>\n",
       "      <td>4</td>\n",
       "      <td>Chicken Burrito</td>\n",
       "      <td>[Fresh Tomato Salsa, [Fajita Vegetables, Rice,...</td>\n",
       "      <td>$35.00</td>\n",
       "      <td>35.00</td>\n",
       "    </tr>\n",
       "  </tbody>\n",
       "</table>\n",
       "</div>"
      ],
      "text/plain": [
       "   order_id  quantity                     item_name  \\\n",
       "0      1443        15  Chips and Fresh Tomato Salsa   \n",
       "1      1398         3                 Carnitas Bowl   \n",
       "2       511         4               Chicken Burrito   \n",
       "\n",
       "                                  choice_description item_price  new_price  \n",
       "0                                                NaN    $44.25       44.25  \n",
       "1  [Roasted Chili Corn Salsa, [Fajita Vegetables,...    $35.25       35.25  \n",
       "2  [Fresh Tomato Salsa, [Fajita Vegetables, Rice,...    $35.00       35.00  "
      ]
     },
     "execution_count": 29,
     "metadata": {},
     "output_type": "execute_result"
    }
   ],
   "source": [
    "# Question 31 : df의 new_price 컬럼 값에 따라 내림차순으로 정리하고 index를 초기화하여라.\n",
    "df_q31 = df.sort_values('new_price', ascending = False).reset_index(drop = True)\n",
    "df_q31.head(3)"
   ]
  },
  {
   "cell_type": "code",
   "execution_count": 30,
   "id": "c329bd86",
   "metadata": {
    "ExecuteTime": {
     "end_time": "2023-09-12T00:41:28.490982Z",
     "start_time": "2023-09-12T00:41:28.484479Z"
    }
   },
   "outputs": [
    {
     "data": {
      "text/html": [
       "<div>\n",
       "<style scoped>\n",
       "    .dataframe tbody tr th:only-of-type {\n",
       "        vertical-align: middle;\n",
       "    }\n",
       "\n",
       "    .dataframe tbody tr th {\n",
       "        vertical-align: top;\n",
       "    }\n",
       "\n",
       "    .dataframe thead th {\n",
       "        text-align: right;\n",
       "    }\n",
       "</style>\n",
       "<table border=\"1\" class=\"dataframe\">\n",
       "  <thead>\n",
       "    <tr style=\"text-align: right;\">\n",
       "      <th></th>\n",
       "      <th>order_id</th>\n",
       "      <th>quantity</th>\n",
       "      <th>item_name</th>\n",
       "      <th>choice_description</th>\n",
       "      <th>item_price</th>\n",
       "      <th>new_price</th>\n",
       "    </tr>\n",
       "  </thead>\n",
       "  <tbody>\n",
       "    <tr>\n",
       "      <th>445</th>\n",
       "      <td>193</td>\n",
       "      <td>3</td>\n",
       "      <td>Bowl</td>\n",
       "      <td>[Braised Carnitas, Pinto Beans, [Sour Cream, C...</td>\n",
       "      <td>$22.20</td>\n",
       "      <td>22.20</td>\n",
       "    </tr>\n",
       "    <tr>\n",
       "      <th>664</th>\n",
       "      <td>276</td>\n",
       "      <td>1</td>\n",
       "      <td>Steak Salad</td>\n",
       "      <td>[Tomatillo-Red Chili Salsa (Hot), [Black Beans...</td>\n",
       "      <td>$8.99</td>\n",
       "      <td>8.99</td>\n",
       "    </tr>\n",
       "    <tr>\n",
       "      <th>673</th>\n",
       "      <td>279</td>\n",
       "      <td>1</td>\n",
       "      <td>Bowl</td>\n",
       "      <td>[Adobo-Marinated and Grilled Steak, [Sour Crea...</td>\n",
       "      <td>$7.40</td>\n",
       "      <td>7.40</td>\n",
       "    </tr>\n",
       "  </tbody>\n",
       "</table>\n",
       "</div>"
      ],
      "text/plain": [
       "     order_id  quantity    item_name  \\\n",
       "445       193         3         Bowl   \n",
       "664       276         1  Steak Salad   \n",
       "673       279         1         Bowl   \n",
       "\n",
       "                                    choice_description item_price  new_price  \n",
       "445  [Braised Carnitas, Pinto Beans, [Sour Cream, C...    $22.20       22.20  \n",
       "664  [Tomatillo-Red Chili Salsa (Hot), [Black Beans...     $8.99        8.99  \n",
       "673  [Adobo-Marinated and Grilled Steak, [Sour Crea...     $7.40        7.40  "
      ]
     },
     "execution_count": 30,
     "metadata": {},
     "output_type": "execute_result"
    }
   ],
   "source": [
    "# Question 32 : df의 item_name 컬럼값이 Steak Salad 또는 Bowl인 데이터를 인덱싱하라.\n",
    "df_q32 = df[df['item_name'].isin(['Steak Salad', 'Bowl'])]\n",
    "df_q32.head(3)"
   ]
  },
  {
   "cell_type": "code",
   "execution_count": 31,
   "id": "2f37ba1b",
   "metadata": {
    "ExecuteTime": {
     "end_time": "2023-09-12T00:41:28.500440Z",
     "start_time": "2023-09-12T00:41:28.492302Z"
    }
   },
   "outputs": [
    {
     "data": {
      "text/html": [
       "<div>\n",
       "<style scoped>\n",
       "    .dataframe tbody tr th:only-of-type {\n",
       "        vertical-align: middle;\n",
       "    }\n",
       "\n",
       "    .dataframe tbody tr th {\n",
       "        vertical-align: top;\n",
       "    }\n",
       "\n",
       "    .dataframe thead th {\n",
       "        text-align: right;\n",
       "    }\n",
       "</style>\n",
       "<table border=\"1\" class=\"dataframe\">\n",
       "  <thead>\n",
       "    <tr style=\"text-align: right;\">\n",
       "      <th></th>\n",
       "      <th>order_id</th>\n",
       "      <th>quantity</th>\n",
       "      <th>item_name</th>\n",
       "      <th>choice_description</th>\n",
       "      <th>item_price</th>\n",
       "      <th>new_price</th>\n",
       "    </tr>\n",
       "  </thead>\n",
       "  <tbody>\n",
       "    <tr>\n",
       "      <th>445</th>\n",
       "      <td>193</td>\n",
       "      <td>3</td>\n",
       "      <td>Bowl</td>\n",
       "      <td>[Braised Carnitas, Pinto Beans, [Sour Cream, C...</td>\n",
       "      <td>$22.20</td>\n",
       "      <td>22.20</td>\n",
       "    </tr>\n",
       "    <tr>\n",
       "      <th>664</th>\n",
       "      <td>276</td>\n",
       "      <td>1</td>\n",
       "      <td>Steak Salad</td>\n",
       "      <td>[Tomatillo-Red Chili Salsa (Hot), [Black Beans...</td>\n",
       "      <td>$8.99</td>\n",
       "      <td>8.99</td>\n",
       "    </tr>\n",
       "  </tbody>\n",
       "</table>\n",
       "</div>"
      ],
      "text/plain": [
       "     order_id  quantity    item_name  \\\n",
       "445       193         3         Bowl   \n",
       "664       276         1  Steak Salad   \n",
       "\n",
       "                                    choice_description item_price  new_price  \n",
       "445  [Braised Carnitas, Pinto Beans, [Sour Cream, C...    $22.20       22.20  \n",
       "664  [Tomatillo-Red Chili Salsa (Hot), [Black Beans...     $8.99        8.99  "
      ]
     },
     "execution_count": 31,
     "metadata": {},
     "output_type": "execute_result"
    }
   ],
   "source": [
    "# Question 33 : df의 item_name 컬럼 값이 Steak Salad 또는 Bowl인 데이터를 데이터 프레임 한 후,\n",
    "# item_name을 기준으로 중복행이 있으면 제거하되 첫번째 케이스만 남겨라.\n",
    "df_q31 = df[df['item_name'].isin(['Steak Salad', 'Bowl'])].drop_duplicates('item_name')\n",
    "df_q31.head(3)"
   ]
  },
  {
   "cell_type": "code",
   "execution_count": 32,
   "id": "681b7b97",
   "metadata": {
    "ExecuteTime": {
     "end_time": "2023-09-12T00:41:28.511024Z",
     "start_time": "2023-09-12T00:41:28.501917Z"
    }
   },
   "outputs": [
    {
     "data": {
      "text/html": [
       "<div>\n",
       "<style scoped>\n",
       "    .dataframe tbody tr th:only-of-type {\n",
       "        vertical-align: middle;\n",
       "    }\n",
       "\n",
       "    .dataframe tbody tr th {\n",
       "        vertical-align: top;\n",
       "    }\n",
       "\n",
       "    .dataframe thead th {\n",
       "        text-align: right;\n",
       "    }\n",
       "</style>\n",
       "<table border=\"1\" class=\"dataframe\">\n",
       "  <thead>\n",
       "    <tr style=\"text-align: right;\">\n",
       "      <th></th>\n",
       "      <th>order_id</th>\n",
       "      <th>quantity</th>\n",
       "      <th>item_name</th>\n",
       "      <th>choice_description</th>\n",
       "      <th>item_price</th>\n",
       "      <th>new_price</th>\n",
       "    </tr>\n",
       "  </thead>\n",
       "  <tbody>\n",
       "    <tr>\n",
       "      <th>673</th>\n",
       "      <td>279</td>\n",
       "      <td>1</td>\n",
       "      <td>Bowl</td>\n",
       "      <td>[Adobo-Marinated and Grilled Steak, [Sour Crea...</td>\n",
       "      <td>$7.40</td>\n",
       "      <td>7.40</td>\n",
       "    </tr>\n",
       "    <tr>\n",
       "      <th>3502</th>\n",
       "      <td>1406</td>\n",
       "      <td>1</td>\n",
       "      <td>Steak Salad</td>\n",
       "      <td>[[Lettuce, Fajita Veggies]]</td>\n",
       "      <td>$8.69</td>\n",
       "      <td>8.69</td>\n",
       "    </tr>\n",
       "  </tbody>\n",
       "</table>\n",
       "</div>"
      ],
      "text/plain": [
       "      order_id  quantity    item_name  \\\n",
       "673        279         1         Bowl   \n",
       "3502      1406         1  Steak Salad   \n",
       "\n",
       "                                     choice_description item_price  new_price  \n",
       "673   [Adobo-Marinated and Grilled Steak, [Sour Crea...     $7.40        7.40  \n",
       "3502                        [[Lettuce, Fajita Veggies]]     $8.69        8.69  "
      ]
     },
     "execution_count": 32,
     "metadata": {},
     "output_type": "execute_result"
    }
   ],
   "source": [
    "# Question 34 : df의 item_name 컬럼값이 Steak Sald 또는 Bowl인 데이터를 데이터 프레임화 한 후,\n",
    "# item_name을 기준으로 중복 행이 있으면 제거하되, 마지막 케이스만 남겨라\n",
    "df_q32 = df[df['item_name'].isin(['Steak Salad', 'Bowl'])].drop_duplicates('item_name', keep = 'last')\n",
    "df_q32.head(3)"
   ]
  },
  {
   "cell_type": "code",
   "execution_count": 33,
   "id": "4d8f531a",
   "metadata": {
    "ExecuteTime": {
     "end_time": "2023-09-12T00:41:28.519774Z",
     "start_time": "2023-09-12T00:41:28.512233Z"
    }
   },
   "outputs": [
    {
     "data": {
      "text/html": [
       "<div>\n",
       "<style scoped>\n",
       "    .dataframe tbody tr th:only-of-type {\n",
       "        vertical-align: middle;\n",
       "    }\n",
       "\n",
       "    .dataframe tbody tr th {\n",
       "        vertical-align: top;\n",
       "    }\n",
       "\n",
       "    .dataframe thead th {\n",
       "        text-align: right;\n",
       "    }\n",
       "</style>\n",
       "<table border=\"1\" class=\"dataframe\">\n",
       "  <thead>\n",
       "    <tr style=\"text-align: right;\">\n",
       "      <th></th>\n",
       "      <th>order_id</th>\n",
       "      <th>quantity</th>\n",
       "      <th>item_name</th>\n",
       "      <th>choice_description</th>\n",
       "      <th>item_price</th>\n",
       "      <th>new_price</th>\n",
       "    </tr>\n",
       "  </thead>\n",
       "  <tbody>\n",
       "    <tr>\n",
       "      <th>4</th>\n",
       "      <td>2</td>\n",
       "      <td>2</td>\n",
       "      <td>Chicken Bowl</td>\n",
       "      <td>[Tomatillo-Red Chili Salsa (Hot), [Black Beans...</td>\n",
       "      <td>$16.98</td>\n",
       "      <td>16.98</td>\n",
       "    </tr>\n",
       "    <tr>\n",
       "      <th>5</th>\n",
       "      <td>3</td>\n",
       "      <td>1</td>\n",
       "      <td>Chicken Bowl</td>\n",
       "      <td>[Fresh Tomato Salsa (Mild), [Rice, Cheese, Sou...</td>\n",
       "      <td>$10.98</td>\n",
       "      <td>10.98</td>\n",
       "    </tr>\n",
       "    <tr>\n",
       "      <th>7</th>\n",
       "      <td>4</td>\n",
       "      <td>1</td>\n",
       "      <td>Steak Burrito</td>\n",
       "      <td>[Tomatillo Red Chili Salsa, [Fajita Vegetables...</td>\n",
       "      <td>$11.75</td>\n",
       "      <td>11.75</td>\n",
       "    </tr>\n",
       "  </tbody>\n",
       "</table>\n",
       "</div>"
      ],
      "text/plain": [
       "   order_id  quantity      item_name  \\\n",
       "4         2         2   Chicken Bowl   \n",
       "5         3         1   Chicken Bowl   \n",
       "7         4         1  Steak Burrito   \n",
       "\n",
       "                                  choice_description item_price  new_price  \n",
       "4  [Tomatillo-Red Chili Salsa (Hot), [Black Beans...    $16.98       16.98  \n",
       "5  [Fresh Tomato Salsa (Mild), [Rice, Cheese, Sou...    $10.98       10.98  \n",
       "7  [Tomatillo Red Chili Salsa, [Fajita Vegetables...    $11.75       11.75  "
      ]
     },
     "execution_count": 33,
     "metadata": {},
     "output_type": "execute_result"
    }
   ],
   "source": [
    "# Question 35 : df의 데이터 중 new_price 값이 new_price 값의 평균값 이상을 가지는 데이터들을 인덱싱하라.\n",
    "mean_price = df['new_price'].mean()\n",
    "df_q35 = df[df['new_price'] >= mean_price]\n",
    "df_q35.head(3)"
   ]
  },
  {
   "cell_type": "code",
   "execution_count": 34,
   "id": "160a46ec",
   "metadata": {
    "ExecuteTime": {
     "end_time": "2023-09-12T00:41:28.525449Z",
     "start_time": "2023-09-12T00:41:28.520939Z"
    }
   },
   "outputs": [
    {
     "data": {
      "text/plain": [
       "0    Chips and Fresh Tomato Salsa\n",
       "1                     Fizzy Lizzy\n",
       "2                Nantucket Nectar\n",
       "Name: item_name, dtype: object"
      ]
     },
     "execution_count": 34,
     "metadata": {},
     "output_type": "execute_result"
    }
   ],
   "source": [
    "# Question 36 : df의 데이터 중 item_name의 값이 lzze 데이터를 Fizzy Lizzy로 수정하라.\n",
    "df['item_name'].replace({'Izze' : 'Fizzy Lizzy'}, inplace = True)\n",
    "df['item_name'].head(3)"
   ]
  },
  {
   "cell_type": "code",
   "execution_count": 35,
   "id": "8f13a56f",
   "metadata": {
    "ExecuteTime": {
     "end_time": "2023-09-12T00:41:28.529189Z",
     "start_time": "2023-09-12T00:41:28.526512Z"
    }
   },
   "outputs": [
    {
     "name": "stdout",
     "output_type": "stream",
     "text": [
      "1246\n"
     ]
    }
   ],
   "source": [
    "# Question 37 : df 데이터 중 choice_description 값이 NaN인 데이터의 갯수를 구하여라.\n",
    "print(df['choice_description'].isnull().sum())"
   ]
  },
  {
   "cell_type": "code",
   "execution_count": 36,
   "id": "e536b850",
   "metadata": {
    "ExecuteTime": {
     "end_time": "2023-09-12T00:41:28.533781Z",
     "start_time": "2023-09-12T00:41:28.530143Z"
    }
   },
   "outputs": [
    {
     "name": "stdout",
     "output_type": "stream",
     "text": [
      "0\n"
     ]
    }
   ],
   "source": [
    "# Question 38 : df 데이터 중 choice_description 값이 NaN인 데이터를 NoData 값으로 대체하라.(loc 이용)\n",
    "df.loc[df['choice_description'].isnull(), 'choice_description'] = 'NoData'\n",
    "print(df['choice_description'].isnull().sum())"
   ]
  },
  {
   "cell_type": "code",
   "execution_count": 37,
   "id": "8a35a3aa",
   "metadata": {
    "ExecuteTime": {
     "end_time": "2023-09-12T00:41:28.543057Z",
     "start_time": "2023-09-12T00:41:28.534911Z"
    }
   },
   "outputs": [
    {
     "data": {
      "text/html": [
       "<div>\n",
       "<style scoped>\n",
       "    .dataframe tbody tr th:only-of-type {\n",
       "        vertical-align: middle;\n",
       "    }\n",
       "\n",
       "    .dataframe tbody tr th {\n",
       "        vertical-align: top;\n",
       "    }\n",
       "\n",
       "    .dataframe thead th {\n",
       "        text-align: right;\n",
       "    }\n",
       "</style>\n",
       "<table border=\"1\" class=\"dataframe\">\n",
       "  <thead>\n",
       "    <tr style=\"text-align: right;\">\n",
       "      <th></th>\n",
       "      <th>order_id</th>\n",
       "      <th>quantity</th>\n",
       "      <th>item_name</th>\n",
       "      <th>choice_description</th>\n",
       "      <th>item_price</th>\n",
       "      <th>new_price</th>\n",
       "    </tr>\n",
       "  </thead>\n",
       "  <tbody>\n",
       "    <tr>\n",
       "      <th>4</th>\n",
       "      <td>2</td>\n",
       "      <td>2</td>\n",
       "      <td>Chicken Bowl</td>\n",
       "      <td>[Tomatillo-Red Chili Salsa (Hot), [Black Beans...</td>\n",
       "      <td>$16.98</td>\n",
       "      <td>16.98</td>\n",
       "    </tr>\n",
       "    <tr>\n",
       "      <th>7</th>\n",
       "      <td>4</td>\n",
       "      <td>1</td>\n",
       "      <td>Steak Burrito</td>\n",
       "      <td>[Tomatillo Red Chili Salsa, [Fajita Vegetables...</td>\n",
       "      <td>$11.75</td>\n",
       "      <td>11.75</td>\n",
       "    </tr>\n",
       "    <tr>\n",
       "      <th>9</th>\n",
       "      <td>5</td>\n",
       "      <td>1</td>\n",
       "      <td>Steak Burrito</td>\n",
       "      <td>[Fresh Tomato Salsa, [Rice, Black Beans, Pinto...</td>\n",
       "      <td>$9.25</td>\n",
       "      <td>9.25</td>\n",
       "    </tr>\n",
       "  </tbody>\n",
       "</table>\n",
       "</div>"
      ],
      "text/plain": [
       "   order_id  quantity      item_name  \\\n",
       "4         2         2   Chicken Bowl   \n",
       "7         4         1  Steak Burrito   \n",
       "9         5         1  Steak Burrito   \n",
       "\n",
       "                                  choice_description item_price  new_price  \n",
       "4  [Tomatillo-Red Chili Salsa (Hot), [Black Beans...    $16.98       16.98  \n",
       "7  [Tomatillo Red Chili Salsa, [Fajita Vegetables...    $11.75       11.75  \n",
       "9  [Fresh Tomato Salsa, [Rice, Black Beans, Pinto...     $9.25        9.25  "
      ]
     },
     "execution_count": 37,
     "metadata": {},
     "output_type": "execute_result"
    }
   ],
   "source": [
    "# Question 39 : df의 데이터 중 choice_description 값에 Black이 들어가는 경우를 인덱싱하라.\n",
    "df_q39 = df[df['choice_description'].str.contains('Black')]\n",
    "df_q39.head(3)"
   ]
  },
  {
   "cell_type": "code",
   "execution_count": 38,
   "id": "221b9e46",
   "metadata": {
    "ExecuteTime": {
     "end_time": "2023-09-12T00:41:28.551533Z",
     "start_time": "2023-09-12T00:41:28.544133Z"
    }
   },
   "outputs": [
    {
     "data": {
      "text/html": [
       "<div>\n",
       "<style scoped>\n",
       "    .dataframe tbody tr th:only-of-type {\n",
       "        vertical-align: middle;\n",
       "    }\n",
       "\n",
       "    .dataframe tbody tr th {\n",
       "        vertical-align: top;\n",
       "    }\n",
       "\n",
       "    .dataframe thead th {\n",
       "        text-align: right;\n",
       "    }\n",
       "</style>\n",
       "<table border=\"1\" class=\"dataframe\">\n",
       "  <thead>\n",
       "    <tr style=\"text-align: right;\">\n",
       "      <th></th>\n",
       "      <th>order_id</th>\n",
       "      <th>quantity</th>\n",
       "      <th>item_name</th>\n",
       "      <th>choice_description</th>\n",
       "      <th>item_price</th>\n",
       "      <th>new_price</th>\n",
       "    </tr>\n",
       "  </thead>\n",
       "  <tbody>\n",
       "    <tr>\n",
       "      <th>0</th>\n",
       "      <td>1</td>\n",
       "      <td>1</td>\n",
       "      <td>Chips and Fresh Tomato Salsa</td>\n",
       "      <td>NoData</td>\n",
       "      <td>$2.39</td>\n",
       "      <td>2.39</td>\n",
       "    </tr>\n",
       "    <tr>\n",
       "      <th>1</th>\n",
       "      <td>1</td>\n",
       "      <td>1</td>\n",
       "      <td>Fizzy Lizzy</td>\n",
       "      <td>[Clementine]</td>\n",
       "      <td>$3.39</td>\n",
       "      <td>3.39</td>\n",
       "    </tr>\n",
       "    <tr>\n",
       "      <th>2</th>\n",
       "      <td>1</td>\n",
       "      <td>1</td>\n",
       "      <td>Nantucket Nectar</td>\n",
       "      <td>[Apple]</td>\n",
       "      <td>$3.39</td>\n",
       "      <td>3.39</td>\n",
       "    </tr>\n",
       "  </tbody>\n",
       "</table>\n",
       "</div>"
      ],
      "text/plain": [
       "   order_id  quantity                     item_name choice_description  \\\n",
       "0         1         1  Chips and Fresh Tomato Salsa             NoData   \n",
       "1         1         1                   Fizzy Lizzy       [Clementine]   \n",
       "2         1         1              Nantucket Nectar            [Apple]   \n",
       "\n",
       "  item_price  new_price  \n",
       "0     $2.39        2.39  \n",
       "1     $3.39        3.39  \n",
       "2     $3.39        3.39  "
      ]
     },
     "execution_count": 38,
     "metadata": {},
     "output_type": "execute_result"
    }
   ],
   "source": [
    "# Question 40 : df의 데이터 중 choice_decription 값에 Vegetables 들어가지 않는 경우의 갯수를 출력하라.\n",
    "df_q40 = df[~df['choice_description'].str.contains('Vegetables')]\n",
    "df_q40.head(3)"
   ]
  },
  {
   "cell_type": "code",
   "execution_count": 39,
   "id": "3f44a0e6",
   "metadata": {
    "ExecuteTime": {
     "end_time": "2023-09-12T00:41:28.559933Z",
     "start_time": "2023-09-12T00:41:28.552534Z"
    }
   },
   "outputs": [
    {
     "data": {
      "text/html": [
       "<div>\n",
       "<style scoped>\n",
       "    .dataframe tbody tr th:only-of-type {\n",
       "        vertical-align: middle;\n",
       "    }\n",
       "\n",
       "    .dataframe tbody tr th {\n",
       "        vertical-align: top;\n",
       "    }\n",
       "\n",
       "    .dataframe thead th {\n",
       "        text-align: right;\n",
       "    }\n",
       "</style>\n",
       "<table border=\"1\" class=\"dataframe\">\n",
       "  <thead>\n",
       "    <tr style=\"text-align: right;\">\n",
       "      <th></th>\n",
       "      <th>order_id</th>\n",
       "      <th>quantity</th>\n",
       "      <th>item_name</th>\n",
       "      <th>choice_description</th>\n",
       "      <th>item_price</th>\n",
       "      <th>new_price</th>\n",
       "    </tr>\n",
       "  </thead>\n",
       "  <tbody>\n",
       "    <tr>\n",
       "      <th>2</th>\n",
       "      <td>1</td>\n",
       "      <td>1</td>\n",
       "      <td>Nantucket Nectar</td>\n",
       "      <td>[Apple]</td>\n",
       "      <td>$3.39</td>\n",
       "      <td>3.39</td>\n",
       "    </tr>\n",
       "    <tr>\n",
       "      <th>22</th>\n",
       "      <td>11</td>\n",
       "      <td>1</td>\n",
       "      <td>Nantucket Nectar</td>\n",
       "      <td>[Pomegranate Cherry]</td>\n",
       "      <td>$3.39</td>\n",
       "      <td>3.39</td>\n",
       "    </tr>\n",
       "    <tr>\n",
       "      <th>105</th>\n",
       "      <td>46</td>\n",
       "      <td>1</td>\n",
       "      <td>Nantucket Nectar</td>\n",
       "      <td>[Pineapple Orange Banana]</td>\n",
       "      <td>$3.39</td>\n",
       "      <td>3.39</td>\n",
       "    </tr>\n",
       "  </tbody>\n",
       "</table>\n",
       "</div>"
      ],
      "text/plain": [
       "     order_id  quantity         item_name         choice_description  \\\n",
       "2           1         1  Nantucket Nectar                    [Apple]   \n",
       "22         11         1  Nantucket Nectar       [Pomegranate Cherry]   \n",
       "105        46         1  Nantucket Nectar  [Pineapple Orange Banana]   \n",
       "\n",
       "    item_price  new_price  \n",
       "2       $3.39        3.39  \n",
       "22      $3.39        3.39  \n",
       "105     $3.39        3.39  "
      ]
     },
     "execution_count": 39,
     "metadata": {},
     "output_type": "execute_result"
    }
   ],
   "source": [
    "# Question 41 : df의 데이터 중 item_name 값이 N으로 시작하는 데이터를 모두 출력하라.\n",
    "df_q41 = df[df['item_name'].str.startswith('N')]\n",
    "df_q41.head(3)"
   ]
  },
  {
   "cell_type": "code",
   "execution_count": 40,
   "id": "2253485f",
   "metadata": {
    "ExecuteTime": {
     "end_time": "2023-09-12T00:41:28.568279Z",
     "start_time": "2023-09-12T00:41:28.560893Z"
    }
   },
   "outputs": [
    {
     "data": {
      "text/html": [
       "<div>\n",
       "<style scoped>\n",
       "    .dataframe tbody tr th:only-of-type {\n",
       "        vertical-align: middle;\n",
       "    }\n",
       "\n",
       "    .dataframe tbody tr th {\n",
       "        vertical-align: top;\n",
       "    }\n",
       "\n",
       "    .dataframe thead th {\n",
       "        text-align: right;\n",
       "    }\n",
       "</style>\n",
       "<table border=\"1\" class=\"dataframe\">\n",
       "  <thead>\n",
       "    <tr style=\"text-align: right;\">\n",
       "      <th></th>\n",
       "      <th>order_id</th>\n",
       "      <th>quantity</th>\n",
       "      <th>item_name</th>\n",
       "      <th>choice_description</th>\n",
       "      <th>item_price</th>\n",
       "      <th>new_price</th>\n",
       "    </tr>\n",
       "  </thead>\n",
       "  <tbody>\n",
       "    <tr>\n",
       "      <th>0</th>\n",
       "      <td>1</td>\n",
       "      <td>1</td>\n",
       "      <td>Chips and Fresh Tomato Salsa</td>\n",
       "      <td>NoData</td>\n",
       "      <td>$2.39</td>\n",
       "      <td>2.39</td>\n",
       "    </tr>\n",
       "    <tr>\n",
       "      <th>2</th>\n",
       "      <td>1</td>\n",
       "      <td>1</td>\n",
       "      <td>Nantucket Nectar</td>\n",
       "      <td>[Apple]</td>\n",
       "      <td>$3.39</td>\n",
       "      <td>3.39</td>\n",
       "    </tr>\n",
       "    <tr>\n",
       "      <th>3</th>\n",
       "      <td>1</td>\n",
       "      <td>1</td>\n",
       "      <td>Chips and Tomatillo-Green Chili Salsa</td>\n",
       "      <td>NoData</td>\n",
       "      <td>$2.39</td>\n",
       "      <td>2.39</td>\n",
       "    </tr>\n",
       "  </tbody>\n",
       "</table>\n",
       "</div>"
      ],
      "text/plain": [
       "   order_id  quantity                              item_name  \\\n",
       "0         1         1           Chips and Fresh Tomato Salsa   \n",
       "2         1         1                       Nantucket Nectar   \n",
       "3         1         1  Chips and Tomatillo-Green Chili Salsa   \n",
       "\n",
       "  choice_description item_price  new_price  \n",
       "0             NoData     $2.39        2.39  \n",
       "2            [Apple]     $3.39        3.39  \n",
       "3             NoData     $2.39        2.39  "
      ]
     },
     "execution_count": 40,
     "metadata": {},
     "output_type": "execute_result"
    }
   ],
   "source": [
    "# Question 42 : df의 데이터 중 item_name 값의 단어갯수가 15개 이상인 데이터를 인덱싱하라.\n",
    "df_q42 = df[df['item_name'].str.len() >= 15]\n",
    "df_q42.head(3)"
   ]
  },
  {
   "cell_type": "code",
   "execution_count": 41,
   "id": "6529735a",
   "metadata": {
    "ExecuteTime": {
     "end_time": "2023-09-12T00:41:28.572897Z",
     "start_time": "2023-09-12T00:41:28.569502Z"
    }
   },
   "outputs": [
    {
     "name": "stdout",
     "output_type": "stream",
     "text": [
      "1393\n"
     ]
    }
   ],
   "source": [
    "# Question 43 : df의 데이터 중 new_price 값이 lst에 해당하는 겨웅의 데이터 프레임을 구하고 그 갯수를 출력하라\n",
    "lst = [1.69, 2.39, 3.39, 4.45, 9.25, 10.98, 11.75, 16.98]\n",
    "df_q43 = df[df['new_price'].isin(lst)]\n",
    "print(len(df_q43))"
   ]
  },
  {
   "cell_type": "markdown",
   "id": "7e4bfd09",
   "metadata": {},
   "source": [
    "# Grouping"
   ]
  },
  {
   "cell_type": "code",
   "execution_count": 42,
   "id": "7be5663e",
   "metadata": {
    "ExecuteTime": {
     "end_time": "2023-09-12T00:41:29.330337Z",
     "start_time": "2023-09-12T00:41:28.574336Z"
    }
   },
   "outputs": [
    {
     "data": {
      "text/html": [
       "<div>\n",
       "<style scoped>\n",
       "    .dataframe tbody tr th:only-of-type {\n",
       "        vertical-align: middle;\n",
       "    }\n",
       "\n",
       "    .dataframe tbody tr th {\n",
       "        vertical-align: top;\n",
       "    }\n",
       "\n",
       "    .dataframe thead th {\n",
       "        text-align: right;\n",
       "    }\n",
       "</style>\n",
       "<table border=\"1\" class=\"dataframe\">\n",
       "  <thead>\n",
       "    <tr style=\"text-align: right;\">\n",
       "      <th></th>\n",
       "      <th>id</th>\n",
       "      <th>name</th>\n",
       "      <th>host_id</th>\n",
       "      <th>host_name</th>\n",
       "      <th>neighbourhood_group</th>\n",
       "      <th>neighbourhood</th>\n",
       "      <th>latitude</th>\n",
       "      <th>longitude</th>\n",
       "      <th>room_type</th>\n",
       "      <th>price</th>\n",
       "      <th>minimum_nights</th>\n",
       "      <th>number_of_reviews</th>\n",
       "      <th>last_review</th>\n",
       "      <th>reviews_per_month</th>\n",
       "      <th>calculated_host_listings_count</th>\n",
       "      <th>availability_365</th>\n",
       "    </tr>\n",
       "  </thead>\n",
       "  <tbody>\n",
       "    <tr>\n",
       "      <th>0</th>\n",
       "      <td>2539</td>\n",
       "      <td>Clean &amp; quiet apt home by the park</td>\n",
       "      <td>2787</td>\n",
       "      <td>John</td>\n",
       "      <td>Brooklyn</td>\n",
       "      <td>Kensington</td>\n",
       "      <td>40.64749</td>\n",
       "      <td>-73.97237</td>\n",
       "      <td>Private room</td>\n",
       "      <td>149</td>\n",
       "      <td>1</td>\n",
       "      <td>9</td>\n",
       "      <td>2018-10-19</td>\n",
       "      <td>0.21</td>\n",
       "      <td>6</td>\n",
       "      <td>365</td>\n",
       "    </tr>\n",
       "    <tr>\n",
       "      <th>1</th>\n",
       "      <td>2595</td>\n",
       "      <td>Skylit Midtown Castle</td>\n",
       "      <td>2845</td>\n",
       "      <td>Jennifer</td>\n",
       "      <td>Manhattan</td>\n",
       "      <td>Midtown</td>\n",
       "      <td>40.75362</td>\n",
       "      <td>-73.98377</td>\n",
       "      <td>Entire home/apt</td>\n",
       "      <td>225</td>\n",
       "      <td>1</td>\n",
       "      <td>45</td>\n",
       "      <td>2019-05-21</td>\n",
       "      <td>0.38</td>\n",
       "      <td>2</td>\n",
       "      <td>355</td>\n",
       "    </tr>\n",
       "    <tr>\n",
       "      <th>2</th>\n",
       "      <td>3647</td>\n",
       "      <td>THE VILLAGE OF HARLEM....NEW YORK !</td>\n",
       "      <td>4632</td>\n",
       "      <td>Elisabeth</td>\n",
       "      <td>Manhattan</td>\n",
       "      <td>Harlem</td>\n",
       "      <td>40.80902</td>\n",
       "      <td>-73.94190</td>\n",
       "      <td>Private room</td>\n",
       "      <td>150</td>\n",
       "      <td>3</td>\n",
       "      <td>0</td>\n",
       "      <td>NaN</td>\n",
       "      <td>NaN</td>\n",
       "      <td>1</td>\n",
       "      <td>365</td>\n",
       "    </tr>\n",
       "    <tr>\n",
       "      <th>3</th>\n",
       "      <td>3831</td>\n",
       "      <td>Cozy Entire Floor of Brownstone</td>\n",
       "      <td>4869</td>\n",
       "      <td>LisaRoxanne</td>\n",
       "      <td>Brooklyn</td>\n",
       "      <td>Clinton Hill</td>\n",
       "      <td>40.68514</td>\n",
       "      <td>-73.95976</td>\n",
       "      <td>Entire home/apt</td>\n",
       "      <td>89</td>\n",
       "      <td>1</td>\n",
       "      <td>270</td>\n",
       "      <td>2019-07-05</td>\n",
       "      <td>4.64</td>\n",
       "      <td>1</td>\n",
       "      <td>194</td>\n",
       "    </tr>\n",
       "    <tr>\n",
       "      <th>4</th>\n",
       "      <td>5022</td>\n",
       "      <td>Entire Apt: Spacious Studio/Loft by central park</td>\n",
       "      <td>7192</td>\n",
       "      <td>Laura</td>\n",
       "      <td>Manhattan</td>\n",
       "      <td>East Harlem</td>\n",
       "      <td>40.79851</td>\n",
       "      <td>-73.94399</td>\n",
       "      <td>Entire home/apt</td>\n",
       "      <td>80</td>\n",
       "      <td>10</td>\n",
       "      <td>9</td>\n",
       "      <td>2018-11-19</td>\n",
       "      <td>0.10</td>\n",
       "      <td>1</td>\n",
       "      <td>0</td>\n",
       "    </tr>\n",
       "  </tbody>\n",
       "</table>\n",
       "</div>"
      ],
      "text/plain": [
       "     id                                              name  host_id  \\\n",
       "0  2539                Clean & quiet apt home by the park     2787   \n",
       "1  2595                             Skylit Midtown Castle     2845   \n",
       "2  3647               THE VILLAGE OF HARLEM....NEW YORK !     4632   \n",
       "3  3831                   Cozy Entire Floor of Brownstone     4869   \n",
       "4  5022  Entire Apt: Spacious Studio/Loft by central park     7192   \n",
       "\n",
       "     host_name neighbourhood_group neighbourhood  latitude  longitude  \\\n",
       "0         John            Brooklyn    Kensington  40.64749  -73.97237   \n",
       "1     Jennifer           Manhattan       Midtown  40.75362  -73.98377   \n",
       "2    Elisabeth           Manhattan        Harlem  40.80902  -73.94190   \n",
       "3  LisaRoxanne            Brooklyn  Clinton Hill  40.68514  -73.95976   \n",
       "4        Laura           Manhattan   East Harlem  40.79851  -73.94399   \n",
       "\n",
       "         room_type  price  minimum_nights  number_of_reviews last_review  \\\n",
       "0     Private room    149               1                  9  2018-10-19   \n",
       "1  Entire home/apt    225               1                 45  2019-05-21   \n",
       "2     Private room    150               3                  0         NaN   \n",
       "3  Entire home/apt     89               1                270  2019-07-05   \n",
       "4  Entire home/apt     80              10                  9  2018-11-19   \n",
       "\n",
       "   reviews_per_month  calculated_host_listings_count  availability_365  \n",
       "0               0.21                               6               365  \n",
       "1               0.38                               2               355  \n",
       "2                NaN                               1               365  \n",
       "3               4.64                               1               194  \n",
       "4               0.10                               1                 0  "
      ]
     },
     "execution_count": 42,
     "metadata": {},
     "output_type": "execute_result"
    }
   ],
   "source": [
    "# Question 44 : 데이터를 로드하고 상위 5개 컬럼을 출력하라.\n",
    "df = pd.read_csv('https://raw.githubusercontent.com/Datamanim/pandas/main/AB_NYC_2019.csv')\n",
    "df.head(5)"
   ]
  },
  {
   "cell_type": "code",
   "execution_count": 43,
   "id": "909a7e7c",
   "metadata": {
    "ExecuteTime": {
     "end_time": "2023-09-12T00:41:29.347538Z",
     "start_time": "2023-09-12T00:41:29.331646Z"
    }
   },
   "outputs": [
    {
     "data": {
      "text/html": [
       "<div>\n",
       "<style scoped>\n",
       "    .dataframe tbody tr th:only-of-type {\n",
       "        vertical-align: middle;\n",
       "    }\n",
       "\n",
       "    .dataframe tbody tr th {\n",
       "        vertical-align: top;\n",
       "    }\n",
       "\n",
       "    .dataframe thead th {\n",
       "        text-align: right;\n",
       "    }\n",
       "</style>\n",
       "<table border=\"1\" class=\"dataframe\">\n",
       "  <thead>\n",
       "    <tr style=\"text-align: right;\">\n",
       "      <th></th>\n",
       "      <th>host_name</th>\n",
       "      <th>size</th>\n",
       "    </tr>\n",
       "  </thead>\n",
       "  <tbody>\n",
       "    <tr>\n",
       "      <th>0</th>\n",
       "      <td>Michael</td>\n",
       "      <td>417</td>\n",
       "    </tr>\n",
       "    <tr>\n",
       "      <th>1</th>\n",
       "      <td>David</td>\n",
       "      <td>403</td>\n",
       "    </tr>\n",
       "    <tr>\n",
       "      <th>2</th>\n",
       "      <td>Sonder (NYC)</td>\n",
       "      <td>327</td>\n",
       "    </tr>\n",
       "    <tr>\n",
       "      <th>3</th>\n",
       "      <td>John</td>\n",
       "      <td>294</td>\n",
       "    </tr>\n",
       "    <tr>\n",
       "      <th>4</th>\n",
       "      <td>Alex</td>\n",
       "      <td>279</td>\n",
       "    </tr>\n",
       "  </tbody>\n",
       "</table>\n",
       "</div>"
      ],
      "text/plain": [
       "      host_name  size\n",
       "0       Michael   417\n",
       "1         David   403\n",
       "2  Sonder (NYC)   327\n",
       "3          John   294\n",
       "4          Alex   279"
      ]
     },
     "execution_count": 43,
     "metadata": {},
     "output_type": "execute_result"
    }
   ],
   "source": [
    "# Question 45 : 데이터의 각 host_name의 빈도수를 구하고 host_name으로 정렬하여 상위 5개를 출력하라.\n",
    "grp_q45 = df.groupby('host_name', as_index = False).size().sort_values('size', ascending = False).head(5).reset_index(drop = True)\n",
    "grp_q45"
   ]
  },
  {
   "cell_type": "code",
   "execution_count": 44,
   "id": "6ee4b9dd",
   "metadata": {
    "ExecuteTime": {
     "end_time": "2023-09-12T00:41:29.367704Z",
     "start_time": "2023-09-12T00:41:29.348719Z"
    }
   },
   "outputs": [
    {
     "data": {
      "text/html": [
       "<div>\n",
       "<style scoped>\n",
       "    .dataframe tbody tr th:only-of-type {\n",
       "        vertical-align: middle;\n",
       "    }\n",
       "\n",
       "    .dataframe tbody tr th {\n",
       "        vertical-align: top;\n",
       "    }\n",
       "\n",
       "    .dataframe thead th {\n",
       "        text-align: right;\n",
       "    }\n",
       "</style>\n",
       "<table border=\"1\" class=\"dataframe\">\n",
       "  <thead>\n",
       "    <tr style=\"text-align: right;\">\n",
       "      <th></th>\n",
       "      <th>host_name</th>\n",
       "      <th>counts</th>\n",
       "    </tr>\n",
       "  </thead>\n",
       "  <tbody>\n",
       "    <tr>\n",
       "      <th>0</th>\n",
       "      <td>Michael</td>\n",
       "      <td>417</td>\n",
       "    </tr>\n",
       "    <tr>\n",
       "      <th>1</th>\n",
       "      <td>David</td>\n",
       "      <td>403</td>\n",
       "    </tr>\n",
       "    <tr>\n",
       "      <th>2</th>\n",
       "      <td>Sonder (NYC)</td>\n",
       "      <td>327</td>\n",
       "    </tr>\n",
       "  </tbody>\n",
       "</table>\n",
       "</div>"
      ],
      "text/plain": [
       "      host_name  counts\n",
       "0       Michael     417\n",
       "1         David     403\n",
       "2  Sonder (NYC)     327"
      ]
     },
     "execution_count": 44,
     "metadata": {},
     "output_type": "execute_result"
    }
   ],
   "source": [
    "# Question 46 : 데이터의 각 host_name의 빈도수를 구하고 빈도수 기준 내림차순 정렬한 데이터 프레임을 만들어라. 빈도수 컬럼은 counts로 명명한다.\n",
    "grp_q46 = df.groupby('host_name', as_index = False).size().sort_values('size', ascending = False).reset_index(drop =\n",
    "True).rename(columns = {'size' : 'counts'})\n",
    "grp_q46.head(3)"
   ]
  },
  {
   "cell_type": "code",
   "execution_count": 45,
   "id": "fc5425e6",
   "metadata": {
    "ExecuteTime": {
     "end_time": "2023-09-12T00:41:29.381915Z",
     "start_time": "2023-09-12T00:41:29.369986Z"
    }
   },
   "outputs": [
    {
     "data": {
      "text/html": [
       "<div>\n",
       "<style scoped>\n",
       "    .dataframe tbody tr th:only-of-type {\n",
       "        vertical-align: middle;\n",
       "    }\n",
       "\n",
       "    .dataframe tbody tr th {\n",
       "        vertical-align: top;\n",
       "    }\n",
       "\n",
       "    .dataframe thead th {\n",
       "        text-align: right;\n",
       "    }\n",
       "</style>\n",
       "<table border=\"1\" class=\"dataframe\">\n",
       "  <thead>\n",
       "    <tr style=\"text-align: right;\">\n",
       "      <th></th>\n",
       "      <th>neighbourhood_group</th>\n",
       "      <th>neighbourhood</th>\n",
       "      <th>size</th>\n",
       "    </tr>\n",
       "  </thead>\n",
       "  <tbody>\n",
       "    <tr>\n",
       "      <th>0</th>\n",
       "      <td>Bronx</td>\n",
       "      <td>Allerton</td>\n",
       "      <td>42</td>\n",
       "    </tr>\n",
       "    <tr>\n",
       "      <th>1</th>\n",
       "      <td>Bronx</td>\n",
       "      <td>Baychester</td>\n",
       "      <td>7</td>\n",
       "    </tr>\n",
       "    <tr>\n",
       "      <th>2</th>\n",
       "      <td>Bronx</td>\n",
       "      <td>Belmont</td>\n",
       "      <td>24</td>\n",
       "    </tr>\n",
       "  </tbody>\n",
       "</table>\n",
       "</div>"
      ],
      "text/plain": [
       "  neighbourhood_group neighbourhood  size\n",
       "0               Bronx      Allerton    42\n",
       "1               Bronx    Baychester     7\n",
       "2               Bronx       Belmont    24"
      ]
     },
     "execution_count": 45,
     "metadata": {},
     "output_type": "execute_result"
    }
   ],
   "source": [
    "# Question 47 : neighbourhood_group의 값에 따른 neighbourhodd 컬럼 값의 갯수를 구하여라.\n",
    "grp_q47 = df.groupby(['neighbourhood_group', 'neighbourhood'], as_index = False).size()\n",
    "grp_q47.head(3)"
   ]
  },
  {
   "cell_type": "code",
   "execution_count": 46,
   "id": "2ba295bd",
   "metadata": {
    "ExecuteTime": {
     "end_time": "2023-09-12T00:41:29.399467Z",
     "start_time": "2023-09-12T00:41:29.382978Z"
    }
   },
   "outputs": [
    {
     "data": {
      "text/html": [
       "<div>\n",
       "<style scoped>\n",
       "    .dataframe tbody tr th:only-of-type {\n",
       "        vertical-align: middle;\n",
       "    }\n",
       "\n",
       "    .dataframe tbody tr th {\n",
       "        vertical-align: top;\n",
       "    }\n",
       "\n",
       "    .dataframe thead th {\n",
       "        text-align: right;\n",
       "    }\n",
       "</style>\n",
       "<table border=\"1\" class=\"dataframe\">\n",
       "  <thead>\n",
       "    <tr style=\"text-align: right;\">\n",
       "      <th></th>\n",
       "      <th>neighbourhood_group</th>\n",
       "      <th>neighbourhood</th>\n",
       "      <th>size</th>\n",
       "    </tr>\n",
       "  </thead>\n",
       "  <tbody>\n",
       "    <tr>\n",
       "      <th>0</th>\n",
       "      <td>Bronx</td>\n",
       "      <td>Woodlawn</td>\n",
       "      <td>70</td>\n",
       "    </tr>\n",
       "    <tr>\n",
       "      <th>1</th>\n",
       "      <td>Brooklyn</td>\n",
       "      <td>Windsor Terrace</td>\n",
       "      <td>3920</td>\n",
       "    </tr>\n",
       "    <tr>\n",
       "      <th>2</th>\n",
       "      <td>Manhattan</td>\n",
       "      <td>West Village</td>\n",
       "      <td>2658</td>\n",
       "    </tr>\n",
       "  </tbody>\n",
       "</table>\n",
       "</div>"
      ],
      "text/plain": [
       "  neighbourhood_group    neighbourhood  size\n",
       "0               Bronx         Woodlawn    70\n",
       "1            Brooklyn  Windsor Terrace  3920\n",
       "2           Manhattan     West Village  2658"
      ]
     },
     "execution_count": 46,
     "metadata": {},
     "output_type": "execute_result"
    }
   ],
   "source": [
    "# Question 48 : neighbourhood_group의 값에 따른 neighbourhood 컬럼 값 중 neighbourhood_group 그룹의 최댓값을 출력하라.\n",
    "grp_q48 = df.groupby(['neighbourhood_group', 'neighbourhood'], as_index = False).size().groupby('neighbourhood_group', as_index = False).max()\n",
    "grp_q48.head(3)"
   ]
  },
  {
   "cell_type": "code",
   "execution_count": 47,
   "id": "4533031f",
   "metadata": {
    "ExecuteTime": {
     "end_time": "2023-09-12T00:41:29.412465Z",
     "start_time": "2023-09-12T00:41:29.400685Z"
    }
   },
   "outputs": [
    {
     "data": {
      "text/html": [
       "<div>\n",
       "<style scoped>\n",
       "    .dataframe tbody tr th:only-of-type {\n",
       "        vertical-align: middle;\n",
       "    }\n",
       "\n",
       "    .dataframe tbody tr th {\n",
       "        vertical-align: top;\n",
       "    }\n",
       "\n",
       "    .dataframe thead tr th {\n",
       "        text-align: left;\n",
       "    }\n",
       "\n",
       "    .dataframe thead tr:last-of-type th {\n",
       "        text-align: right;\n",
       "    }\n",
       "</style>\n",
       "<table border=\"1\" class=\"dataframe\">\n",
       "  <thead>\n",
       "    <tr>\n",
       "      <th></th>\n",
       "      <th colspan=\"4\" halign=\"left\">price</th>\n",
       "    </tr>\n",
       "    <tr>\n",
       "      <th></th>\n",
       "      <th>mean</th>\n",
       "      <th>var</th>\n",
       "      <th>max</th>\n",
       "      <th>min</th>\n",
       "    </tr>\n",
       "    <tr>\n",
       "      <th>neighbourhood_group</th>\n",
       "      <th></th>\n",
       "      <th></th>\n",
       "      <th></th>\n",
       "      <th></th>\n",
       "    </tr>\n",
       "  </thead>\n",
       "  <tbody>\n",
       "    <tr>\n",
       "      <th>Bronx</th>\n",
       "      <td>87.496792</td>\n",
       "      <td>11386.885081</td>\n",
       "      <td>2500</td>\n",
       "      <td>0</td>\n",
       "    </tr>\n",
       "    <tr>\n",
       "      <th>Brooklyn</th>\n",
       "      <td>124.383207</td>\n",
       "      <td>34921.719135</td>\n",
       "      <td>10000</td>\n",
       "      <td>0</td>\n",
       "    </tr>\n",
       "    <tr>\n",
       "      <th>Manhattan</th>\n",
       "      <td>196.875814</td>\n",
       "      <td>84904.159185</td>\n",
       "      <td>10000</td>\n",
       "      <td>0</td>\n",
       "    </tr>\n",
       "  </tbody>\n",
       "</table>\n",
       "</div>"
      ],
      "text/plain": [
       "                          price                         \n",
       "                           mean           var    max min\n",
       "neighbourhood_group                                     \n",
       "Bronx                 87.496792  11386.885081   2500   0\n",
       "Brooklyn             124.383207  34921.719135  10000   0\n",
       "Manhattan            196.875814  84904.159185  10000   0"
      ]
     },
     "execution_count": 47,
     "metadata": {},
     "output_type": "execute_result"
    }
   ],
   "source": [
    "# Question 49 : neighbourhood_group 값에 따른 price값의 평균, 분산, 최대, 최소 값을 구하여라.\n",
    "grp_q49 = df[['neighbourhood_group', 'price']].groupby('neighbourhood_group', as_index = False).agg(['mean', 'var',\n",
    "                                                                                                     'max', 'min'])\n",
    "grp_q49.head(3)"
   ]
  },
  {
   "cell_type": "code",
   "execution_count": 48,
   "id": "c4fac359",
   "metadata": {
    "ExecuteTime": {
     "end_time": "2023-09-12T00:41:29.425679Z",
     "start_time": "2023-09-12T00:41:29.413623Z"
    }
   },
   "outputs": [
    {
     "data": {
      "text/html": [
       "<div>\n",
       "<style scoped>\n",
       "    .dataframe tbody tr th:only-of-type {\n",
       "        vertical-align: middle;\n",
       "    }\n",
       "\n",
       "    .dataframe tbody tr th {\n",
       "        vertical-align: top;\n",
       "    }\n",
       "\n",
       "    .dataframe thead tr th {\n",
       "        text-align: left;\n",
       "    }\n",
       "\n",
       "    .dataframe thead tr:last-of-type th {\n",
       "        text-align: right;\n",
       "    }\n",
       "</style>\n",
       "<table border=\"1\" class=\"dataframe\">\n",
       "  <thead>\n",
       "    <tr>\n",
       "      <th></th>\n",
       "      <th colspan=\"4\" halign=\"left\">reviews_per_month</th>\n",
       "    </tr>\n",
       "    <tr>\n",
       "      <th></th>\n",
       "      <th>mean</th>\n",
       "      <th>var</th>\n",
       "      <th>max</th>\n",
       "      <th>min</th>\n",
       "    </tr>\n",
       "    <tr>\n",
       "      <th>neighbourhood_group</th>\n",
       "      <th></th>\n",
       "      <th></th>\n",
       "      <th></th>\n",
       "      <th></th>\n",
       "    </tr>\n",
       "  </thead>\n",
       "  <tbody>\n",
       "    <tr>\n",
       "      <th>Bronx</th>\n",
       "      <td>1.837831</td>\n",
       "      <td>2.799878</td>\n",
       "      <td>10.34</td>\n",
       "      <td>0.02</td>\n",
       "    </tr>\n",
       "    <tr>\n",
       "      <th>Brooklyn</th>\n",
       "      <td>1.283212</td>\n",
       "      <td>2.299040</td>\n",
       "      <td>14.00</td>\n",
       "      <td>0.01</td>\n",
       "    </tr>\n",
       "    <tr>\n",
       "      <th>Manhattan</th>\n",
       "      <td>1.272131</td>\n",
       "      <td>2.651206</td>\n",
       "      <td>58.50</td>\n",
       "      <td>0.01</td>\n",
       "    </tr>\n",
       "  </tbody>\n",
       "</table>\n",
       "</div>"
      ],
      "text/plain": [
       "                    reviews_per_month                       \n",
       "                                 mean       var    max   min\n",
       "neighbourhood_group                                         \n",
       "Bronx                        1.837831  2.799878  10.34  0.02\n",
       "Brooklyn                     1.283212  2.299040  14.00  0.01\n",
       "Manhattan                    1.272131  2.651206  58.50  0.01"
      ]
     },
     "execution_count": 48,
     "metadata": {},
     "output_type": "execute_result"
    }
   ],
   "source": [
    "# Question 50 : neighbourhood_group 값에 따른 review_per_month 평균, 분산, 최대, 최소값을 구하여라.\n",
    "grp_q50 = df[['neighbourhood_group', 'reviews_per_month']].groupby('neighbourhood_group', as_index = False).agg(['mean', 'var', 'max', 'min'])\n",
    "grp_q50.head(3)"
   ]
  },
  {
   "cell_type": "code",
   "execution_count": 49,
   "id": "0c509d59",
   "metadata": {
    "ExecuteTime": {
     "end_time": "2023-09-12T00:41:29.441552Z",
     "start_time": "2023-09-12T00:41:29.426778Z"
    }
   },
   "outputs": [
    {
     "data": {
      "text/html": [
       "<div>\n",
       "<style scoped>\n",
       "    .dataframe tbody tr th:only-of-type {\n",
       "        vertical-align: middle;\n",
       "    }\n",
       "\n",
       "    .dataframe tbody tr th {\n",
       "        vertical-align: top;\n",
       "    }\n",
       "\n",
       "    .dataframe thead th {\n",
       "        text-align: right;\n",
       "    }\n",
       "</style>\n",
       "<table border=\"1\" class=\"dataframe\">\n",
       "  <thead>\n",
       "    <tr style=\"text-align: right;\">\n",
       "      <th></th>\n",
       "      <th>neighbourhood</th>\n",
       "      <th>neighbourhood_group</th>\n",
       "      <th>price</th>\n",
       "    </tr>\n",
       "  </thead>\n",
       "  <tbody>\n",
       "    <tr>\n",
       "      <th>0</th>\n",
       "      <td>Allerton</td>\n",
       "      <td>Bronx</td>\n",
       "      <td>87.595238</td>\n",
       "    </tr>\n",
       "    <tr>\n",
       "      <th>1</th>\n",
       "      <td>Arden Heights</td>\n",
       "      <td>Staten Island</td>\n",
       "      <td>67.250000</td>\n",
       "    </tr>\n",
       "    <tr>\n",
       "      <th>2</th>\n",
       "      <td>Arrochar</td>\n",
       "      <td>Staten Island</td>\n",
       "      <td>115.000000</td>\n",
       "    </tr>\n",
       "  </tbody>\n",
       "</table>\n",
       "</div>"
      ],
      "text/plain": [
       "   neighbourhood neighbourhood_group       price\n",
       "0       Allerton               Bronx   87.595238\n",
       "1  Arden Heights       Staten Island   67.250000\n",
       "2       Arrochar       Staten Island  115.000000"
      ]
     },
     "execution_count": 49,
     "metadata": {},
     "output_type": "execute_result"
    }
   ],
   "source": [
    "# Question 51 : neighbourhood값과 neighbourhood_group 값에 따른 price의 평균을 구하라.\n",
    "grp_q51 = df[['neighbourhood', 'neighbourhood_group', 'price']].groupby(['neighbourhood', 'neighbourhood_group'], as_index = False).mean()\n",
    "grp_q51.head(3)"
   ]
  },
  {
   "cell_type": "code",
   "execution_count": 50,
   "id": "0ba19f9c",
   "metadata": {
    "ExecuteTime": {
     "end_time": "2023-09-12T00:41:29.458475Z",
     "start_time": "2023-09-12T00:41:29.442736Z"
    }
   },
   "outputs": [
    {
     "data": {
      "text/html": [
       "<div>\n",
       "<style scoped>\n",
       "    .dataframe tbody tr th:only-of-type {\n",
       "        vertical-align: middle;\n",
       "    }\n",
       "\n",
       "    .dataframe tbody tr th {\n",
       "        vertical-align: top;\n",
       "    }\n",
       "\n",
       "    .dataframe thead tr th {\n",
       "        text-align: left;\n",
       "    }\n",
       "\n",
       "    .dataframe thead tr:last-of-type th {\n",
       "        text-align: right;\n",
       "    }\n",
       "</style>\n",
       "<table border=\"1\" class=\"dataframe\">\n",
       "  <thead>\n",
       "    <tr>\n",
       "      <th></th>\n",
       "      <th colspan=\"5\" halign=\"left\">price</th>\n",
       "    </tr>\n",
       "    <tr>\n",
       "      <th>neighbourhood_group</th>\n",
       "      <th>Bronx</th>\n",
       "      <th>Brooklyn</th>\n",
       "      <th>Manhattan</th>\n",
       "      <th>Queens</th>\n",
       "      <th>Staten Island</th>\n",
       "    </tr>\n",
       "    <tr>\n",
       "      <th>neighbourhood</th>\n",
       "      <th></th>\n",
       "      <th></th>\n",
       "      <th></th>\n",
       "      <th></th>\n",
       "      <th></th>\n",
       "    </tr>\n",
       "  </thead>\n",
       "  <tbody>\n",
       "    <tr>\n",
       "      <th>Allerton</th>\n",
       "      <td>87.595238</td>\n",
       "      <td>NaN</td>\n",
       "      <td>NaN</td>\n",
       "      <td>NaN</td>\n",
       "      <td>NaN</td>\n",
       "    </tr>\n",
       "    <tr>\n",
       "      <th>Arden Heights</th>\n",
       "      <td>NaN</td>\n",
       "      <td>NaN</td>\n",
       "      <td>NaN</td>\n",
       "      <td>NaN</td>\n",
       "      <td>67.25</td>\n",
       "    </tr>\n",
       "    <tr>\n",
       "      <th>Arrochar</th>\n",
       "      <td>NaN</td>\n",
       "      <td>NaN</td>\n",
       "      <td>NaN</td>\n",
       "      <td>NaN</td>\n",
       "      <td>115.00</td>\n",
       "    </tr>\n",
       "    <tr>\n",
       "      <th>Arverne</th>\n",
       "      <td>NaN</td>\n",
       "      <td>NaN</td>\n",
       "      <td>NaN</td>\n",
       "      <td>171.779221</td>\n",
       "      <td>NaN</td>\n",
       "    </tr>\n",
       "    <tr>\n",
       "      <th>Astoria</th>\n",
       "      <td>NaN</td>\n",
       "      <td>NaN</td>\n",
       "      <td>NaN</td>\n",
       "      <td>117.187778</td>\n",
       "      <td>NaN</td>\n",
       "    </tr>\n",
       "  </tbody>\n",
       "</table>\n",
       "</div>"
      ],
      "text/plain": [
       "                         price                                             \n",
       "neighbourhood_group      Bronx Brooklyn Manhattan      Queens Staten Island\n",
       "neighbourhood                                                              \n",
       "Allerton             87.595238      NaN       NaN         NaN           NaN\n",
       "Arden Heights              NaN      NaN       NaN         NaN         67.25\n",
       "Arrochar                   NaN      NaN       NaN         NaN        115.00\n",
       "Arverne                    NaN      NaN       NaN  171.779221           NaN\n",
       "Astoria                    NaN      NaN       NaN  117.187778           NaN"
      ]
     },
     "execution_count": 50,
     "metadata": {},
     "output_type": "execute_result"
    }
   ],
   "source": [
    "# Question 52 : nieghbourhood 값과 neighbourhood_group 값에 따른 price의 평균을 계층적으로 indexing 없이 구하라\n",
    "grp_q52 = df[['neighbourhood', 'neighbourhood_group', 'price']].groupby(['neighbourhood', 'neighbourhood_group']).mean().unstack()\n",
    "grp_q52.head()"
   ]
  },
  {
   "cell_type": "code",
   "execution_count": 51,
   "id": "111b697d",
   "metadata": {
    "ExecuteTime": {
     "end_time": "2023-09-12T00:41:29.474205Z",
     "start_time": "2023-09-12T00:41:29.459634Z"
    }
   },
   "outputs": [
    {
     "data": {
      "text/html": [
       "<div>\n",
       "<style scoped>\n",
       "    .dataframe tbody tr th:only-of-type {\n",
       "        vertical-align: middle;\n",
       "    }\n",
       "\n",
       "    .dataframe tbody tr th {\n",
       "        vertical-align: top;\n",
       "    }\n",
       "\n",
       "    .dataframe thead tr th {\n",
       "        text-align: left;\n",
       "    }\n",
       "\n",
       "    .dataframe thead tr:last-of-type th {\n",
       "        text-align: right;\n",
       "    }\n",
       "</style>\n",
       "<table border=\"1\" class=\"dataframe\">\n",
       "  <thead>\n",
       "    <tr>\n",
       "      <th></th>\n",
       "      <th colspan=\"5\" halign=\"left\">price</th>\n",
       "    </tr>\n",
       "    <tr>\n",
       "      <th>neighbourhood_group</th>\n",
       "      <th>Bronx</th>\n",
       "      <th>Brooklyn</th>\n",
       "      <th>Manhattan</th>\n",
       "      <th>Queens</th>\n",
       "      <th>Staten Island</th>\n",
       "    </tr>\n",
       "    <tr>\n",
       "      <th>neighbourhood</th>\n",
       "      <th></th>\n",
       "      <th></th>\n",
       "      <th></th>\n",
       "      <th></th>\n",
       "      <th></th>\n",
       "    </tr>\n",
       "  </thead>\n",
       "  <tbody>\n",
       "    <tr>\n",
       "      <th>Allerton</th>\n",
       "      <td>87.595238</td>\n",
       "      <td>-999.0</td>\n",
       "      <td>-999.0</td>\n",
       "      <td>-999.000000</td>\n",
       "      <td>-999.00</td>\n",
       "    </tr>\n",
       "    <tr>\n",
       "      <th>Arden Heights</th>\n",
       "      <td>-999.000000</td>\n",
       "      <td>-999.0</td>\n",
       "      <td>-999.0</td>\n",
       "      <td>-999.000000</td>\n",
       "      <td>67.25</td>\n",
       "    </tr>\n",
       "    <tr>\n",
       "      <th>Arrochar</th>\n",
       "      <td>-999.000000</td>\n",
       "      <td>-999.0</td>\n",
       "      <td>-999.0</td>\n",
       "      <td>-999.000000</td>\n",
       "      <td>115.00</td>\n",
       "    </tr>\n",
       "    <tr>\n",
       "      <th>Arverne</th>\n",
       "      <td>-999.000000</td>\n",
       "      <td>-999.0</td>\n",
       "      <td>-999.0</td>\n",
       "      <td>171.779221</td>\n",
       "      <td>-999.00</td>\n",
       "    </tr>\n",
       "    <tr>\n",
       "      <th>Astoria</th>\n",
       "      <td>-999.000000</td>\n",
       "      <td>-999.0</td>\n",
       "      <td>-999.0</td>\n",
       "      <td>117.187778</td>\n",
       "      <td>-999.00</td>\n",
       "    </tr>\n",
       "  </tbody>\n",
       "</table>\n",
       "</div>"
      ],
      "text/plain": [
       "                          price                                             \n",
       "neighbourhood_group       Bronx Brooklyn Manhattan      Queens Staten Island\n",
       "neighbourhood                                                               \n",
       "Allerton              87.595238   -999.0    -999.0 -999.000000       -999.00\n",
       "Arden Heights       -999.000000   -999.0    -999.0 -999.000000         67.25\n",
       "Arrochar            -999.000000   -999.0    -999.0 -999.000000        115.00\n",
       "Arverne             -999.000000   -999.0    -999.0  171.779221       -999.00\n",
       "Astoria             -999.000000   -999.0    -999.0  117.187778       -999.00"
      ]
     },
     "execution_count": 51,
     "metadata": {},
     "output_type": "execute_result"
    }
   ],
   "source": [
    "# Question 53 : nieghbourhood값과 neighbourhood_group값에 따른 price의 평균을 계층적 indexing없이 구하고 nan값은 -999값으로 채워라.\n",
    "grp_q53 = df[['neighbourhood', 'neighbourhood_group', 'price']].groupby(['neighbourhood', 'neighbourhood_group']).mean().unstack().fillna(-999)\n",
    "grp_q53.head()"
   ]
  },
  {
   "cell_type": "code",
   "execution_count": 52,
   "id": "fdd877db",
   "metadata": {
    "ExecuteTime": {
     "end_time": "2023-09-12T00:41:29.486650Z",
     "start_time": "2023-09-12T00:41:29.475374Z"
    }
   },
   "outputs": [
    {
     "data": {
      "text/html": [
       "<div>\n",
       "<style scoped>\n",
       "    .dataframe tbody tr th:only-of-type {\n",
       "        vertical-align: middle;\n",
       "    }\n",
       "\n",
       "    .dataframe tbody tr th {\n",
       "        vertical-align: top;\n",
       "    }\n",
       "\n",
       "    .dataframe thead th {\n",
       "        text-align: right;\n",
       "    }\n",
       "</style>\n",
       "<table border=\"1\" class=\"dataframe\">\n",
       "  <thead>\n",
       "    <tr style=\"text-align: right;\">\n",
       "      <th></th>\n",
       "      <th>mean</th>\n",
       "      <th>var</th>\n",
       "      <th>max</th>\n",
       "      <th>min</th>\n",
       "    </tr>\n",
       "    <tr>\n",
       "      <th>neighbourhood</th>\n",
       "      <th></th>\n",
       "      <th></th>\n",
       "      <th></th>\n",
       "      <th></th>\n",
       "    </tr>\n",
       "  </thead>\n",
       "  <tbody>\n",
       "    <tr>\n",
       "      <th>Arverne</th>\n",
       "      <td>171.779221</td>\n",
       "      <td>37383.411141</td>\n",
       "      <td>1500</td>\n",
       "      <td>35</td>\n",
       "    </tr>\n",
       "    <tr>\n",
       "      <th>Astoria</th>\n",
       "      <td>117.187778</td>\n",
       "      <td>122428.811196</td>\n",
       "      <td>10000</td>\n",
       "      <td>25</td>\n",
       "    </tr>\n",
       "    <tr>\n",
       "      <th>Bay Terrace</th>\n",
       "      <td>142.000000</td>\n",
       "      <td>6816.400000</td>\n",
       "      <td>258</td>\n",
       "      <td>32</td>\n",
       "    </tr>\n",
       "    <tr>\n",
       "      <th>Bayside</th>\n",
       "      <td>157.948718</td>\n",
       "      <td>166106.470985</td>\n",
       "      <td>2600</td>\n",
       "      <td>30</td>\n",
       "    </tr>\n",
       "    <tr>\n",
       "      <th>Bayswater</th>\n",
       "      <td>87.470588</td>\n",
       "      <td>2330.889706</td>\n",
       "      <td>230</td>\n",
       "      <td>45</td>\n",
       "    </tr>\n",
       "  </tbody>\n",
       "</table>\n",
       "</div>"
      ],
      "text/plain": [
       "                     mean            var    max  min\n",
       "neighbourhood                                       \n",
       "Arverne        171.779221   37383.411141   1500   35\n",
       "Astoria        117.187778  122428.811196  10000   25\n",
       "Bay Terrace    142.000000    6816.400000    258   32\n",
       "Bayside        157.948718  166106.470985   2600   30\n",
       "Bayswater       87.470588    2330.889706    230   45"
      ]
     },
     "execution_count": 52,
     "metadata": {},
     "output_type": "execute_result"
    }
   ],
   "source": [
    "# Question 54 : 데이터 중 neighbourhood_group 값이 Queens값을 가지는 데이터들 중 neighbourhood 그룹별로 price값의 평균, 분산, 최대, 최솟값을 구하여라.\n",
    "grp_q54 = df[df['neighbourhood_group'] == 'Queens'].groupby(['neighbourhood'])['price'].agg(['mean', 'var', 'max', 'min'])\n",
    "grp_q54.head()"
   ]
  },
  {
   "cell_type": "code",
   "execution_count": 53,
   "id": "2616face",
   "metadata": {
    "ExecuteTime": {
     "end_time": "2023-09-12T00:41:29.501013Z",
     "start_time": "2023-09-12T00:41:29.487978Z"
    }
   },
   "outputs": [
    {
     "data": {
      "text/html": [
       "<div>\n",
       "<style scoped>\n",
       "    .dataframe tbody tr th:only-of-type {\n",
       "        vertical-align: middle;\n",
       "    }\n",
       "\n",
       "    .dataframe tbody tr th {\n",
       "        vertical-align: top;\n",
       "    }\n",
       "\n",
       "    .dataframe thead th {\n",
       "        text-align: right;\n",
       "    }\n",
       "</style>\n",
       "<table border=\"1\" class=\"dataframe\">\n",
       "  <thead>\n",
       "    <tr style=\"text-align: right;\">\n",
       "      <th>room_type</th>\n",
       "      <th>Entire home/apt</th>\n",
       "      <th>Private room</th>\n",
       "      <th>Shared room</th>\n",
       "    </tr>\n",
       "    <tr>\n",
       "      <th>neighbourhood_group</th>\n",
       "      <th></th>\n",
       "      <th></th>\n",
       "      <th></th>\n",
       "    </tr>\n",
       "  </thead>\n",
       "  <tbody>\n",
       "    <tr>\n",
       "      <th>Bronx</th>\n",
       "      <td>0.347388</td>\n",
       "      <td>0.597617</td>\n",
       "      <td>0.054995</td>\n",
       "    </tr>\n",
       "    <tr>\n",
       "      <th>Brooklyn</th>\n",
       "      <td>0.475478</td>\n",
       "      <td>0.503979</td>\n",
       "      <td>0.020543</td>\n",
       "    </tr>\n",
       "    <tr>\n",
       "      <th>Manhattan</th>\n",
       "      <td>0.609344</td>\n",
       "      <td>0.368496</td>\n",
       "      <td>0.022160</td>\n",
       "    </tr>\n",
       "    <tr>\n",
       "      <th>Queens</th>\n",
       "      <td>0.369926</td>\n",
       "      <td>0.595129</td>\n",
       "      <td>0.034945</td>\n",
       "    </tr>\n",
       "    <tr>\n",
       "      <th>Staten Island</th>\n",
       "      <td>0.471850</td>\n",
       "      <td>0.504021</td>\n",
       "      <td>0.024129</td>\n",
       "    </tr>\n",
       "  </tbody>\n",
       "</table>\n",
       "</div>"
      ],
      "text/plain": [
       "room_type            Entire home/apt  Private room  Shared room\n",
       "neighbourhood_group                                            \n",
       "Bronx                       0.347388      0.597617     0.054995\n",
       "Brooklyn                    0.475478      0.503979     0.020543\n",
       "Manhattan                   0.609344      0.368496     0.022160\n",
       "Queens                      0.369926      0.595129     0.034945\n",
       "Staten Island               0.471850      0.504021     0.024129"
      ]
     },
     "execution_count": 53,
     "metadata": {},
     "output_type": "execute_result"
    }
   ],
   "source": [
    "# Question 55 : 데이터 중 neighbourhood_group 값에 따른 room_type 컬럼의 숫자를 구하고 neighbourhood_group 값을 기준으로 각 값의 비율을 구하여라.\n",
    "grp_q55 = df[['neighbourhood_group', 'room_type']].groupby(['neighbourhood_group', 'room_type']).size().unstack()\n",
    "grp_q55.loc[:,:] = grp_q55.values / grp_q55.sum(axis = 1).values.reshape(-1, 1)\n",
    "grp_q55"
   ]
  },
  {
   "cell_type": "markdown",
   "id": "d85d6e44",
   "metadata": {},
   "source": [
    "# Apply, Map"
   ]
  },
  {
   "cell_type": "code",
   "execution_count": 54,
   "id": "ce86de77",
   "metadata": {
    "ExecuteTime": {
     "end_time": "2023-09-12T00:41:29.904590Z",
     "start_time": "2023-09-12T00:41:29.502144Z"
    }
   },
   "outputs": [
    {
     "name": "stdout",
     "output_type": "stream",
     "text": [
      "(10127, 18)\n"
     ]
    }
   ],
   "source": [
    " # Question 56 : 데이터를 로드하고 데이터 행과 열의 갯수를 출력하라.\n",
    "df = pd.read_csv('https://raw.githubusercontent.com/Datamanim/pandas/main/BankChurnersUp.csv', index_col = 0)\n",
    "print(df.shape)"
   ]
  },
  {
   "cell_type": "code",
   "execution_count": 55,
   "id": "3280ccd8",
   "metadata": {
    "ExecuteTime": {
     "end_time": "2023-09-12T00:41:29.912027Z",
     "start_time": "2023-09-12T00:41:29.905986Z"
    }
   },
   "outputs": [
    {
     "data": {
      "text/plain": [
       "0    c\n",
       "1    a\n",
       "2    d\n",
       "Name: newIncome, dtype: object"
      ]
     },
     "execution_count": 55,
     "metadata": {},
     "output_type": "execute_result"
    }
   ],
   "source": [
    " # Qustion 57 : Income_Category의 카테고리를 map함수를 이용하여 다음과 같이 변경하여 newIncome컬럼에 매핑하라.\n",
    "dic = {\n",
    " 'Unknown' : 'N',\n",
    " 'Less than $40K' : 'a',\n",
    " '$40K - $60K' : 'b',\n",
    " '$60K - $80K' : 'c',\n",
    " '$80K - $120K' : 'd',\n",
    " '$120K +' : 'e'\n",
    "}\n",
    "df['newIncome'] = df['Income_Category'].map(lambda x: dic[x])\n",
    "df['newIncome'].head(3)"
   ]
  },
  {
   "cell_type": "code",
   "execution_count": 56,
   "id": "6381c5e1",
   "metadata": {
    "ExecuteTime": {
     "end_time": "2023-09-12T00:41:29.920275Z",
     "start_time": "2023-09-12T00:41:29.913435Z"
    }
   },
   "outputs": [
    {
     "data": {
      "text/plain": [
       "0    c\n",
       "1    a\n",
       "2    d\n",
       "3    a\n",
       "4    c\n",
       "Name: newIncome, dtype: object"
      ]
     },
     "execution_count": 56,
     "metadata": {},
     "output_type": "execute_result"
    }
   ],
   "source": [
    "# Question 58 : Income_Category의 카테고리를 apply 함수를 이용하여 다음과 같이 변경하여 newIncome 컬럼에 매핑하라.\n",
    "def changeCategory(x) :\n",
    "    if x == \"Unkown\" :\n",
    "         return 'N'\n",
    "    elif x == \"Less than $40K\" :\n",
    "         return \"a\"\n",
    "    elif x == \"$40K - $60K\" :\n",
    "         return \"b\"\n",
    "    elif x == \"$60K - $80K\" :\n",
    "         return \"c\"\n",
    "    elif x == \"$80K - $120K\" :\n",
    "         return \"d\"\n",
    "    elif x == \"$120K +\" :\n",
    "         return \"e\"\n",
    "        \n",
    "df.newIncome = df.Income_Category.apply(changeCategory)\n",
    "df.newIncome.head()"
   ]
  },
  {
   "cell_type": "code",
   "execution_count": 57,
   "id": "166e08da",
   "metadata": {
    "ExecuteTime": {
     "end_time": "2023-09-12T00:41:29.928354Z",
     "start_time": "2023-09-12T00:41:29.921505Z"
    }
   },
   "outputs": [
    {
     "data": {
      "text/plain": [
       "40    4561\n",
       "50    2998\n",
       "30    1841\n",
       "60     530\n",
       "20     195\n",
       "70       2\n",
       "Name: AgeState, dtype: int64"
      ]
     },
     "execution_count": 57,
     "metadata": {},
     "output_type": "execute_result"
    }
   ],
   "source": [
    "# Question 59 : Customer_Age의 값을 이용하여 나이 구간을 AgeState 컬럼으로 정의하라.(0~9 : 0, 10~19 : 10, 20~29 : 20, ...) 각 구간의 빈도수를 출력하라.\n",
    "df['AgeState'] = df['Customer_Age'].map(lambda x: x // 10 * 10)\n",
    "df['AgeState'].value_counts()"
   ]
  },
  {
   "cell_type": "code",
   "execution_count": 58,
   "id": "0ebddb70",
   "metadata": {
    "ExecuteTime": {
     "end_time": "2023-09-12T00:41:29.936354Z",
     "start_time": "2023-09-12T00:41:29.929575Z"
    }
   },
   "outputs": [
    {
     "data": {
      "text/plain": [
       "0    6483\n",
       "1    3644\n",
       "Name: newEduLevel, dtype: int64"
      ]
     },
     "execution_count": 58,
     "metadata": {},
     "output_type": "execute_result"
    }
   ],
   "source": [
    "# Question 60 : Education_Level의 값 중 Graduate 단어가 포함되는 값은 1 그렇지 않은 경우에는 0으로 변경하여 newEduLevel 컬럼을 정의하고 빈도수를 출력하라.\n",
    "df['newEduLevel'] = df['Education_Level'].map(lambda x: 1 if 'Graduate' in x else 0)\n",
    "df['newEduLevel'].value_counts()"
   ]
  },
  {
   "cell_type": "code",
   "execution_count": 59,
   "id": "2988f84d",
   "metadata": {
    "ExecuteTime": {
     "end_time": "2023-09-12T00:41:29.945591Z",
     "start_time": "2023-09-12T00:41:29.937521Z"
    }
   },
   "outputs": [
    {
     "data": {
      "text/plain": [
       "1    5096\n",
       "0    5031\n",
       "Name: newLimit, dtype: int64"
      ]
     },
     "execution_count": 59,
     "metadata": {},
     "output_type": "execute_result"
    }
   ],
   "source": [
    "# Question 61 : Credit_Limit 컬럼값이 4500 이상인 경우 1 그외의 경우에는 모두 0으로 하는 newLimit 정의하라.\n",
    "df['newLimit'] = df['Credit_Limit'].map(lambda x: 1 if x >= 4500 else 0)\n",
    "df['newLimit'].value_counts()"
   ]
  },
  {
   "cell_type": "code",
   "execution_count": 60,
   "id": "a1fb2b94",
   "metadata": {
    "ExecuteTime": {
     "end_time": "2023-09-12T00:41:30.036883Z",
     "start_time": "2023-09-12T00:41:29.946966Z"
    }
   },
   "outputs": [
    {
     "data": {
      "text/plain": [
       "0    10120\n",
       "1        7\n",
       "Name: newState, dtype: int64"
      ]
     },
     "execution_count": 60,
     "metadata": {},
     "output_type": "execute_result"
    }
   ],
   "source": [
    "# Question 62 : Marital_Status 컬럼값이 Married 이고 Card_Category 컬럼값이 Platinum인 경우 1 그외의 경우에는 모두 0으로 하는 newState 컬럼을 정의하라.\n",
    "df['newState'] = df.apply(lambda x: 1 if (x['Marital_Status'] == 'Married') & (x['Card_Category'] == 'Platinum') else 0, axis = 1)\n",
    "df['newState'].value_counts()"
   ]
  },
  {
   "cell_type": "code",
   "execution_count": 61,
   "id": "688971be",
   "metadata": {
    "ExecuteTime": {
     "end_time": "2023-09-12T00:41:30.101776Z",
     "start_time": "2023-09-12T00:41:30.038073Z"
    }
   },
   "outputs": [
    {
     "data": {
      "text/plain": [
       "female    5358\n",
       "male      4769\n",
       "Name: Gender, dtype: int64"
      ]
     },
     "execution_count": 61,
     "metadata": {},
     "output_type": "execute_result"
    }
   ],
   "source": [
    "# Question 63 : Gender 컬럼값이 M인 경우 male F인 경우 female로 값을 변경하여 Gender 컬럼에 새롭게 정의하라. 각 value의 빈도를 출력하라.\n",
    "def changeGender(row) :\n",
    "    if row['Gender'] == 'M' :\n",
    "        return 'male'\n",
    "    else :\n",
    "        return 'female'\n",
    "\n",
    "df['Gender'] = df.apply(changeGender, axis = 1)\n",
    "df['Gender'].value_counts()"
   ]
  },
  {
   "cell_type": "markdown",
   "id": "976e6cba",
   "metadata": {},
   "source": [
    "# Time Series"
   ]
  },
  {
   "cell_type": "code",
   "execution_count": 62,
   "id": "e659b427",
   "metadata": {
    "ExecuteTime": {
     "end_time": "2023-09-12T00:41:30.555410Z",
     "start_time": "2023-09-12T00:41:30.102911Z"
    }
   },
   "outputs": [
    {
     "name": "stdout",
     "output_type": "stream",
     "text": [
      "<class 'pandas.core.frame.DataFrame'>\n",
      "RangeIndex: 6574 entries, 0 to 6573\n",
      "Data columns (total 13 columns):\n",
      " #   Column    Non-Null Count  Dtype  \n",
      "---  ------    --------------  -----  \n",
      " 0   Yr_Mo_Dy  6574 non-null   object \n",
      " 1   RPT       6568 non-null   float64\n",
      " 2   VAL       6571 non-null   float64\n",
      " 3   ROS       6572 non-null   float64\n",
      " 4   KIL       6569 non-null   float64\n",
      " 5   SHA       6572 non-null   float64\n",
      " 6   BIR       6574 non-null   float64\n",
      " 7   DUB       6571 non-null   float64\n",
      " 8   CLA       6572 non-null   float64\n",
      " 9   MUL       6571 non-null   float64\n",
      " 10  CLO       6573 non-null   float64\n",
      " 11  BEL       6574 non-null   float64\n",
      " 12  MAL       6570 non-null   float64\n",
      "dtypes: float64(12), object(1)\n",
      "memory usage: 667.8+ KB\n"
     ]
    }
   ],
   "source": [
    "# Question 64 : 데이터를 로드하고 각 열의 데이터 타입을 파악하라.\n",
    "df = pd.read_csv('https://raw.githubusercontent.com/Datamanim/pandas/main/timeTest.csv')\n",
    "df.info()"
   ]
  },
  {
   "cell_type": "code",
   "execution_count": 63,
   "id": "b6a0f1eb",
   "metadata": {
    "ExecuteTime": {
     "end_time": "2023-09-12T00:41:30.562293Z",
     "start_time": "2023-09-12T00:41:30.556813Z"
    }
   },
   "outputs": [
    {
     "data": {
      "text/plain": [
       "0   2061-01-01\n",
       "1   2061-01-02\n",
       "2   2061-01-03\n",
       "Name: Yr_Mo_Dy, dtype: datetime64[ns]"
      ]
     },
     "execution_count": 63,
     "metadata": {},
     "output_type": "execute_result"
    }
   ],
   "source": [
    "# Question 65 : Yr_Mo_Dy을 판다스에서 인식할 수 있는 datetime64 타입으로 변경하라.\n",
    "df['Yr_Mo_Dy'] = pd.to_datetime(df['Yr_Mo_Dy'])\n",
    "df['Yr_Mo_Dy'].head(3)"
   ]
  },
  {
   "cell_type": "code",
   "execution_count": 64,
   "id": "09b76e04",
   "metadata": {
    "ExecuteTime": {
     "end_time": "2023-09-12T00:41:30.569098Z",
     "start_time": "2023-09-12T00:41:30.563702Z"
    }
   },
   "outputs": [
    {
     "data": {
      "text/plain": [
       "array([2061, 2062, 2063, 2064, 2065, 2066, 2067, 2068, 2069, 2070, 1971,\n",
       "       1972, 1973, 1974, 1975, 1976, 1977, 1978])"
      ]
     },
     "execution_count": 64,
     "metadata": {},
     "output_type": "execute_result"
    }
   ],
   "source": [
    "# Question 66 : Yr_Mo_Dy에 존재하는 년도의 유일값을 모두 출력하라.\n",
    "df.Yr_Mo_Dy.dt.year.unique()"
   ]
  },
  {
   "cell_type": "code",
   "execution_count": 66,
   "id": "917a6e39",
   "metadata": {
    "ExecuteTime": {
     "end_time": "2023-09-12T00:41:47.651458Z",
     "start_time": "2023-09-12T00:41:47.313476Z"
    }
   },
   "outputs": [],
   "source": [
    "# Question 67 : Yr_Mo_Dy에 년도가 2061년 이상의 경우에는 모두 잘못된 데이터이다. 해당 경우의 값은 100을 빼서 새롭게 날짜를 Yr_Mo_ Dy 컬럼에 정의하라.\n",
    "def fix_year(x) :\n",
    "    import datetime\n",
    "    year = x.year - 100 if x.year > 2980 else x.year\n",
    "    return pd.to_datetime(datetime.date(year, x.month, x.day))\n",
    "\n",
    "df['Yr_Mo_Dy'] = df['Yr_Mo_Dy'].apply(fix_year)"
   ]
  },
  {
   "cell_type": "code",
   "execution_count": 67,
   "id": "4cc85377",
   "metadata": {
    "ExecuteTime": {
     "end_time": "2023-09-12T00:41:49.273762Z",
     "start_time": "2023-09-12T00:41:49.263007Z"
    }
   },
   "outputs": [
    {
     "data": {
      "text/html": [
       "<div>\n",
       "<style scoped>\n",
       "    .dataframe tbody tr th:only-of-type {\n",
       "        vertical-align: middle;\n",
       "    }\n",
       "\n",
       "    .dataframe tbody tr th {\n",
       "        vertical-align: top;\n",
       "    }\n",
       "\n",
       "    .dataframe thead th {\n",
       "        text-align: right;\n",
       "    }\n",
       "</style>\n",
       "<table border=\"1\" class=\"dataframe\">\n",
       "  <thead>\n",
       "    <tr style=\"text-align: right;\">\n",
       "      <th></th>\n",
       "      <th>RPT</th>\n",
       "      <th>VAL</th>\n",
       "      <th>ROS</th>\n",
       "      <th>KIL</th>\n",
       "      <th>SHA</th>\n",
       "      <th>BIR</th>\n",
       "      <th>DUB</th>\n",
       "      <th>CLA</th>\n",
       "      <th>MUL</th>\n",
       "      <th>CLO</th>\n",
       "      <th>BEL</th>\n",
       "      <th>MAL</th>\n",
       "    </tr>\n",
       "    <tr>\n",
       "      <th>Yr_Mo_Dy</th>\n",
       "      <th></th>\n",
       "      <th></th>\n",
       "      <th></th>\n",
       "      <th></th>\n",
       "      <th></th>\n",
       "      <th></th>\n",
       "      <th></th>\n",
       "      <th></th>\n",
       "      <th></th>\n",
       "      <th></th>\n",
       "      <th></th>\n",
       "      <th></th>\n",
       "    </tr>\n",
       "  </thead>\n",
       "  <tbody>\n",
       "    <tr>\n",
       "      <th>1971</th>\n",
       "      <td>11.273123</td>\n",
       "      <td>9.095178</td>\n",
       "      <td>11.088329</td>\n",
       "      <td>5.241507</td>\n",
       "      <td>9.440329</td>\n",
       "      <td>6.097151</td>\n",
       "      <td>8.385890</td>\n",
       "      <td>6.757315</td>\n",
       "      <td>7.915370</td>\n",
       "      <td>7.229753</td>\n",
       "      <td>12.208932</td>\n",
       "      <td>15.025233</td>\n",
       "    </tr>\n",
       "    <tr>\n",
       "      <th>1972</th>\n",
       "      <td>12.463962</td>\n",
       "      <td>10.561311</td>\n",
       "      <td>12.058333</td>\n",
       "      <td>5.929699</td>\n",
       "      <td>9.430410</td>\n",
       "      <td>6.358825</td>\n",
       "      <td>9.704508</td>\n",
       "      <td>7.680792</td>\n",
       "      <td>8.357295</td>\n",
       "      <td>7.515273</td>\n",
       "      <td>12.727377</td>\n",
       "      <td>15.028716</td>\n",
       "    </tr>\n",
       "    <tr>\n",
       "      <th>1973</th>\n",
       "      <td>11.828466</td>\n",
       "      <td>10.680493</td>\n",
       "      <td>10.680493</td>\n",
       "      <td>5.547863</td>\n",
       "      <td>9.640877</td>\n",
       "      <td>6.548740</td>\n",
       "      <td>8.482110</td>\n",
       "      <td>7.614274</td>\n",
       "      <td>8.245534</td>\n",
       "      <td>7.812411</td>\n",
       "      <td>12.169699</td>\n",
       "      <td>15.441096</td>\n",
       "    </tr>\n",
       "    <tr>\n",
       "      <th>1974</th>\n",
       "      <td>13.643096</td>\n",
       "      <td>11.811781</td>\n",
       "      <td>12.336356</td>\n",
       "      <td>6.427041</td>\n",
       "      <td>11.110986</td>\n",
       "      <td>6.809781</td>\n",
       "      <td>10.084603</td>\n",
       "      <td>9.896986</td>\n",
       "      <td>9.331753</td>\n",
       "      <td>8.736356</td>\n",
       "      <td>13.252959</td>\n",
       "      <td>16.947671</td>\n",
       "    </tr>\n",
       "    <tr>\n",
       "      <th>1975</th>\n",
       "      <td>12.008575</td>\n",
       "      <td>10.293836</td>\n",
       "      <td>11.564712</td>\n",
       "      <td>5.269096</td>\n",
       "      <td>9.190082</td>\n",
       "      <td>5.668521</td>\n",
       "      <td>8.562603</td>\n",
       "      <td>7.843836</td>\n",
       "      <td>8.797945</td>\n",
       "      <td>7.382822</td>\n",
       "      <td>12.631671</td>\n",
       "      <td>15.307863</td>\n",
       "    </tr>\n",
       "  </tbody>\n",
       "</table>\n",
       "</div>"
      ],
      "text/plain": [
       "                RPT        VAL        ROS       KIL        SHA       BIR  \\\n",
       "Yr_Mo_Dy                                                                   \n",
       "1971      11.273123   9.095178  11.088329  5.241507   9.440329  6.097151   \n",
       "1972      12.463962  10.561311  12.058333  5.929699   9.430410  6.358825   \n",
       "1973      11.828466  10.680493  10.680493  5.547863   9.640877  6.548740   \n",
       "1974      13.643096  11.811781  12.336356  6.427041  11.110986  6.809781   \n",
       "1975      12.008575  10.293836  11.564712  5.269096   9.190082  5.668521   \n",
       "\n",
       "                DUB       CLA       MUL       CLO        BEL        MAL  \n",
       "Yr_Mo_Dy                                                                 \n",
       "1971       8.385890  6.757315  7.915370  7.229753  12.208932  15.025233  \n",
       "1972       9.704508  7.680792  8.357295  7.515273  12.727377  15.028716  \n",
       "1973       8.482110  7.614274  8.245534  7.812411  12.169699  15.441096  \n",
       "1974      10.084603  9.896986  9.331753  8.736356  13.252959  16.947671  \n",
       "1975       8.562603  7.843836  8.797945  7.382822  12.631671  15.307863  "
      ]
     },
     "execution_count": 67,
     "metadata": {},
     "output_type": "execute_result"
    }
   ],
   "source": [
    "# Question 68 : 년도별 각 컬럼의 평균값을 구하여라.\n",
    "grp_q68 = df.groupby(df['Yr_Mo_Dy'].dt.year).mean()\n",
    "grp_q68.head()"
   ]
  },
  {
   "cell_type": "code",
   "execution_count": 68,
   "id": "1d9a5cf4",
   "metadata": {
    "ExecuteTime": {
     "end_time": "2023-09-12T00:41:49.787833Z",
     "start_time": "2023-09-12T00:41:49.774986Z"
    }
   },
   "outputs": [
    {
     "data": {
      "text/plain": [
       "0    5\n",
       "1    6\n",
       "2    0\n",
       "Name: weekday, dtype: int64"
      ]
     },
     "execution_count": 68,
     "metadata": {},
     "output_type": "execute_result"
    }
   ],
   "source": [
    "# Question 69 : weekday 컬럼을 만들고 요일별로 매핑하라.\n",
    "df['weekday'] = df['Yr_Mo_Dy'].dt.weekday\n",
    "df['weekday'].head(3)"
   ]
  },
  {
   "cell_type": "code",
   "execution_count": 69,
   "id": "b44d9343",
   "metadata": {
    "ExecuteTime": {
     "end_time": "2023-09-12T00:41:49.826044Z",
     "start_time": "2023-09-12T00:41:49.820318Z"
    }
   },
   "outputs": [
    {
     "data": {
      "text/plain": [
       "0    1\n",
       "1    1\n",
       "2    0\n",
       "Name: WeekCheck, dtype: int64"
      ]
     },
     "execution_count": 69,
     "metadata": {},
     "output_type": "execute_result"
    }
   ],
   "source": [
    "# Question 70 : weekday 컬럼을 기준으로 주말이면 1 평일이면 0의 값을 가지는 WeekCheck 컬럼을 만들어라.\n",
    "df['WeekCheck'] = df['weekday'].map(lambda x: 1 if x in [5, 6] else 0)\n",
    "df['WeekCheck'].head(3)"
   ]
  },
  {
   "cell_type": "code",
   "execution_count": 70,
   "id": "0375a59b",
   "metadata": {
    "ExecuteTime": {
     "end_time": "2023-09-12T00:41:49.865316Z",
     "start_time": "2023-09-12T00:41:49.853829Z"
    }
   },
   "outputs": [
    {
     "data": {
      "text/html": [
       "<div>\n",
       "<style scoped>\n",
       "    .dataframe tbody tr th:only-of-type {\n",
       "        vertical-align: middle;\n",
       "    }\n",
       "\n",
       "    .dataframe tbody tr th {\n",
       "        vertical-align: top;\n",
       "    }\n",
       "\n",
       "    .dataframe thead th {\n",
       "        text-align: right;\n",
       "    }\n",
       "</style>\n",
       "<table border=\"1\" class=\"dataframe\">\n",
       "  <thead>\n",
       "    <tr style=\"text-align: right;\">\n",
       "      <th></th>\n",
       "      <th>RPT</th>\n",
       "      <th>VAL</th>\n",
       "      <th>ROS</th>\n",
       "      <th>KIL</th>\n",
       "      <th>SHA</th>\n",
       "      <th>BIR</th>\n",
       "      <th>DUB</th>\n",
       "      <th>CLA</th>\n",
       "      <th>MUL</th>\n",
       "      <th>CLO</th>\n",
       "      <th>BEL</th>\n",
       "      <th>MAL</th>\n",
       "      <th>weekday</th>\n",
       "      <th>WeekCheck</th>\n",
       "    </tr>\n",
       "    <tr>\n",
       "      <th>Yr_Mo_Dy</th>\n",
       "      <th></th>\n",
       "      <th></th>\n",
       "      <th></th>\n",
       "      <th></th>\n",
       "      <th></th>\n",
       "      <th></th>\n",
       "      <th></th>\n",
       "      <th></th>\n",
       "      <th></th>\n",
       "      <th></th>\n",
       "      <th></th>\n",
       "      <th></th>\n",
       "      <th></th>\n",
       "      <th></th>\n",
       "    </tr>\n",
       "  </thead>\n",
       "  <tbody>\n",
       "    <tr>\n",
       "      <th>1</th>\n",
       "      <td>14.847325</td>\n",
       "      <td>12.914560</td>\n",
       "      <td>13.299624</td>\n",
       "      <td>7.199498</td>\n",
       "      <td>11.667734</td>\n",
       "      <td>8.054839</td>\n",
       "      <td>11.819355</td>\n",
       "      <td>9.512047</td>\n",
       "      <td>9.543208</td>\n",
       "      <td>10.053566</td>\n",
       "      <td>14.550520</td>\n",
       "      <td>18.028763</td>\n",
       "      <td>2.998208</td>\n",
       "      <td>0.288530</td>\n",
       "    </tr>\n",
       "    <tr>\n",
       "      <th>2</th>\n",
       "      <td>13.710906</td>\n",
       "      <td>12.111122</td>\n",
       "      <td>12.879132</td>\n",
       "      <td>6.942411</td>\n",
       "      <td>11.551772</td>\n",
       "      <td>7.633858</td>\n",
       "      <td>11.206024</td>\n",
       "      <td>9.341437</td>\n",
       "      <td>9.313169</td>\n",
       "      <td>9.518051</td>\n",
       "      <td>13.728898</td>\n",
       "      <td>17.156142</td>\n",
       "      <td>3.001969</td>\n",
       "      <td>0.285433</td>\n",
       "    </tr>\n",
       "    <tr>\n",
       "      <th>3</th>\n",
       "      <td>13.158687</td>\n",
       "      <td>11.505842</td>\n",
       "      <td>12.648118</td>\n",
       "      <td>7.265907</td>\n",
       "      <td>11.554516</td>\n",
       "      <td>7.959409</td>\n",
       "      <td>11.310179</td>\n",
       "      <td>9.635896</td>\n",
       "      <td>9.700324</td>\n",
       "      <td>10.096953</td>\n",
       "      <td>13.810609</td>\n",
       "      <td>16.909317</td>\n",
       "      <td>2.996416</td>\n",
       "      <td>0.283154</td>\n",
       "    </tr>\n",
       "  </tbody>\n",
       "</table>\n",
       "</div>"
      ],
      "text/plain": [
       "                RPT        VAL        ROS       KIL        SHA       BIR  \\\n",
       "Yr_Mo_Dy                                                                   \n",
       "1         14.847325  12.914560  13.299624  7.199498  11.667734  8.054839   \n",
       "2         13.710906  12.111122  12.879132  6.942411  11.551772  7.633858   \n",
       "3         13.158687  11.505842  12.648118  7.265907  11.554516  7.959409   \n",
       "\n",
       "                DUB       CLA       MUL        CLO        BEL        MAL  \\\n",
       "Yr_Mo_Dy                                                                   \n",
       "1         11.819355  9.512047  9.543208  10.053566  14.550520  18.028763   \n",
       "2         11.206024  9.341437  9.313169   9.518051  13.728898  17.156142   \n",
       "3         11.310179  9.635896  9.700324  10.096953  13.810609  16.909317   \n",
       "\n",
       "           weekday  WeekCheck  \n",
       "Yr_Mo_Dy                       \n",
       "1         2.998208   0.288530  \n",
       "2         3.001969   0.285433  \n",
       "3         2.996416   0.283154  "
      ]
     },
     "execution_count": 70,
     "metadata": {},
     "output_type": "execute_result"
    }
   ],
   "source": [
    "# Question 71 : 년도, 일자 상관없이 모든 컬럼의 각 달 평균을 구하여라.\n",
    "grp_q71 = df.groupby(df['Yr_Mo_Dy'].dt.month).mean()\n",
    "grp_q71.head(3)"
   ]
  },
  {
   "cell_type": "code",
   "execution_count": 71,
   "id": "bb8961d0",
   "metadata": {
    "ExecuteTime": {
     "end_time": "2023-09-12T00:41:49.890442Z",
     "start_time": "2023-09-12T00:41:49.883590Z"
    }
   },
   "outputs": [
    {
     "data": {
      "text/plain": [
       "Yr_Mo_Dy     0\n",
       "RPT          0\n",
       "VAL          0\n",
       "ROS          0\n",
       "KIL          0\n",
       "SHA          0\n",
       "BIR          0\n",
       "DUB          0\n",
       "CLA          0\n",
       "MUL          0\n",
       "CLO          0\n",
       "BEL          0\n",
       "MAL          0\n",
       "weekday      0\n",
       "WeekCheck    0\n",
       "dtype: int64"
      ]
     },
     "execution_count": 71,
     "metadata": {},
     "output_type": "execute_result"
    }
   ],
   "source": [
    "# Question 72 : 모든 결측치는 컬럼기준 직전의 값으로 대체하고 첫번재 행에 결측치가 있을 경우 뒤에 있는 값으로 대체하라.\n",
    "df = df.fillna(method = 'ffill').fillna(method = 'bfill')\n",
    "df.isnull().sum()"
   ]
  },
  {
   "cell_type": "code",
   "execution_count": 72,
   "id": "a37f5f35",
   "metadata": {
    "ExecuteTime": {
     "end_time": "2023-09-12T00:41:49.926042Z",
     "start_time": "2023-09-12T00:41:49.912829Z"
    }
   },
   "outputs": [
    {
     "data": {
      "text/html": [
       "<div>\n",
       "<style scoped>\n",
       "    .dataframe tbody tr th:only-of-type {\n",
       "        vertical-align: middle;\n",
       "    }\n",
       "\n",
       "    .dataframe tbody tr th {\n",
       "        vertical-align: top;\n",
       "    }\n",
       "\n",
       "    .dataframe thead th {\n",
       "        text-align: right;\n",
       "    }\n",
       "</style>\n",
       "<table border=\"1\" class=\"dataframe\">\n",
       "  <thead>\n",
       "    <tr style=\"text-align: right;\">\n",
       "      <th></th>\n",
       "      <th>RPT</th>\n",
       "      <th>VAL</th>\n",
       "      <th>ROS</th>\n",
       "      <th>KIL</th>\n",
       "      <th>SHA</th>\n",
       "      <th>BIR</th>\n",
       "      <th>DUB</th>\n",
       "      <th>CLA</th>\n",
       "      <th>MUL</th>\n",
       "      <th>CLO</th>\n",
       "      <th>BEL</th>\n",
       "      <th>MAL</th>\n",
       "      <th>weekday</th>\n",
       "      <th>WeekCheck</th>\n",
       "    </tr>\n",
       "    <tr>\n",
       "      <th>Yr_Mo_Dy</th>\n",
       "      <th></th>\n",
       "      <th></th>\n",
       "      <th></th>\n",
       "      <th></th>\n",
       "      <th></th>\n",
       "      <th></th>\n",
       "      <th></th>\n",
       "      <th></th>\n",
       "      <th></th>\n",
       "      <th></th>\n",
       "      <th></th>\n",
       "      <th></th>\n",
       "      <th></th>\n",
       "      <th></th>\n",
       "    </tr>\n",
       "  </thead>\n",
       "  <tbody>\n",
       "    <tr>\n",
       "      <th>1971-01</th>\n",
       "      <td>15.098065</td>\n",
       "      <td>13.398387</td>\n",
       "      <td>13.080000</td>\n",
       "      <td>6.364194</td>\n",
       "      <td>11.342258</td>\n",
       "      <td>7.759677</td>\n",
       "      <td>10.297419</td>\n",
       "      <td>8.350000</td>\n",
       "      <td>8.979355</td>\n",
       "      <td>8.666774</td>\n",
       "      <td>14.392581</td>\n",
       "      <td>16.360000</td>\n",
       "      <td>3.193548</td>\n",
       "      <td>0.322581</td>\n",
       "    </tr>\n",
       "    <tr>\n",
       "      <th>1971-02</th>\n",
       "      <td>11.724643</td>\n",
       "      <td>9.757143</td>\n",
       "      <td>10.311786</td>\n",
       "      <td>5.242143</td>\n",
       "      <td>9.676786</td>\n",
       "      <td>5.492143</td>\n",
       "      <td>8.683929</td>\n",
       "      <td>7.075000</td>\n",
       "      <td>8.272857</td>\n",
       "      <td>7.833571</td>\n",
       "      <td>12.883929</td>\n",
       "      <td>15.863214</td>\n",
       "      <td>3.000000</td>\n",
       "      <td>0.285714</td>\n",
       "    </tr>\n",
       "    <tr>\n",
       "      <th>1971-03</th>\n",
       "      <td>10.844839</td>\n",
       "      <td>8.243226</td>\n",
       "      <td>11.228387</td>\n",
       "      <td>5.629032</td>\n",
       "      <td>8.960000</td>\n",
       "      <td>5.486774</td>\n",
       "      <td>9.061935</td>\n",
       "      <td>6.700000</td>\n",
       "      <td>8.494516</td>\n",
       "      <td>7.758387</td>\n",
       "      <td>11.510000</td>\n",
       "      <td>15.678387</td>\n",
       "      <td>2.806452</td>\n",
       "      <td>0.258065</td>\n",
       "    </tr>\n",
       "    <tr>\n",
       "      <th>1971-04</th>\n",
       "      <td>9.884333</td>\n",
       "      <td>6.848000</td>\n",
       "      <td>11.187667</td>\n",
       "      <td>4.891333</td>\n",
       "      <td>8.165000</td>\n",
       "      <td>5.319000</td>\n",
       "      <td>6.688000</td>\n",
       "      <td>5.856667</td>\n",
       "      <td>7.512667</td>\n",
       "      <td>6.051333</td>\n",
       "      <td>9.014000</td>\n",
       "      <td>12.301000</td>\n",
       "      <td>3.033333</td>\n",
       "      <td>0.266667</td>\n",
       "    </tr>\n",
       "    <tr>\n",
       "      <th>1971-05</th>\n",
       "      <td>11.200645</td>\n",
       "      <td>8.883548</td>\n",
       "      <td>9.564839</td>\n",
       "      <td>4.888387</td>\n",
       "      <td>8.322903</td>\n",
       "      <td>5.423226</td>\n",
       "      <td>5.875806</td>\n",
       "      <td>7.230323</td>\n",
       "      <td>7.494839</td>\n",
       "      <td>7.122581</td>\n",
       "      <td>11.926129</td>\n",
       "      <td>13.107742</td>\n",
       "      <td>3.064516</td>\n",
       "      <td>0.322581</td>\n",
       "    </tr>\n",
       "  </tbody>\n",
       "</table>\n",
       "</div>"
      ],
      "text/plain": [
       "                RPT        VAL        ROS       KIL        SHA       BIR  \\\n",
       "Yr_Mo_Dy                                                                   \n",
       "1971-01   15.098065  13.398387  13.080000  6.364194  11.342258  7.759677   \n",
       "1971-02   11.724643   9.757143  10.311786  5.242143   9.676786  5.492143   \n",
       "1971-03   10.844839   8.243226  11.228387  5.629032   8.960000  5.486774   \n",
       "1971-04    9.884333   6.848000  11.187667  4.891333   8.165000  5.319000   \n",
       "1971-05   11.200645   8.883548   9.564839  4.888387   8.322903  5.423226   \n",
       "\n",
       "                DUB       CLA       MUL       CLO        BEL        MAL  \\\n",
       "Yr_Mo_Dy                                                                  \n",
       "1971-01   10.297419  8.350000  8.979355  8.666774  14.392581  16.360000   \n",
       "1971-02    8.683929  7.075000  8.272857  7.833571  12.883929  15.863214   \n",
       "1971-03    9.061935  6.700000  8.494516  7.758387  11.510000  15.678387   \n",
       "1971-04    6.688000  5.856667  7.512667  6.051333   9.014000  12.301000   \n",
       "1971-05    5.875806  7.230323  7.494839  7.122581  11.926129  13.107742   \n",
       "\n",
       "           weekday  WeekCheck  \n",
       "Yr_Mo_Dy                       \n",
       "1971-01   3.193548   0.322581  \n",
       "1971-02   3.000000   0.285714  \n",
       "1971-03   2.806452   0.258065  \n",
       "1971-04   3.033333   0.266667  \n",
       "1971-05   3.064516   0.322581  "
      ]
     },
     "execution_count": 72,
     "metadata": {},
     "output_type": "execute_result"
    }
   ],
   "source": [
    "# Question 73 : 년도 - 월을 기준으로 모든 컬럼의 평균값을 구하여라.\n",
    "grouped_q73 = df.groupby(df.Yr_Mo_Dy.dt.to_period('M')).mean()\n",
    "grouped_q73.head()"
   ]
  },
  {
   "cell_type": "code",
   "execution_count": 73,
   "id": "99d87b44",
   "metadata": {
    "ExecuteTime": {
     "end_time": "2023-09-12T00:41:49.944365Z",
     "start_time": "2023-09-12T00:41:49.940470Z"
    }
   },
   "outputs": [
    {
     "data": {
      "text/plain": [
       "0     NaN\n",
       "1   -0.33\n",
       "2    3.79\n",
       "3   -7.92\n",
       "4    2.75\n",
       "Name: RPT, dtype: float64"
      ]
     },
     "execution_count": 73,
     "metadata": {},
     "output_type": "execute_result"
    }
   ],
   "source": [
    "# Question 74 : RPT 컬럼의 값을 일자별 기준으로 1차 차분하라.\n",
    "res_q74 = df['RPT'].diff()\n",
    "res_q74.head()"
   ]
  },
  {
   "cell_type": "code",
   "execution_count": 74,
   "id": "067e0da2",
   "metadata": {
    "ExecuteTime": {
     "end_time": "2023-09-12T00:41:49.981252Z",
     "start_time": "2023-09-12T00:41:49.974974Z"
    }
   },
   "outputs": [
    {
     "data": {
      "text/html": [
       "<div>\n",
       "<style scoped>\n",
       "    .dataframe tbody tr th:only-of-type {\n",
       "        vertical-align: middle;\n",
       "    }\n",
       "\n",
       "    .dataframe tbody tr th {\n",
       "        vertical-align: top;\n",
       "    }\n",
       "\n",
       "    .dataframe thead th {\n",
       "        text-align: right;\n",
       "    }\n",
       "</style>\n",
       "<table border=\"1\" class=\"dataframe\">\n",
       "  <thead>\n",
       "    <tr style=\"text-align: right;\">\n",
       "      <th></th>\n",
       "      <th>RPT</th>\n",
       "      <th>VAL</th>\n",
       "    </tr>\n",
       "  </thead>\n",
       "  <tbody>\n",
       "    <tr>\n",
       "      <th>5</th>\n",
       "      <td>NaN</td>\n",
       "      <td>NaN</td>\n",
       "    </tr>\n",
       "    <tr>\n",
       "      <th>6</th>\n",
       "      <td>14.124286</td>\n",
       "      <td>12.727143</td>\n",
       "    </tr>\n",
       "    <tr>\n",
       "      <th>7</th>\n",
       "      <td>13.541429</td>\n",
       "      <td>11.982857</td>\n",
       "    </tr>\n",
       "    <tr>\n",
       "      <th>8</th>\n",
       "      <td>13.237143</td>\n",
       "      <td>11.392857</td>\n",
       "    </tr>\n",
       "    <tr>\n",
       "      <th>9</th>\n",
       "      <td>12.504286</td>\n",
       "      <td>10.570000</td>\n",
       "    </tr>\n",
       "  </tbody>\n",
       "</table>\n",
       "</div>"
      ],
      "text/plain": [
       "         RPT        VAL\n",
       "5        NaN        NaN\n",
       "6  14.124286  12.727143\n",
       "7  13.541429  11.982857\n",
       "8  13.237143  11.392857\n",
       "9  12.504286  10.570000"
      ]
     },
     "execution_count": 74,
     "metadata": {},
     "output_type": "execute_result"
    }
   ],
   "source": [
    "# Question 75 : RPT와 VAL의 컬럼을 일주일 간격으로 각각 이동평균한값을 구하여라.\n",
    "res_q75 = df[['RPT', 'VAL']].rolling(7).mean()\n",
    "res_q75[5:10]"
   ]
  },
  {
   "cell_type": "code",
   "execution_count": 75,
   "id": "0452981c",
   "metadata": {
    "ExecuteTime": {
     "end_time": "2023-09-12T00:41:50.385412Z",
     "start_time": "2023-09-12T00:41:50.005155Z"
    }
   },
   "outputs": [
    {
     "data": {
      "text/html": [
       "<div>\n",
       "<style scoped>\n",
       "    .dataframe tbody tr th:only-of-type {\n",
       "        vertical-align: middle;\n",
       "    }\n",
       "\n",
       "    .dataframe tbody tr th {\n",
       "        vertical-align: top;\n",
       "    }\n",
       "\n",
       "    .dataframe thead th {\n",
       "        text-align: right;\n",
       "    }\n",
       "</style>\n",
       "<table border=\"1\" class=\"dataframe\">\n",
       "  <thead>\n",
       "    <tr style=\"text-align: right;\">\n",
       "      <th></th>\n",
       "      <th>(년-월-일:시)</th>\n",
       "      <th>PM10등급</th>\n",
       "      <th>PM10</th>\n",
       "      <th>PM2.5등급</th>\n",
       "      <th>PM2.5</th>\n",
       "      <th>오존등급</th>\n",
       "      <th>오존</th>\n",
       "      <th>이산화질소등급</th>\n",
       "      <th>이산화질소</th>\n",
       "      <th>일산화탄소등급</th>\n",
       "      <th>일산화탄소</th>\n",
       "      <th>아황산가스등급</th>\n",
       "      <th>아황산가스</th>\n",
       "    </tr>\n",
       "  </thead>\n",
       "  <tbody>\n",
       "    <tr>\n",
       "      <th>0</th>\n",
       "      <td>2021-05-15:15</td>\n",
       "      <td>보통</td>\n",
       "      <td>47.0</td>\n",
       "      <td>보통</td>\n",
       "      <td>19.0</td>\n",
       "      <td>좋음</td>\n",
       "      <td>0.017</td>\n",
       "      <td>좋음</td>\n",
       "      <td>0.023</td>\n",
       "      <td>좋음</td>\n",
       "      <td>0.4</td>\n",
       "      <td>좋음</td>\n",
       "      <td>0.003</td>\n",
       "    </tr>\n",
       "    <tr>\n",
       "      <th>1</th>\n",
       "      <td>2021-05-15:14</td>\n",
       "      <td>보통</td>\n",
       "      <td>43.0</td>\n",
       "      <td>보통</td>\n",
       "      <td>20.0</td>\n",
       "      <td>좋음</td>\n",
       "      <td>0.024</td>\n",
       "      <td>좋음</td>\n",
       "      <td>0.019</td>\n",
       "      <td>좋음</td>\n",
       "      <td>0.3</td>\n",
       "      <td>좋음</td>\n",
       "      <td>0.003</td>\n",
       "    </tr>\n",
       "    <tr>\n",
       "      <th>2</th>\n",
       "      <td>2021-05-15:13</td>\n",
       "      <td>보통</td>\n",
       "      <td>34.0</td>\n",
       "      <td>보통</td>\n",
       "      <td>24.0</td>\n",
       "      <td>보통</td>\n",
       "      <td>0.035</td>\n",
       "      <td>좋음</td>\n",
       "      <td>0.017</td>\n",
       "      <td>좋음</td>\n",
       "      <td>0.4</td>\n",
       "      <td>좋음</td>\n",
       "      <td>0.004</td>\n",
       "    </tr>\n",
       "    <tr>\n",
       "      <th>3</th>\n",
       "      <td>2021-05-15:12</td>\n",
       "      <td>보통</td>\n",
       "      <td>41.0</td>\n",
       "      <td>보통</td>\n",
       "      <td>27.0</td>\n",
       "      <td>보통</td>\n",
       "      <td>0.037</td>\n",
       "      <td>좋음</td>\n",
       "      <td>0.020</td>\n",
       "      <td>좋음</td>\n",
       "      <td>0.4</td>\n",
       "      <td>좋음</td>\n",
       "      <td>0.004</td>\n",
       "    </tr>\n",
       "    <tr>\n",
       "      <th>4</th>\n",
       "      <td>2021-05-15:11</td>\n",
       "      <td>보통</td>\n",
       "      <td>51.0</td>\n",
       "      <td>보통</td>\n",
       "      <td>34.0</td>\n",
       "      <td>보통</td>\n",
       "      <td>0.033</td>\n",
       "      <td>좋음</td>\n",
       "      <td>0.023</td>\n",
       "      <td>좋음</td>\n",
       "      <td>0.4</td>\n",
       "      <td>좋음</td>\n",
       "      <td>0.005</td>\n",
       "    </tr>\n",
       "  </tbody>\n",
       "</table>\n",
       "</div>"
      ],
      "text/plain": [
       "       (년-월-일:시) PM10등급  PM10 PM2.5등급  PM2.5 오존등급     오존 이산화질소등급  이산화질소  \\\n",
       "0  2021-05-15:15     보통  47.0      보통   19.0   좋음  0.017      좋음  0.023   \n",
       "1  2021-05-15:14     보통  43.0      보통   20.0   좋음  0.024      좋음  0.019   \n",
       "2  2021-05-15:13     보통  34.0      보통   24.0   보통  0.035      좋음  0.017   \n",
       "3  2021-05-15:12     보통  41.0      보통   27.0   보통  0.037      좋음  0.020   \n",
       "4  2021-05-15:11     보통  51.0      보통   34.0   보통  0.033      좋음  0.023   \n",
       "\n",
       "  일산화탄소등급  일산화탄소 아황산가스등급  아황산가스  \n",
       "0      좋음    0.4      좋음  0.003  \n",
       "1      좋음    0.3      좋음  0.003  \n",
       "2      좋음    0.4      좋음  0.004  \n",
       "3      좋음    0.4      좋음  0.004  \n",
       "4      좋음    0.4      좋음  0.005  "
      ]
     },
     "execution_count": 75,
     "metadata": {},
     "output_type": "execute_result"
    }
   ],
   "source": [
    "# Question 76 : 년-월-일:시 컬럼을 pandas에서 인식할 수 있는 datetime 형태로 변경하라. 서울시의 제공데이터의 경우 0 시가 24시로 표현된다.\n",
    "df = pd.read_csv('https://raw.githubusercontent.com/Datamanim/pandas/main/seoul_pm.csv')\n",
    "df.head()"
   ]
  },
  {
   "cell_type": "code",
   "execution_count": 76,
   "id": "94b3df78",
   "metadata": {
    "ExecuteTime": {
     "end_time": "2023-09-12T00:41:50.467063Z",
     "start_time": "2023-09-12T00:41:50.386954Z"
    }
   },
   "outputs": [
    {
     "data": {
      "text/html": [
       "<div>\n",
       "<style scoped>\n",
       "    .dataframe tbody tr th:only-of-type {\n",
       "        vertical-align: middle;\n",
       "    }\n",
       "\n",
       "    .dataframe tbody tr th {\n",
       "        vertical-align: top;\n",
       "    }\n",
       "\n",
       "    .dataframe thead th {\n",
       "        text-align: right;\n",
       "    }\n",
       "</style>\n",
       "<table border=\"1\" class=\"dataframe\">\n",
       "  <thead>\n",
       "    <tr style=\"text-align: right;\">\n",
       "      <th></th>\n",
       "      <th>(년-월-일:시)</th>\n",
       "      <th>PM10등급</th>\n",
       "      <th>PM10</th>\n",
       "      <th>PM2.5등급</th>\n",
       "      <th>PM2.5</th>\n",
       "      <th>오존등급</th>\n",
       "      <th>오존</th>\n",
       "      <th>이산화질소등급</th>\n",
       "      <th>이산화질소</th>\n",
       "      <th>일산화탄소등급</th>\n",
       "      <th>일산화탄소</th>\n",
       "      <th>아황산가스등급</th>\n",
       "      <th>아황산가스</th>\n",
       "    </tr>\n",
       "  </thead>\n",
       "  <tbody>\n",
       "    <tr>\n",
       "      <th>0</th>\n",
       "      <td>2021-05-15 15:00:00</td>\n",
       "      <td>보통</td>\n",
       "      <td>47.0</td>\n",
       "      <td>보통</td>\n",
       "      <td>19.0</td>\n",
       "      <td>좋음</td>\n",
       "      <td>0.017</td>\n",
       "      <td>좋음</td>\n",
       "      <td>0.023</td>\n",
       "      <td>좋음</td>\n",
       "      <td>0.4</td>\n",
       "      <td>좋음</td>\n",
       "      <td>0.003</td>\n",
       "    </tr>\n",
       "    <tr>\n",
       "      <th>1</th>\n",
       "      <td>2021-05-15 14:00:00</td>\n",
       "      <td>보통</td>\n",
       "      <td>43.0</td>\n",
       "      <td>보통</td>\n",
       "      <td>20.0</td>\n",
       "      <td>좋음</td>\n",
       "      <td>0.024</td>\n",
       "      <td>좋음</td>\n",
       "      <td>0.019</td>\n",
       "      <td>좋음</td>\n",
       "      <td>0.3</td>\n",
       "      <td>좋음</td>\n",
       "      <td>0.003</td>\n",
       "    </tr>\n",
       "    <tr>\n",
       "      <th>2</th>\n",
       "      <td>2021-05-15 13:00:00</td>\n",
       "      <td>보통</td>\n",
       "      <td>34.0</td>\n",
       "      <td>보통</td>\n",
       "      <td>24.0</td>\n",
       "      <td>보통</td>\n",
       "      <td>0.035</td>\n",
       "      <td>좋음</td>\n",
       "      <td>0.017</td>\n",
       "      <td>좋음</td>\n",
       "      <td>0.4</td>\n",
       "      <td>좋음</td>\n",
       "      <td>0.004</td>\n",
       "    </tr>\n",
       "    <tr>\n",
       "      <th>3</th>\n",
       "      <td>2021-05-15 12:00:00</td>\n",
       "      <td>보통</td>\n",
       "      <td>41.0</td>\n",
       "      <td>보통</td>\n",
       "      <td>27.0</td>\n",
       "      <td>보통</td>\n",
       "      <td>0.037</td>\n",
       "      <td>좋음</td>\n",
       "      <td>0.020</td>\n",
       "      <td>좋음</td>\n",
       "      <td>0.4</td>\n",
       "      <td>좋음</td>\n",
       "      <td>0.004</td>\n",
       "    </tr>\n",
       "    <tr>\n",
       "      <th>4</th>\n",
       "      <td>2021-05-15 11:00:00</td>\n",
       "      <td>보통</td>\n",
       "      <td>51.0</td>\n",
       "      <td>보통</td>\n",
       "      <td>34.0</td>\n",
       "      <td>보통</td>\n",
       "      <td>0.033</td>\n",
       "      <td>좋음</td>\n",
       "      <td>0.023</td>\n",
       "      <td>좋음</td>\n",
       "      <td>0.4</td>\n",
       "      <td>좋음</td>\n",
       "      <td>0.005</td>\n",
       "    </tr>\n",
       "  </tbody>\n",
       "</table>\n",
       "</div>"
      ],
      "text/plain": [
       "            (년-월-일:시) PM10등급  PM10 PM2.5등급  PM2.5 오존등급     오존 이산화질소등급  이산화질소  \\\n",
       "0 2021-05-15 15:00:00     보통  47.0      보통   19.0   좋음  0.017      좋음  0.023   \n",
       "1 2021-05-15 14:00:00     보통  43.0      보통   20.0   좋음  0.024      좋음  0.019   \n",
       "2 2021-05-15 13:00:00     보통  34.0      보통   24.0   보통  0.035      좋음  0.017   \n",
       "3 2021-05-15 12:00:00     보통  41.0      보통   27.0   보통  0.037      좋음  0.020   \n",
       "4 2021-05-15 11:00:00     보통  51.0      보통   34.0   보통  0.033      좋음  0.023   \n",
       "\n",
       "  일산화탄소등급  일산화탄소 아황산가스등급  아황산가스  \n",
       "0      좋음    0.4      좋음  0.003  \n",
       "1      좋음    0.3      좋음  0.003  \n",
       "2      좋음    0.4      좋음  0.004  \n",
       "3      좋음    0.4      좋음  0.004  \n",
       "4      좋음    0.4      좋음  0.005  "
      ]
     },
     "execution_count": 76,
     "metadata": {},
     "output_type": "execute_result"
    }
   ],
   "source": [
    " def change_date(x) :\n",
    "    import datetime\n",
    "    hour = x.split(':')[1]\n",
    "    date = x.split(':')[0]\n",
    "\n",
    "    if hour == '24':\n",
    "        hour = '00:00:00'\n",
    "        return pd.to_datetime(date + \" \" + hour) + datetime.timedelta(days = 1)\n",
    "    else :\n",
    "        hour += ':00:00'\n",
    "        return pd.to_datetime(date + \" \" + hour)\n",
    "\n",
    "df['(년-월-일:시)'] = df['(년-월-일:시)'].apply(change_date)\n",
    "df.head()"
   ]
  },
  {
   "cell_type": "code",
   "execution_count": 77,
   "id": "c71ab90b",
   "metadata": {
    "ExecuteTime": {
     "end_time": "2023-09-12T00:41:50.474724Z",
     "start_time": "2023-09-12T00:41:50.468319Z"
    }
   },
   "outputs": [
    {
     "data": {
      "text/plain": [
       "0    Saturday\n",
       "1    Saturday\n",
       "2    Saturday\n",
       "Name: dayName, dtype: object"
      ]
     },
     "execution_count": 77,
     "metadata": {},
     "output_type": "execute_result"
    }
   ],
   "source": [
    "# Question 77 : 일자별 영어요일 이름을 dayName 컬럼에 저장하라.\n",
    "df['dayName'] = df['(년-월-일:시)'].dt.day_name()\n",
    "df['dayName'].head(3)"
   ]
  },
  {
   "cell_type": "code",
   "execution_count": 78,
   "id": "dc1cc12e",
   "metadata": {
    "ExecuteTime": {
     "end_time": "2023-09-12T00:41:50.485493Z",
     "start_time": "2023-09-12T00:41:50.476815Z"
    }
   },
   "outputs": [
    {
     "data": {
      "text/html": [
       "<div>\n",
       "<style scoped>\n",
       "    .dataframe tbody tr th:only-of-type {\n",
       "        vertical-align: middle;\n",
       "    }\n",
       "\n",
       "    .dataframe tbody tr th {\n",
       "        vertical-align: top;\n",
       "    }\n",
       "\n",
       "    .dataframe thead th {\n",
       "        text-align: right;\n",
       "    }\n",
       "</style>\n",
       "<table border=\"1\" class=\"dataframe\">\n",
       "  <thead>\n",
       "    <tr style=\"text-align: right;\">\n",
       "      <th></th>\n",
       "      <th>dayName</th>\n",
       "      <th>PM10</th>\n",
       "      <th>size</th>\n",
       "    </tr>\n",
       "  </thead>\n",
       "  <tbody>\n",
       "    <tr>\n",
       "      <th>0</th>\n",
       "      <td>Friday</td>\n",
       "      <td>11.0</td>\n",
       "      <td>1</td>\n",
       "    </tr>\n",
       "    <tr>\n",
       "      <th>1</th>\n",
       "      <td>Friday</td>\n",
       "      <td>12.0</td>\n",
       "      <td>5</td>\n",
       "    </tr>\n",
       "    <tr>\n",
       "      <th>2</th>\n",
       "      <td>Friday</td>\n",
       "      <td>17.0</td>\n",
       "      <td>2</td>\n",
       "    </tr>\n",
       "    <tr>\n",
       "      <th>3</th>\n",
       "      <td>Friday</td>\n",
       "      <td>19.0</td>\n",
       "      <td>2</td>\n",
       "    </tr>\n",
       "    <tr>\n",
       "      <th>4</th>\n",
       "      <td>Friday</td>\n",
       "      <td>24.0</td>\n",
       "      <td>1</td>\n",
       "    </tr>\n",
       "  </tbody>\n",
       "</table>\n",
       "</div>"
      ],
      "text/plain": [
       "  dayName  PM10  size\n",
       "0  Friday  11.0     1\n",
       "1  Friday  12.0     5\n",
       "2  Friday  17.0     2\n",
       "3  Friday  19.0     2\n",
       "4  Friday  24.0     1"
      ]
     },
     "execution_count": 78,
     "metadata": {},
     "output_type": "execute_result"
    }
   ],
   "source": [
    "# Question 78 : 일자별 각 PM10 등급의 빈도수를 파악하라.\n",
    "grp_q78 = df[['dayName', 'PM10']].groupby(['dayName', 'PM10'], as_index = False).size()\n",
    "grp_q78.head()"
   ]
  },
  {
   "cell_type": "code",
   "execution_count": 79,
   "id": "9ec310ca",
   "metadata": {
    "ExecuteTime": {
     "end_time": "2023-09-12T00:41:50.491558Z",
     "start_time": "2023-09-12T00:41:50.486632Z"
    }
   },
   "outputs": [
    {
     "name": "stdout",
     "output_type": "stream",
     "text": [
      "True\n"
     ]
    }
   ],
   "source": [
    "# Question 79 : 시간이 연속적으로 존재하며 결측치가 없는지 확인하라.\n",
    "check = len(df['(년-월-일:시)'].diff().unique())\n",
    "if check == 2 :\n",
    "    print(\"True\")\n",
    "else :\n",
    "    print(\"False\")"
   ]
  },
  {
   "cell_type": "code",
   "execution_count": 80,
   "id": "568aa388",
   "metadata": {
    "ExecuteTime": {
     "end_time": "2023-09-12T00:41:50.500537Z",
     "start_time": "2023-09-12T00:41:50.492828Z"
    }
   },
   "outputs": [
    {
     "data": {
      "text/html": [
       "<div>\n",
       "<style scoped>\n",
       "    .dataframe tbody tr th:only-of-type {\n",
       "        vertical-align: middle;\n",
       "    }\n",
       "\n",
       "    .dataframe tbody tr th {\n",
       "        vertical-align: top;\n",
       "    }\n",
       "\n",
       "    .dataframe thead th {\n",
       "        text-align: right;\n",
       "    }\n",
       "</style>\n",
       "<table border=\"1\" class=\"dataframe\">\n",
       "  <thead>\n",
       "    <tr style=\"text-align: right;\">\n",
       "      <th></th>\n",
       "      <th>PM10</th>\n",
       "    </tr>\n",
       "  </thead>\n",
       "  <tbody>\n",
       "    <tr>\n",
       "      <th>10</th>\n",
       "      <td>70.384615</td>\n",
       "    </tr>\n",
       "    <tr>\n",
       "      <th>20</th>\n",
       "      <td>67.666667</td>\n",
       "    </tr>\n",
       "  </tbody>\n",
       "</table>\n",
       "</div>"
      ],
      "text/plain": [
       "         PM10\n",
       "10  70.384615\n",
       "20  67.666667"
      ]
     },
     "execution_count": 80,
     "metadata": {},
     "output_type": "execute_result"
    }
   ],
   "source": [
    "# Question 80 : 오전 10시와 오후 10시의 PM10의 평균값을 각각 구하여라.\n",
    "grp_q80 = df[['(년-월-일:시)', 'PM10']].groupby(df['(년-월-일:시)'].dt.hour, as_index = False).mean().iloc[[10, 20], :]\n",
    "grp_q80"
   ]
  },
  {
   "cell_type": "code",
   "execution_count": 81,
   "id": "3acb5207",
   "metadata": {
    "ExecuteTime": {
     "end_time": "2023-09-12T00:41:51.123673Z",
     "start_time": "2023-09-12T00:41:51.084562Z"
    }
   },
   "outputs": [
    {
     "data": {
      "text/html": [
       "<div>\n",
       "<style scoped>\n",
       "    .dataframe tbody tr th:only-of-type {\n",
       "        vertical-align: middle;\n",
       "    }\n",
       "\n",
       "    .dataframe tbody tr th {\n",
       "        vertical-align: top;\n",
       "    }\n",
       "\n",
       "    .dataframe thead th {\n",
       "        text-align: right;\n",
       "    }\n",
       "</style>\n",
       "<table border=\"1\" class=\"dataframe\">\n",
       "  <thead>\n",
       "    <tr style=\"text-align: right;\">\n",
       "      <th></th>\n",
       "      <th>PM10등급</th>\n",
       "      <th>PM10</th>\n",
       "      <th>PM2.5등급</th>\n",
       "      <th>PM2.5</th>\n",
       "      <th>오존등급</th>\n",
       "      <th>오존</th>\n",
       "      <th>이산화질소등급</th>\n",
       "      <th>이산화질소</th>\n",
       "      <th>일산화탄소등급</th>\n",
       "      <th>일산화탄소</th>\n",
       "      <th>아황산가스등급</th>\n",
       "      <th>아황산가스</th>\n",
       "      <th>dayName</th>\n",
       "    </tr>\n",
       "    <tr>\n",
       "      <th>(년-월-일:시)</th>\n",
       "      <th></th>\n",
       "      <th></th>\n",
       "      <th></th>\n",
       "      <th></th>\n",
       "      <th></th>\n",
       "      <th></th>\n",
       "      <th></th>\n",
       "      <th></th>\n",
       "      <th></th>\n",
       "      <th></th>\n",
       "      <th></th>\n",
       "      <th></th>\n",
       "      <th></th>\n",
       "    </tr>\n",
       "  </thead>\n",
       "  <tbody>\n",
       "    <tr>\n",
       "      <th>2021-05-15 15:00:00</th>\n",
       "      <td>보통</td>\n",
       "      <td>47.0</td>\n",
       "      <td>보통</td>\n",
       "      <td>19.0</td>\n",
       "      <td>좋음</td>\n",
       "      <td>0.017</td>\n",
       "      <td>좋음</td>\n",
       "      <td>0.023</td>\n",
       "      <td>좋음</td>\n",
       "      <td>0.4</td>\n",
       "      <td>좋음</td>\n",
       "      <td>0.003</td>\n",
       "      <td>Saturday</td>\n",
       "    </tr>\n",
       "    <tr>\n",
       "      <th>2021-05-15 14:00:00</th>\n",
       "      <td>보통</td>\n",
       "      <td>43.0</td>\n",
       "      <td>보통</td>\n",
       "      <td>20.0</td>\n",
       "      <td>좋음</td>\n",
       "      <td>0.024</td>\n",
       "      <td>좋음</td>\n",
       "      <td>0.019</td>\n",
       "      <td>좋음</td>\n",
       "      <td>0.3</td>\n",
       "      <td>좋음</td>\n",
       "      <td>0.003</td>\n",
       "      <td>Saturday</td>\n",
       "    </tr>\n",
       "    <tr>\n",
       "      <th>2021-05-15 13:00:00</th>\n",
       "      <td>보통</td>\n",
       "      <td>34.0</td>\n",
       "      <td>보통</td>\n",
       "      <td>24.0</td>\n",
       "      <td>보통</td>\n",
       "      <td>0.035</td>\n",
       "      <td>좋음</td>\n",
       "      <td>0.017</td>\n",
       "      <td>좋음</td>\n",
       "      <td>0.4</td>\n",
       "      <td>좋음</td>\n",
       "      <td>0.004</td>\n",
       "      <td>Saturday</td>\n",
       "    </tr>\n",
       "  </tbody>\n",
       "</table>\n",
       "</div>"
      ],
      "text/plain": [
       "                    PM10등급  PM10 PM2.5등급  PM2.5 오존등급     오존 이산화질소등급  이산화질소  \\\n",
       "(년-월-일:시)                                                                    \n",
       "2021-05-15 15:00:00     보통  47.0      보통   19.0   좋음  0.017      좋음  0.023   \n",
       "2021-05-15 14:00:00     보통  43.0      보통   20.0   좋음  0.024      좋음  0.019   \n",
       "2021-05-15 13:00:00     보통  34.0      보통   24.0   보통  0.035      좋음  0.017   \n",
       "\n",
       "                    일산화탄소등급  일산화탄소 아황산가스등급  아황산가스   dayName  \n",
       "(년-월-일:시)                                                    \n",
       "2021-05-15 15:00:00      좋음    0.4      좋음  0.003  Saturday  \n",
       "2021-05-15 14:00:00      좋음    0.3      좋음  0.003  Saturday  \n",
       "2021-05-15 13:00:00      좋음    0.4      좋음  0.004  Saturday  "
      ]
     },
     "execution_count": 81,
     "metadata": {},
     "output_type": "execute_result"
    }
   ],
   "source": [
    "# Question 81 : 날짜 컬럼을 index로 만들어라.\n",
    "df.set_index(['(년-월-일:시)'], inplace = True)\n",
    "df.head(3)"
   ]
  },
  {
   "cell_type": "code",
   "execution_count": 82,
   "id": "a68889ab",
   "metadata": {
    "ExecuteTime": {
     "end_time": "2023-09-12T00:41:51.644750Z",
     "start_time": "2023-09-12T00:41:51.596703Z"
    }
   },
   "outputs": [
    {
     "name": "stderr",
     "output_type": "stream",
     "text": [
      "/tmp/ipykernel_10548/1305192967.py:2: FutureWarning: ['PM10등급', 'PM2.5등급', '오존등급', '이산화질소등급', '일산화탄소등급', '아황산가스등급', 'dayName'] did not aggregate successfully. If any error is raised this will raise in a future version of pandas. Drop these columns/ops to avoid this warning.\n",
      "  grouped_q82 = df.resample('W').agg(['min', 'max', 'mean', 'std'])\n"
     ]
    },
    {
     "data": {
      "text/html": [
       "<div>\n",
       "<style scoped>\n",
       "    .dataframe tbody tr th:only-of-type {\n",
       "        vertical-align: middle;\n",
       "    }\n",
       "\n",
       "    .dataframe tbody tr th {\n",
       "        vertical-align: top;\n",
       "    }\n",
       "\n",
       "    .dataframe thead tr th {\n",
       "        text-align: left;\n",
       "    }\n",
       "\n",
       "    .dataframe thead tr:last-of-type th {\n",
       "        text-align: right;\n",
       "    }\n",
       "</style>\n",
       "<table border=\"1\" class=\"dataframe\">\n",
       "  <thead>\n",
       "    <tr>\n",
       "      <th></th>\n",
       "      <th colspan=\"4\" halign=\"left\">PM10</th>\n",
       "      <th colspan=\"4\" halign=\"left\">PM2.5</th>\n",
       "      <th colspan=\"2\" halign=\"left\">오존</th>\n",
       "      <th>...</th>\n",
       "      <th colspan=\"2\" halign=\"left\">이산화질소</th>\n",
       "      <th colspan=\"4\" halign=\"left\">일산화탄소</th>\n",
       "      <th colspan=\"4\" halign=\"left\">아황산가스</th>\n",
       "    </tr>\n",
       "    <tr>\n",
       "      <th></th>\n",
       "      <th>min</th>\n",
       "      <th>max</th>\n",
       "      <th>mean</th>\n",
       "      <th>std</th>\n",
       "      <th>min</th>\n",
       "      <th>max</th>\n",
       "      <th>mean</th>\n",
       "      <th>std</th>\n",
       "      <th>min</th>\n",
       "      <th>max</th>\n",
       "      <th>...</th>\n",
       "      <th>mean</th>\n",
       "      <th>std</th>\n",
       "      <th>min</th>\n",
       "      <th>max</th>\n",
       "      <th>mean</th>\n",
       "      <th>std</th>\n",
       "      <th>min</th>\n",
       "      <th>max</th>\n",
       "      <th>mean</th>\n",
       "      <th>std</th>\n",
       "    </tr>\n",
       "    <tr>\n",
       "      <th>(년-월-일:시)</th>\n",
       "      <th></th>\n",
       "      <th></th>\n",
       "      <th></th>\n",
       "      <th></th>\n",
       "      <th></th>\n",
       "      <th></th>\n",
       "      <th></th>\n",
       "      <th></th>\n",
       "      <th></th>\n",
       "      <th></th>\n",
       "      <th></th>\n",
       "      <th></th>\n",
       "      <th></th>\n",
       "      <th></th>\n",
       "      <th></th>\n",
       "      <th></th>\n",
       "      <th></th>\n",
       "      <th></th>\n",
       "      <th></th>\n",
       "      <th></th>\n",
       "      <th></th>\n",
       "    </tr>\n",
       "  </thead>\n",
       "  <tbody>\n",
       "    <tr>\n",
       "      <th>2021-03-28</th>\n",
       "      <td>6.0</td>\n",
       "      <td>160.0</td>\n",
       "      <td>72.747368</td>\n",
       "      <td>43.345462</td>\n",
       "      <td>4.0</td>\n",
       "      <td>113.0</td>\n",
       "      <td>44.705263</td>\n",
       "      <td>29.551928</td>\n",
       "      <td>0.002</td>\n",
       "      <td>0.085</td>\n",
       "      <td>...</td>\n",
       "      <td>0.044579</td>\n",
       "      <td>0.023722</td>\n",
       "      <td>0.3</td>\n",
       "      <td>1.4</td>\n",
       "      <td>0.611579</td>\n",
       "      <td>0.232408</td>\n",
       "      <td>0.002</td>\n",
       "      <td>0.006</td>\n",
       "      <td>0.003274</td>\n",
       "      <td>0.000961</td>\n",
       "    </tr>\n",
       "    <tr>\n",
       "      <th>2021-04-04</th>\n",
       "      <td>3.0</td>\n",
       "      <td>598.0</td>\n",
       "      <td>97.148810</td>\n",
       "      <td>129.911976</td>\n",
       "      <td>1.0</td>\n",
       "      <td>120.0</td>\n",
       "      <td>23.168675</td>\n",
       "      <td>22.399578</td>\n",
       "      <td>0.003</td>\n",
       "      <td>0.055</td>\n",
       "      <td>...</td>\n",
       "      <td>0.027929</td>\n",
       "      <td>0.014978</td>\n",
       "      <td>0.3</td>\n",
       "      <td>0.9</td>\n",
       "      <td>0.445833</td>\n",
       "      <td>0.135741</td>\n",
       "      <td>0.002</td>\n",
       "      <td>0.004</td>\n",
       "      <td>0.002732</td>\n",
       "      <td>0.000541</td>\n",
       "    </tr>\n",
       "    <tr>\n",
       "      <th>2021-04-11</th>\n",
       "      <td>17.0</td>\n",
       "      <td>102.0</td>\n",
       "      <td>41.059524</td>\n",
       "      <td>16.325911</td>\n",
       "      <td>7.0</td>\n",
       "      <td>70.0</td>\n",
       "      <td>21.761905</td>\n",
       "      <td>11.479343</td>\n",
       "      <td>0.009</td>\n",
       "      <td>0.070</td>\n",
       "      <td>...</td>\n",
       "      <td>0.022583</td>\n",
       "      <td>0.009562</td>\n",
       "      <td>0.3</td>\n",
       "      <td>0.7</td>\n",
       "      <td>0.389286</td>\n",
       "      <td>0.087573</td>\n",
       "      <td>0.002</td>\n",
       "      <td>0.004</td>\n",
       "      <td>0.002744</td>\n",
       "      <td>0.000569</td>\n",
       "    </tr>\n",
       "    <tr>\n",
       "      <th>2021-04-18</th>\n",
       "      <td>3.0</td>\n",
       "      <td>367.0</td>\n",
       "      <td>48.180723</td>\n",
       "      <td>43.254468</td>\n",
       "      <td>2.0</td>\n",
       "      <td>38.0</td>\n",
       "      <td>17.066265</td>\n",
       "      <td>7.867952</td>\n",
       "      <td>0.002</td>\n",
       "      <td>0.070</td>\n",
       "      <td>...</td>\n",
       "      <td>0.023753</td>\n",
       "      <td>0.013553</td>\n",
       "      <td>0.3</td>\n",
       "      <td>0.6</td>\n",
       "      <td>0.386747</td>\n",
       "      <td>0.084954</td>\n",
       "      <td>0.002</td>\n",
       "      <td>0.004</td>\n",
       "      <td>0.002464</td>\n",
       "      <td>0.000579</td>\n",
       "    </tr>\n",
       "    <tr>\n",
       "      <th>2021-04-25</th>\n",
       "      <td>17.0</td>\n",
       "      <td>126.0</td>\n",
       "      <td>55.119048</td>\n",
       "      <td>26.659936</td>\n",
       "      <td>7.0</td>\n",
       "      <td>61.0</td>\n",
       "      <td>26.392857</td>\n",
       "      <td>13.094788</td>\n",
       "      <td>0.006</td>\n",
       "      <td>0.090</td>\n",
       "      <td>...</td>\n",
       "      <td>0.028571</td>\n",
       "      <td>0.014640</td>\n",
       "      <td>0.3</td>\n",
       "      <td>0.8</td>\n",
       "      <td>0.457143</td>\n",
       "      <td>0.122142</td>\n",
       "      <td>0.001</td>\n",
       "      <td>0.011</td>\n",
       "      <td>0.003631</td>\n",
       "      <td>0.001763</td>\n",
       "    </tr>\n",
       "  </tbody>\n",
       "</table>\n",
       "<p>5 rows × 24 columns</p>\n",
       "</div>"
      ],
      "text/plain": [
       "            PM10                               PM2.5                    \\\n",
       "             min    max       mean         std   min    max       mean   \n",
       "(년-월-일:시)                                                                \n",
       "2021-03-28   6.0  160.0  72.747368   43.345462   4.0  113.0  44.705263   \n",
       "2021-04-04   3.0  598.0  97.148810  129.911976   1.0  120.0  23.168675   \n",
       "2021-04-11  17.0  102.0  41.059524   16.325911   7.0   70.0  21.761905   \n",
       "2021-04-18   3.0  367.0  48.180723   43.254468   2.0   38.0  17.066265   \n",
       "2021-04-25  17.0  126.0  55.119048   26.659936   7.0   61.0  26.392857   \n",
       "\n",
       "                          오존         ...     이산화질소           일산화탄소       \\\n",
       "                  std    min    max  ...      mean       std   min  max   \n",
       "(년-월-일:시)                            ...                                  \n",
       "2021-03-28  29.551928  0.002  0.085  ...  0.044579  0.023722   0.3  1.4   \n",
       "2021-04-04  22.399578  0.003  0.055  ...  0.027929  0.014978   0.3  0.9   \n",
       "2021-04-11  11.479343  0.009  0.070  ...  0.022583  0.009562   0.3  0.7   \n",
       "2021-04-18   7.867952  0.002  0.070  ...  0.023753  0.013553   0.3  0.6   \n",
       "2021-04-25  13.094788  0.006  0.090  ...  0.028571  0.014640   0.3  0.8   \n",
       "\n",
       "                                아황산가스                             \n",
       "                mean       std    min    max      mean       std  \n",
       "(년-월-일:시)                                                         \n",
       "2021-03-28  0.611579  0.232408  0.002  0.006  0.003274  0.000961  \n",
       "2021-04-04  0.445833  0.135741  0.002  0.004  0.002732  0.000541  \n",
       "2021-04-11  0.389286  0.087573  0.002  0.004  0.002744  0.000569  \n",
       "2021-04-18  0.386747  0.084954  0.002  0.004  0.002464  0.000579  \n",
       "2021-04-25  0.457143  0.122142  0.001  0.011  0.003631  0.001763  \n",
       "\n",
       "[5 rows x 24 columns]"
      ]
     },
     "execution_count": 82,
     "metadata": {},
     "output_type": "execute_result"
    }
   ],
   "source": [
    "# Question 82 : 데이터를 주 단위로 뽑아서 최소, 최대, 평균, 표준편차를 구하여라.\n",
    "grouped_q82 = df.resample('W').agg(['min', 'max', 'mean', 'std'])\n",
    "grouped_q82.head()"
   ]
  },
  {
   "cell_type": "markdown",
   "id": "cb78ba4e",
   "metadata": {},
   "source": [
    "# Pivot"
   ]
  },
  {
   "cell_type": "code",
   "execution_count": 83,
   "id": "f09960a6",
   "metadata": {
    "ExecuteTime": {
     "end_time": "2023-09-12T00:41:52.598906Z",
     "start_time": "2023-09-12T00:41:51.672482Z"
    }
   },
   "outputs": [
    {
     "data": {
      "text/html": [
       "<div>\n",
       "<style scoped>\n",
       "    .dataframe tbody tr th:only-of-type {\n",
       "        vertical-align: middle;\n",
       "    }\n",
       "\n",
       "    .dataframe tbody tr th {\n",
       "        vertical-align: top;\n",
       "    }\n",
       "\n",
       "    .dataframe thead th {\n",
       "        text-align: right;\n",
       "    }\n",
       "</style>\n",
       "<table border=\"1\" class=\"dataframe\">\n",
       "  <thead>\n",
       "    <tr style=\"text-align: right;\">\n",
       "      <th></th>\n",
       "      <th>Location</th>\n",
       "      <th>Period</th>\n",
       "      <th>Indicator</th>\n",
       "      <th>Dim1</th>\n",
       "      <th>First Tooltip</th>\n",
       "    </tr>\n",
       "  </thead>\n",
       "  <tbody>\n",
       "    <tr>\n",
       "      <th>0</th>\n",
       "      <td>Afghanistan</td>\n",
       "      <td>2019</td>\n",
       "      <td>Under-five mortality rate (probability of dyin...</td>\n",
       "      <td>Both sexes</td>\n",
       "      <td>60.27 [47.44-74.62]</td>\n",
       "    </tr>\n",
       "    <tr>\n",
       "      <th>1</th>\n",
       "      <td>Afghanistan</td>\n",
       "      <td>2019</td>\n",
       "      <td>Under-five mortality rate (probability of dyin...</td>\n",
       "      <td>Male</td>\n",
       "      <td>63.83 [50.04-79.16]</td>\n",
       "    </tr>\n",
       "    <tr>\n",
       "      <th>2</th>\n",
       "      <td>Afghanistan</td>\n",
       "      <td>2019</td>\n",
       "      <td>Under-five mortality rate (probability of dyin...</td>\n",
       "      <td>Female</td>\n",
       "      <td>56.57 [44.54-70.18]</td>\n",
       "    </tr>\n",
       "    <tr>\n",
       "      <th>3</th>\n",
       "      <td>Afghanistan</td>\n",
       "      <td>2018</td>\n",
       "      <td>Under-five mortality rate (probability of dyin...</td>\n",
       "      <td>Both sexes</td>\n",
       "      <td>62.54 [50.64-75.41]</td>\n",
       "    </tr>\n",
       "    <tr>\n",
       "      <th>4</th>\n",
       "      <td>Afghanistan</td>\n",
       "      <td>2018</td>\n",
       "      <td>Under-five mortality rate (probability of dyin...</td>\n",
       "      <td>Male</td>\n",
       "      <td>66.08 [53.41-79.76]</td>\n",
       "    </tr>\n",
       "  </tbody>\n",
       "</table>\n",
       "</div>"
      ],
      "text/plain": [
       "      Location  Period                                          Indicator  \\\n",
       "0  Afghanistan    2019  Under-five mortality rate (probability of dyin...   \n",
       "1  Afghanistan    2019  Under-five mortality rate (probability of dyin...   \n",
       "2  Afghanistan    2019  Under-five mortality rate (probability of dyin...   \n",
       "3  Afghanistan    2018  Under-five mortality rate (probability of dyin...   \n",
       "4  Afghanistan    2018  Under-five mortality rate (probability of dyin...   \n",
       "\n",
       "         Dim1        First Tooltip  \n",
       "0  Both sexes  60.27 [47.44-74.62]  \n",
       "1        Male  63.83 [50.04-79.16]  \n",
       "2      Female  56.57 [44.54-70.18]  \n",
       "3  Both sexes  62.54 [50.64-75.41]  \n",
       "4        Male  66.08 [53.41-79.76]  "
      ]
     },
     "execution_count": 83,
     "metadata": {},
     "output_type": "execute_result"
    }
   ],
   "source": [
    "# Question 83 : Indicator을 삭제하고 First Tooltip 컬럼에서 신뢰구간에 해당하는 표현을 지워라.\n",
    "df = pd.read_csv('https://raw.githubusercontent.com/Datamanim/pandas/main/under5MortalityRate.csv')\n",
    "df.head()"
   ]
  },
  {
   "cell_type": "code",
   "execution_count": 84,
   "id": "932a1904",
   "metadata": {
    "ExecuteTime": {
     "end_time": "2023-09-12T00:41:52.618587Z",
     "start_time": "2023-09-12T00:41:52.600755Z"
    }
   },
   "outputs": [
    {
     "data": {
      "text/html": [
       "<div>\n",
       "<style scoped>\n",
       "    .dataframe tbody tr th:only-of-type {\n",
       "        vertical-align: middle;\n",
       "    }\n",
       "\n",
       "    .dataframe tbody tr th {\n",
       "        vertical-align: top;\n",
       "    }\n",
       "\n",
       "    .dataframe thead th {\n",
       "        text-align: right;\n",
       "    }\n",
       "</style>\n",
       "<table border=\"1\" class=\"dataframe\">\n",
       "  <thead>\n",
       "    <tr style=\"text-align: right;\">\n",
       "      <th></th>\n",
       "      <th>Location</th>\n",
       "      <th>Period</th>\n",
       "      <th>Dim1</th>\n",
       "      <th>First Tooltip</th>\n",
       "    </tr>\n",
       "  </thead>\n",
       "  <tbody>\n",
       "    <tr>\n",
       "      <th>0</th>\n",
       "      <td>Afghanistan</td>\n",
       "      <td>2019</td>\n",
       "      <td>Both sexes</td>\n",
       "      <td>60.27</td>\n",
       "    </tr>\n",
       "    <tr>\n",
       "      <th>1</th>\n",
       "      <td>Afghanistan</td>\n",
       "      <td>2019</td>\n",
       "      <td>Male</td>\n",
       "      <td>63.83</td>\n",
       "    </tr>\n",
       "    <tr>\n",
       "      <th>2</th>\n",
       "      <td>Afghanistan</td>\n",
       "      <td>2019</td>\n",
       "      <td>Female</td>\n",
       "      <td>56.57</td>\n",
       "    </tr>\n",
       "    <tr>\n",
       "      <th>3</th>\n",
       "      <td>Afghanistan</td>\n",
       "      <td>2018</td>\n",
       "      <td>Both sexes</td>\n",
       "      <td>62.54</td>\n",
       "    </tr>\n",
       "    <tr>\n",
       "      <th>4</th>\n",
       "      <td>Afghanistan</td>\n",
       "      <td>2018</td>\n",
       "      <td>Male</td>\n",
       "      <td>66.08</td>\n",
       "    </tr>\n",
       "  </tbody>\n",
       "</table>\n",
       "</div>"
      ],
      "text/plain": [
       "      Location  Period        Dim1  First Tooltip\n",
       "0  Afghanistan    2019  Both sexes          60.27\n",
       "1  Afghanistan    2019        Male          63.83\n",
       "2  Afghanistan    2019      Female          56.57\n",
       "3  Afghanistan    2018  Both sexes          62.54\n",
       "4  Afghanistan    2018        Male          66.08"
      ]
     },
     "execution_count": 84,
     "metadata": {},
     "output_type": "execute_result"
    }
   ],
   "source": [
    "df.drop(['Indicator'], axis = 1, inplace = True)\n",
    "df['First Tooltip'] = df['First Tooltip'].map(lambda x: float(x.split(\" \")[0]))\n",
    "df.head()"
   ]
  },
  {
   "cell_type": "code",
   "execution_count": 85,
   "id": "a6c7e6e3",
   "metadata": {
    "ExecuteTime": {
     "end_time": "2023-09-12T00:41:52.627451Z",
     "start_time": "2023-09-12T00:41:52.619709Z"
    }
   },
   "outputs": [
    {
     "data": {
      "text/html": [
       "<div>\n",
       "<style scoped>\n",
       "    .dataframe tbody tr th:only-of-type {\n",
       "        vertical-align: middle;\n",
       "    }\n",
       "\n",
       "    .dataframe tbody tr th {\n",
       "        vertical-align: top;\n",
       "    }\n",
       "\n",
       "    .dataframe thead th {\n",
       "        text-align: right;\n",
       "    }\n",
       "</style>\n",
       "<table border=\"1\" class=\"dataframe\">\n",
       "  <thead>\n",
       "    <tr style=\"text-align: right;\">\n",
       "      <th></th>\n",
       "      <th>Location</th>\n",
       "      <th>Period</th>\n",
       "      <th>Dim1</th>\n",
       "      <th>First Tooltip</th>\n",
       "    </tr>\n",
       "  </thead>\n",
       "  <tbody>\n",
       "    <tr>\n",
       "      <th>0</th>\n",
       "      <td>Afghanistan</td>\n",
       "      <td>2019</td>\n",
       "      <td>Both sexes</td>\n",
       "      <td>60.27</td>\n",
       "    </tr>\n",
       "    <tr>\n",
       "      <th>3</th>\n",
       "      <td>Afghanistan</td>\n",
       "      <td>2018</td>\n",
       "      <td>Both sexes</td>\n",
       "      <td>62.54</td>\n",
       "    </tr>\n",
       "    <tr>\n",
       "      <th>6</th>\n",
       "      <td>Afghanistan</td>\n",
       "      <td>2017</td>\n",
       "      <td>Both sexes</td>\n",
       "      <td>64.94</td>\n",
       "    </tr>\n",
       "  </tbody>\n",
       "</table>\n",
       "</div>"
      ],
      "text/plain": [
       "      Location  Period        Dim1  First Tooltip\n",
       "0  Afghanistan    2019  Both sexes          60.27\n",
       "3  Afghanistan    2018  Both sexes          62.54\n",
       "6  Afghanistan    2017  Both sexes          64.94"
      ]
     },
     "execution_count": 85,
     "metadata": {},
     "output_type": "execute_result"
    }
   ],
   "source": [
    "# Question 84 : 년도가 2015년 이상, DIm1이 Both sexes인 케이스만 추출하라.\n",
    "df_q84 = df[(df['Period'] >= 2015) & (df['Dim1'] == 'Both sexes')]\n",
    "df_q84.head(3)"
   ]
  },
  {
   "cell_type": "code",
   "execution_count": 88,
   "id": "8d00f63c",
   "metadata": {
    "ExecuteTime": {
     "end_time": "2023-09-12T00:42:47.666597Z",
     "start_time": "2023-09-12T00:42:47.638469Z"
    }
   },
   "outputs": [
    {
     "data": {
      "text/html": [
       "<div>\n",
       "<style scoped>\n",
       "    .dataframe tbody tr th:only-of-type {\n",
       "        vertical-align: middle;\n",
       "    }\n",
       "\n",
       "    .dataframe tbody tr th {\n",
       "        vertical-align: top;\n",
       "    }\n",
       "\n",
       "    .dataframe thead th {\n",
       "        text-align: right;\n",
       "    }\n",
       "</style>\n",
       "<table border=\"1\" class=\"dataframe\">\n",
       "  <thead>\n",
       "    <tr style=\"text-align: right;\">\n",
       "      <th>Period</th>\n",
       "      <th>2015</th>\n",
       "      <th>2016</th>\n",
       "      <th>2017</th>\n",
       "      <th>2018</th>\n",
       "      <th>2019</th>\n",
       "    </tr>\n",
       "    <tr>\n",
       "      <th>Location</th>\n",
       "      <th></th>\n",
       "      <th></th>\n",
       "      <th></th>\n",
       "      <th></th>\n",
       "      <th></th>\n",
       "    </tr>\n",
       "  </thead>\n",
       "  <tbody>\n",
       "    <tr>\n",
       "      <th>Afghanistan</th>\n",
       "      <td>70.44</td>\n",
       "      <td>67.57</td>\n",
       "      <td>64.94</td>\n",
       "      <td>62.54</td>\n",
       "      <td>60.27</td>\n",
       "    </tr>\n",
       "    <tr>\n",
       "      <th>Albania</th>\n",
       "      <td>9.57</td>\n",
       "      <td>9.42</td>\n",
       "      <td>9.42</td>\n",
       "      <td>9.53</td>\n",
       "      <td>9.68</td>\n",
       "    </tr>\n",
       "    <tr>\n",
       "      <th>Algeria</th>\n",
       "      <td>25.18</td>\n",
       "      <td>24.79</td>\n",
       "      <td>24.32</td>\n",
       "      <td>23.81</td>\n",
       "      <td>23.26</td>\n",
       "    </tr>\n",
       "  </tbody>\n",
       "</table>\n",
       "</div>"
      ],
      "text/plain": [
       "Period        2015   2016   2017   2018   2019\n",
       "Location                                      \n",
       "Afghanistan  70.44  67.57  64.94  62.54  60.27\n",
       "Albania       9.57   9.42   9.42   9.53   9.68\n",
       "Algeria      25.18  24.79  24.32  23.81  23.26"
      ]
     },
     "execution_count": 88,
     "metadata": {},
     "output_type": "execute_result"
    }
   ],
   "source": [
    "# Question 85 : 84번 문제에서 추출한 데이터로 아래와 같이 나라에 따른 년도별 사망률 데이터 프레임화 하라.\n",
    "pvt_q85 = df_q84.pivot_table(values = 'First Tooltip', index = 'Location', columns = 'Period')\n",
    "pvt_q85.head(3)"
   ]
  },
  {
   "cell_type": "code",
   "execution_count": 89,
   "id": "bbfae5cd",
   "metadata": {
    "ExecuteTime": {
     "end_time": "2023-09-12T00:42:48.165014Z",
     "start_time": "2023-09-12T00:42:48.137453Z"
    }
   },
   "outputs": [
    {
     "data": {
      "text/html": [
       "<div>\n",
       "<style scoped>\n",
       "    .dataframe tbody tr th:only-of-type {\n",
       "        vertical-align: middle;\n",
       "    }\n",
       "\n",
       "    .dataframe tbody tr th {\n",
       "        vertical-align: top;\n",
       "    }\n",
       "\n",
       "    .dataframe thead th {\n",
       "        text-align: right;\n",
       "    }\n",
       "</style>\n",
       "<table border=\"1\" class=\"dataframe\">\n",
       "  <thead>\n",
       "    <tr style=\"text-align: right;\">\n",
       "      <th>Period</th>\n",
       "      <th>1950</th>\n",
       "      <th>1951</th>\n",
       "      <th>1952</th>\n",
       "      <th>1953</th>\n",
       "      <th>1954</th>\n",
       "      <th>1955</th>\n",
       "      <th>1956</th>\n",
       "      <th>1957</th>\n",
       "      <th>1958</th>\n",
       "      <th>1959</th>\n",
       "      <th>...</th>\n",
       "      <th>2010</th>\n",
       "      <th>2011</th>\n",
       "      <th>2012</th>\n",
       "      <th>2013</th>\n",
       "      <th>2014</th>\n",
       "      <th>2015</th>\n",
       "      <th>2016</th>\n",
       "      <th>2017</th>\n",
       "      <th>2018</th>\n",
       "      <th>2019</th>\n",
       "    </tr>\n",
       "    <tr>\n",
       "      <th>Dim1</th>\n",
       "      <th></th>\n",
       "      <th></th>\n",
       "      <th></th>\n",
       "      <th></th>\n",
       "      <th></th>\n",
       "      <th></th>\n",
       "      <th></th>\n",
       "      <th></th>\n",
       "      <th></th>\n",
       "      <th></th>\n",
       "      <th></th>\n",
       "      <th></th>\n",
       "      <th></th>\n",
       "      <th></th>\n",
       "      <th></th>\n",
       "      <th></th>\n",
       "      <th></th>\n",
       "      <th></th>\n",
       "      <th></th>\n",
       "      <th></th>\n",
       "      <th></th>\n",
       "    </tr>\n",
       "  </thead>\n",
       "  <tbody>\n",
       "    <tr>\n",
       "      <th>Both sexes</th>\n",
       "      <td>147.700816</td>\n",
       "      <td>155.537544</td>\n",
       "      <td>157.811094</td>\n",
       "      <td>156.147206</td>\n",
       "      <td>154.539857</td>\n",
       "      <td>155.797179</td>\n",
       "      <td>159.241163</td>\n",
       "      <td>156.170114</td>\n",
       "      <td>150.813222</td>\n",
       "      <td>150.574000</td>\n",
       "      <td>...</td>\n",
       "      <td>37.718488</td>\n",
       "      <td>35.573663</td>\n",
       "      <td>34.290988</td>\n",
       "      <td>33.099360</td>\n",
       "      <td>32.053314</td>\n",
       "      <td>31.012093</td>\n",
       "      <td>29.956337</td>\n",
       "      <td>29.030465</td>\n",
       "      <td>28.083837</td>\n",
       "      <td>27.191744</td>\n",
       "    </tr>\n",
       "    <tr>\n",
       "      <th>Female</th>\n",
       "      <td>140.909796</td>\n",
       "      <td>149.210175</td>\n",
       "      <td>151.516094</td>\n",
       "      <td>150.250882</td>\n",
       "      <td>148.688286</td>\n",
       "      <td>149.843205</td>\n",
       "      <td>153.048721</td>\n",
       "      <td>149.988295</td>\n",
       "      <td>144.719667</td>\n",
       "      <td>144.451474</td>\n",
       "      <td>...</td>\n",
       "      <td>34.953023</td>\n",
       "      <td>32.877616</td>\n",
       "      <td>31.654070</td>\n",
       "      <td>30.521337</td>\n",
       "      <td>29.524302</td>\n",
       "      <td>28.544360</td>\n",
       "      <td>27.542035</td>\n",
       "      <td>26.675291</td>\n",
       "      <td>25.782616</td>\n",
       "      <td>24.945349</td>\n",
       "    </tr>\n",
       "    <tr>\n",
       "      <th>Male</th>\n",
       "      <td>154.151224</td>\n",
       "      <td>161.538246</td>\n",
       "      <td>163.760781</td>\n",
       "      <td>161.742059</td>\n",
       "      <td>160.081000</td>\n",
       "      <td>161.456923</td>\n",
       "      <td>165.089535</td>\n",
       "      <td>162.015000</td>\n",
       "      <td>156.573556</td>\n",
       "      <td>156.375053</td>\n",
       "      <td>...</td>\n",
       "      <td>40.340174</td>\n",
       "      <td>38.140291</td>\n",
       "      <td>36.793081</td>\n",
       "      <td>35.543663</td>\n",
       "      <td>34.446105</td>\n",
       "      <td>33.354302</td>\n",
       "      <td>32.242616</td>\n",
       "      <td>31.273198</td>\n",
       "      <td>30.283023</td>\n",
       "      <td>29.350349</td>\n",
       "    </tr>\n",
       "  </tbody>\n",
       "</table>\n",
       "<p>3 rows × 70 columns</p>\n",
       "</div>"
      ],
      "text/plain": [
       "Period            1950        1951        1952        1953        1954  \\\n",
       "Dim1                                                                     \n",
       "Both sexes  147.700816  155.537544  157.811094  156.147206  154.539857   \n",
       "Female      140.909796  149.210175  151.516094  150.250882  148.688286   \n",
       "Male        154.151224  161.538246  163.760781  161.742059  160.081000   \n",
       "\n",
       "Period            1955        1956        1957        1958        1959  ...  \\\n",
       "Dim1                                                                    ...   \n",
       "Both sexes  155.797179  159.241163  156.170114  150.813222  150.574000  ...   \n",
       "Female      149.843205  153.048721  149.988295  144.719667  144.451474  ...   \n",
       "Male        161.456923  165.089535  162.015000  156.573556  156.375053  ...   \n",
       "\n",
       "Period           2010       2011       2012       2013       2014       2015  \\\n",
       "Dim1                                                                           \n",
       "Both sexes  37.718488  35.573663  34.290988  33.099360  32.053314  31.012093   \n",
       "Female      34.953023  32.877616  31.654070  30.521337  29.524302  28.544360   \n",
       "Male        40.340174  38.140291  36.793081  35.543663  34.446105  33.354302   \n",
       "\n",
       "Period           2016       2017       2018       2019  \n",
       "Dim1                                                    \n",
       "Both sexes  29.956337  29.030465  28.083837  27.191744  \n",
       "Female      27.542035  26.675291  25.782616  24.945349  \n",
       "Male        32.242616  31.273198  30.283023  29.350349  \n",
       "\n",
       "[3 rows x 70 columns]"
      ]
     },
     "execution_count": 89,
     "metadata": {},
     "output_type": "execute_result"
    }
   ],
   "source": [
    "# Question 86 : Dim1에 따른 년도별 사망비율의 평균을 구하여라.\n",
    "pvt_q86 = df.pivot_table(values = 'First Tooltip', index = 'Dim1', columns = 'Period', aggfunc = 'mean')\n",
    "pvt_q86.head(3)"
   ]
  },
  {
   "cell_type": "code",
   "execution_count": 90,
   "id": "cd876789",
   "metadata": {
    "ExecuteTime": {
     "end_time": "2023-09-12T00:42:49.091198Z",
     "start_time": "2023-09-12T00:42:48.635016Z"
    }
   },
   "outputs": [
    {
     "data": {
      "text/html": [
       "<div>\n",
       "<style scoped>\n",
       "    .dataframe tbody tr th:only-of-type {\n",
       "        vertical-align: middle;\n",
       "    }\n",
       "\n",
       "    .dataframe tbody tr th {\n",
       "        vertical-align: top;\n",
       "    }\n",
       "\n",
       "    .dataframe thead th {\n",
       "        text-align: right;\n",
       "    }\n",
       "</style>\n",
       "<table border=\"1\" class=\"dataframe\">\n",
       "  <thead>\n",
       "    <tr style=\"text-align: right;\">\n",
       "      <th></th>\n",
       "      <th>Year</th>\n",
       "      <th>City</th>\n",
       "      <th>Sport</th>\n",
       "      <th>Discipline</th>\n",
       "      <th>Athlete</th>\n",
       "      <th>Country</th>\n",
       "      <th>Gender</th>\n",
       "      <th>Event</th>\n",
       "      <th>Medal</th>\n",
       "    </tr>\n",
       "  </thead>\n",
       "  <tbody>\n",
       "    <tr>\n",
       "      <th>0</th>\n",
       "      <td>1924</td>\n",
       "      <td>Chamonix</td>\n",
       "      <td>Biathlon</td>\n",
       "      <td>Biathlon</td>\n",
       "      <td>BERTHET, G.</td>\n",
       "      <td>FRA</td>\n",
       "      <td>Men</td>\n",
       "      <td>Military Patrol</td>\n",
       "      <td>Bronze</td>\n",
       "    </tr>\n",
       "    <tr>\n",
       "      <th>1</th>\n",
       "      <td>1924</td>\n",
       "      <td>Chamonix</td>\n",
       "      <td>Biathlon</td>\n",
       "      <td>Biathlon</td>\n",
       "      <td>MANDRILLON, C.</td>\n",
       "      <td>FRA</td>\n",
       "      <td>Men</td>\n",
       "      <td>Military Patrol</td>\n",
       "      <td>Bronze</td>\n",
       "    </tr>\n",
       "    <tr>\n",
       "      <th>2</th>\n",
       "      <td>1924</td>\n",
       "      <td>Chamonix</td>\n",
       "      <td>Biathlon</td>\n",
       "      <td>Biathlon</td>\n",
       "      <td>MANDRILLON, Maurice</td>\n",
       "      <td>FRA</td>\n",
       "      <td>Men</td>\n",
       "      <td>Military Patrol</td>\n",
       "      <td>Bronze</td>\n",
       "    </tr>\n",
       "    <tr>\n",
       "      <th>3</th>\n",
       "      <td>1924</td>\n",
       "      <td>Chamonix</td>\n",
       "      <td>Biathlon</td>\n",
       "      <td>Biathlon</td>\n",
       "      <td>VANDELLE, André</td>\n",
       "      <td>FRA</td>\n",
       "      <td>Men</td>\n",
       "      <td>Military Patrol</td>\n",
       "      <td>Bronze</td>\n",
       "    </tr>\n",
       "    <tr>\n",
       "      <th>4</th>\n",
       "      <td>1924</td>\n",
       "      <td>Chamonix</td>\n",
       "      <td>Biathlon</td>\n",
       "      <td>Biathlon</td>\n",
       "      <td>AUFDENBLATTEN, Adolf</td>\n",
       "      <td>SUI</td>\n",
       "      <td>Men</td>\n",
       "      <td>Military Patrol</td>\n",
       "      <td>Gold</td>\n",
       "    </tr>\n",
       "  </tbody>\n",
       "</table>\n",
       "</div>"
      ],
      "text/plain": [
       "   Year      City     Sport Discipline               Athlete Country Gender  \\\n",
       "0  1924  Chamonix  Biathlon   Biathlon           BERTHET, G.     FRA    Men   \n",
       "1  1924  Chamonix  Biathlon   Biathlon        MANDRILLON, C.     FRA    Men   \n",
       "2  1924  Chamonix  Biathlon   Biathlon   MANDRILLON, Maurice     FRA    Men   \n",
       "3  1924  Chamonix  Biathlon   Biathlon       VANDELLE, André     FRA    Men   \n",
       "4  1924  Chamonix  Biathlon   Biathlon  AUFDENBLATTEN, Adolf     SUI    Men   \n",
       "\n",
       "             Event   Medal  \n",
       "0  Military Patrol  Bronze  \n",
       "1  Military Patrol  Bronze  \n",
       "2  Military Patrol  Bronze  \n",
       "3  Military Patrol  Bronze  \n",
       "4  Military Patrol    Gold  "
      ]
     },
     "execution_count": 90,
     "metadata": {},
     "output_type": "execute_result"
    }
   ],
   "source": [
    "# Question 87 : 데이터에서 한국 KOR 데이터만 추출하라.\n",
    "df = pd.read_csv('https://raw.githubusercontent.com/Datamanim/pandas/main/winter.csv')\n",
    "df.head()"
   ]
  },
  {
   "cell_type": "code",
   "execution_count": 91,
   "id": "5ef40724",
   "metadata": {
    "ExecuteTime": {
     "end_time": "2023-09-12T00:42:49.101128Z",
     "start_time": "2023-09-12T00:42:49.092794Z"
    }
   },
   "outputs": [
    {
     "data": {
      "text/html": [
       "<div>\n",
       "<style scoped>\n",
       "    .dataframe tbody tr th:only-of-type {\n",
       "        vertical-align: middle;\n",
       "    }\n",
       "\n",
       "    .dataframe tbody tr th {\n",
       "        vertical-align: top;\n",
       "    }\n",
       "\n",
       "    .dataframe thead th {\n",
       "        text-align: right;\n",
       "    }\n",
       "</style>\n",
       "<table border=\"1\" class=\"dataframe\">\n",
       "  <thead>\n",
       "    <tr style=\"text-align: right;\">\n",
       "      <th></th>\n",
       "      <th>Year</th>\n",
       "      <th>City</th>\n",
       "      <th>Sport</th>\n",
       "      <th>Discipline</th>\n",
       "      <th>Athlete</th>\n",
       "      <th>Country</th>\n",
       "      <th>Gender</th>\n",
       "      <th>Event</th>\n",
       "      <th>Medal</th>\n",
       "    </tr>\n",
       "  </thead>\n",
       "  <tbody>\n",
       "    <tr>\n",
       "      <th>2652</th>\n",
       "      <td>1992</td>\n",
       "      <td>Albertville</td>\n",
       "      <td>Skating</td>\n",
       "      <td>Short Track Speed Skating</td>\n",
       "      <td>LEE, Jun-Ho</td>\n",
       "      <td>KOR</td>\n",
       "      <td>Men</td>\n",
       "      <td>1000M</td>\n",
       "      <td>Bronze</td>\n",
       "    </tr>\n",
       "    <tr>\n",
       "      <th>2653</th>\n",
       "      <td>1992</td>\n",
       "      <td>Albertville</td>\n",
       "      <td>Skating</td>\n",
       "      <td>Short Track Speed Skating</td>\n",
       "      <td>KIM, Ki-Hoon</td>\n",
       "      <td>KOR</td>\n",
       "      <td>Men</td>\n",
       "      <td>1000M</td>\n",
       "      <td>Gold</td>\n",
       "    </tr>\n",
       "    <tr>\n",
       "      <th>2671</th>\n",
       "      <td>1992</td>\n",
       "      <td>Albertville</td>\n",
       "      <td>Skating</td>\n",
       "      <td>Short Track Speed Skating</td>\n",
       "      <td>KIM, Ki-Hoon</td>\n",
       "      <td>KOR</td>\n",
       "      <td>Men</td>\n",
       "      <td>5000M Relay</td>\n",
       "      <td>Gold</td>\n",
       "    </tr>\n",
       "    <tr>\n",
       "      <th>2672</th>\n",
       "      <td>1992</td>\n",
       "      <td>Albertville</td>\n",
       "      <td>Skating</td>\n",
       "      <td>Short Track Speed Skating</td>\n",
       "      <td>LEE, Jun-Ho</td>\n",
       "      <td>KOR</td>\n",
       "      <td>Men</td>\n",
       "      <td>5000M Relay</td>\n",
       "      <td>Gold</td>\n",
       "    </tr>\n",
       "    <tr>\n",
       "      <th>2673</th>\n",
       "      <td>1992</td>\n",
       "      <td>Albertville</td>\n",
       "      <td>Skating</td>\n",
       "      <td>Short Track Speed Skating</td>\n",
       "      <td>MO, Ji-Soo</td>\n",
       "      <td>KOR</td>\n",
       "      <td>Men</td>\n",
       "      <td>5000M Relay</td>\n",
       "      <td>Gold</td>\n",
       "    </tr>\n",
       "  </tbody>\n",
       "</table>\n",
       "</div>"
      ],
      "text/plain": [
       "      Year         City    Sport                 Discipline       Athlete  \\\n",
       "2652  1992  Albertville  Skating  Short Track Speed Skating   LEE, Jun-Ho   \n",
       "2653  1992  Albertville  Skating  Short Track Speed Skating  KIM, Ki-Hoon   \n",
       "2671  1992  Albertville  Skating  Short Track Speed Skating  KIM, Ki-Hoon   \n",
       "2672  1992  Albertville  Skating  Short Track Speed Skating   LEE, Jun-Ho   \n",
       "2673  1992  Albertville  Skating  Short Track Speed Skating    MO, Ji-Soo   \n",
       "\n",
       "     Country Gender        Event   Medal  \n",
       "2652     KOR    Men        1000M  Bronze  \n",
       "2653     KOR    Men        1000M    Gold  \n",
       "2671     KOR    Men  5000M Relay    Gold  \n",
       "2672     KOR    Men  5000M Relay    Gold  \n",
       "2673     KOR    Men  5000M Relay    Gold  "
      ]
     },
     "execution_count": 91,
     "metadata": {},
     "output_type": "execute_result"
    }
   ],
   "source": [
    "df_q87 = df[df['Country'] == 'KOR']\n",
    "df_q87.head()"
   ]
  },
  {
   "cell_type": "code",
   "execution_count": 92,
   "id": "12b56ed8",
   "metadata": {
    "ExecuteTime": {
     "end_time": "2023-09-12T00:42:49.111237Z",
     "start_time": "2023-09-12T00:42:49.102286Z"
    }
   },
   "outputs": [
    {
     "data": {
      "text/html": [
       "<div>\n",
       "<style scoped>\n",
       "    .dataframe tbody tr th:only-of-type {\n",
       "        vertical-align: middle;\n",
       "    }\n",
       "\n",
       "    .dataframe tbody tr th {\n",
       "        vertical-align: top;\n",
       "    }\n",
       "\n",
       "    .dataframe thead th {\n",
       "        text-align: right;\n",
       "    }\n",
       "</style>\n",
       "<table border=\"1\" class=\"dataframe\">\n",
       "  <thead>\n",
       "    <tr style=\"text-align: right;\">\n",
       "      <th>Medal</th>\n",
       "      <th>Bronze</th>\n",
       "      <th>Gold</th>\n",
       "      <th>Silver</th>\n",
       "    </tr>\n",
       "    <tr>\n",
       "      <th>Year</th>\n",
       "      <th></th>\n",
       "      <th></th>\n",
       "      <th></th>\n",
       "    </tr>\n",
       "  </thead>\n",
       "  <tbody>\n",
       "    <tr>\n",
       "      <th>1992</th>\n",
       "      <td>1.0</td>\n",
       "      <td>5.0</td>\n",
       "      <td>1.0</td>\n",
       "    </tr>\n",
       "    <tr>\n",
       "      <th>1994</th>\n",
       "      <td>1.0</td>\n",
       "      <td>8.0</td>\n",
       "      <td>1.0</td>\n",
       "    </tr>\n",
       "    <tr>\n",
       "      <th>1998</th>\n",
       "      <td>2.0</td>\n",
       "      <td>6.0</td>\n",
       "      <td>4.0</td>\n",
       "    </tr>\n",
       "  </tbody>\n",
       "</table>\n",
       "</div>"
      ],
      "text/plain": [
       "Medal  Bronze  Gold  Silver\n",
       "Year                       \n",
       "1992      1.0   5.0     1.0\n",
       "1994      1.0   8.0     1.0\n",
       "1998      2.0   6.0     4.0"
      ]
     },
     "execution_count": 92,
     "metadata": {},
     "output_type": "execute_result"
    }
   ],
   "source": [
    "# Question 88 : 한국 올림픽 메달리스트 데이터에서 년도에 따른 medal 갯수를 데이터프레임화하라.\n",
    "pvt_q88 = df_q87.pivot_table(index = 'Year', columns = 'Medal', aggfunc = 'size')\n",
    "pvt_q88.head(3)"
   ]
  },
  {
   "cell_type": "code",
   "execution_count": 93,
   "id": "37463dfe",
   "metadata": {
    "ExecuteTime": {
     "end_time": "2023-09-12T00:42:49.122173Z",
     "start_time": "2023-09-12T00:42:49.113158Z"
    }
   },
   "outputs": [
    {
     "data": {
      "text/html": [
       "<div>\n",
       "<style scoped>\n",
       "    .dataframe tbody tr th:only-of-type {\n",
       "        vertical-align: middle;\n",
       "    }\n",
       "\n",
       "    .dataframe tbody tr th {\n",
       "        vertical-align: top;\n",
       "    }\n",
       "\n",
       "    .dataframe thead th {\n",
       "        text-align: right;\n",
       "    }\n",
       "</style>\n",
       "<table border=\"1\" class=\"dataframe\">\n",
       "  <thead>\n",
       "    <tr style=\"text-align: right;\">\n",
       "      <th>Gender</th>\n",
       "      <th>Men</th>\n",
       "      <th>Women</th>\n",
       "    </tr>\n",
       "    <tr>\n",
       "      <th>Sport</th>\n",
       "      <th></th>\n",
       "      <th></th>\n",
       "    </tr>\n",
       "  </thead>\n",
       "  <tbody>\n",
       "    <tr>\n",
       "      <th>Biathlon</th>\n",
       "      <td>270</td>\n",
       "      <td>150</td>\n",
       "    </tr>\n",
       "    <tr>\n",
       "      <th>Bobsleigh</th>\n",
       "      <td>416</td>\n",
       "      <td>36</td>\n",
       "    </tr>\n",
       "    <tr>\n",
       "      <th>Curling</th>\n",
       "      <td>97</td>\n",
       "      <td>75</td>\n",
       "    </tr>\n",
       "  </tbody>\n",
       "</table>\n",
       "</div>"
      ],
      "text/plain": [
       "Gender     Men  Women\n",
       "Sport                \n",
       "Biathlon   270    150\n",
       "Bobsleigh  416     36\n",
       "Curling     97     75"
      ]
     },
     "execution_count": 93,
     "metadata": {},
     "output_type": "execute_result"
    }
   ],
   "source": [
    "# Question 89 : 전체 데이터에서 sport 종류에 따른 성별수를 구하여라.\n",
    "pvt_q89 = df.pivot_table(index = 'Sport', columns = 'Gender', aggfunc = 'size')\n",
    "pvt_q89.head(3)"
   ]
  },
  {
   "cell_type": "code",
   "execution_count": 94,
   "id": "a5117416",
   "metadata": {
    "ExecuteTime": {
     "end_time": "2023-09-12T00:42:49.131239Z",
     "start_time": "2023-09-12T00:42:49.123292Z"
    }
   },
   "outputs": [
    {
     "data": {
      "text/html": [
       "<div>\n",
       "<style scoped>\n",
       "    .dataframe tbody tr th:only-of-type {\n",
       "        vertical-align: middle;\n",
       "    }\n",
       "\n",
       "    .dataframe tbody tr th {\n",
       "        vertical-align: top;\n",
       "    }\n",
       "\n",
       "    .dataframe thead th {\n",
       "        text-align: right;\n",
       "    }\n",
       "</style>\n",
       "<table border=\"1\" class=\"dataframe\">\n",
       "  <thead>\n",
       "    <tr style=\"text-align: right;\">\n",
       "      <th>Medal</th>\n",
       "      <th>Bronze</th>\n",
       "      <th>Gold</th>\n",
       "      <th>Silver</th>\n",
       "    </tr>\n",
       "    <tr>\n",
       "      <th>Discipline</th>\n",
       "      <th></th>\n",
       "      <th></th>\n",
       "      <th></th>\n",
       "    </tr>\n",
       "  </thead>\n",
       "  <tbody>\n",
       "    <tr>\n",
       "      <th>Alpine Skiing</th>\n",
       "      <td>141</td>\n",
       "      <td>143</td>\n",
       "      <td>144</td>\n",
       "    </tr>\n",
       "    <tr>\n",
       "      <th>Biathlon</th>\n",
       "      <td>139</td>\n",
       "      <td>140</td>\n",
       "      <td>141</td>\n",
       "    </tr>\n",
       "    <tr>\n",
       "      <th>Bobsleigh</th>\n",
       "      <td>147</td>\n",
       "      <td>134</td>\n",
       "      <td>141</td>\n",
       "    </tr>\n",
       "  </tbody>\n",
       "</table>\n",
       "</div>"
      ],
      "text/plain": [
       "Medal          Bronze  Gold  Silver\n",
       "Discipline                         \n",
       "Alpine Skiing     141   143     144\n",
       "Biathlon          139   140     141\n",
       "Bobsleigh         147   134     141"
      ]
     },
     "execution_count": 94,
     "metadata": {},
     "output_type": "execute_result"
    }
   ],
   "source": [
    "# Question 90 : 전체 데이터에서 Discipline 종류에 따른 Medal 수를 구하여라.\n",
    "pvt_q90 = df.pivot_table(index = 'Discipline', columns = 'Medal', aggfunc = 'size')\n",
    "pvt_q90.head(3)"
   ]
  },
  {
   "cell_type": "markdown",
   "id": "6e847b79",
   "metadata": {},
   "source": [
    "# Merge, Concat"
   ]
  },
  {
   "cell_type": "code",
   "execution_count": 95,
   "id": "bde7d3cf",
   "metadata": {
    "ExecuteTime": {
     "end_time": "2023-09-12T00:42:49.479228Z",
     "start_time": "2023-09-12T00:42:49.132337Z"
    }
   },
   "outputs": [
    {
     "data": {
      "text/html": [
       "<div>\n",
       "<style scoped>\n",
       "    .dataframe tbody tr th:only-of-type {\n",
       "        vertical-align: middle;\n",
       "    }\n",
       "\n",
       "    .dataframe tbody tr th {\n",
       "        vertical-align: top;\n",
       "    }\n",
       "\n",
       "    .dataframe thead th {\n",
       "        text-align: right;\n",
       "    }\n",
       "</style>\n",
       "<table border=\"1\" class=\"dataframe\">\n",
       "  <thead>\n",
       "    <tr style=\"text-align: right;\">\n",
       "      <th></th>\n",
       "      <th>2010</th>\n",
       "      <th>2011</th>\n",
       "      <th>2012</th>\n",
       "      <th>2013</th>\n",
       "      <th>2014</th>\n",
       "      <th>2015</th>\n",
       "      <th>2016</th>\n",
       "      <th>2017</th>\n",
       "      <th>2018</th>\n",
       "      <th>2019</th>\n",
       "    </tr>\n",
       "    <tr>\n",
       "      <th>Location</th>\n",
       "      <th></th>\n",
       "      <th></th>\n",
       "      <th></th>\n",
       "      <th></th>\n",
       "      <th></th>\n",
       "      <th></th>\n",
       "      <th></th>\n",
       "      <th></th>\n",
       "      <th></th>\n",
       "      <th></th>\n",
       "    </tr>\n",
       "  </thead>\n",
       "  <tbody>\n",
       "    <tr>\n",
       "      <th>Afghanistan</th>\n",
       "      <td>64.023</td>\n",
       "      <td>61.640</td>\n",
       "      <td>59.367</td>\n",
       "      <td>57.170</td>\n",
       "      <td>55.08</td>\n",
       "      <td>53.107</td>\n",
       "      <td>51.267</td>\n",
       "      <td>49.560</td>\n",
       "      <td>47.983</td>\n",
       "      <td>46.453</td>\n",
       "    </tr>\n",
       "    <tr>\n",
       "      <th>Albania</th>\n",
       "      <td>11.803</td>\n",
       "      <td>10.807</td>\n",
       "      <td>9.943</td>\n",
       "      <td>9.267</td>\n",
       "      <td>8.79</td>\n",
       "      <td>8.493</td>\n",
       "      <td>8.363</td>\n",
       "      <td>8.363</td>\n",
       "      <td>8.453</td>\n",
       "      <td>8.597</td>\n",
       "    </tr>\n",
       "    <tr>\n",
       "      <th>Algeria</th>\n",
       "      <td>23.540</td>\n",
       "      <td>22.907</td>\n",
       "      <td>22.450</td>\n",
       "      <td>22.117</td>\n",
       "      <td>21.85</td>\n",
       "      <td>21.587</td>\n",
       "      <td>21.257</td>\n",
       "      <td>20.850</td>\n",
       "      <td>20.407</td>\n",
       "      <td>19.930</td>\n",
       "    </tr>\n",
       "    <tr>\n",
       "      <th>Andorra</th>\n",
       "      <td>4.240</td>\n",
       "      <td>4.033</td>\n",
       "      <td>3.843</td>\n",
       "      <td>3.667</td>\n",
       "      <td>3.49</td>\n",
       "      <td>3.330</td>\n",
       "      <td>3.187</td>\n",
       "      <td>3.060</td>\n",
       "      <td>2.933</td>\n",
       "      <td>2.827</td>\n",
       "    </tr>\n",
       "  </tbody>\n",
       "</table>\n",
       "</div>"
      ],
      "text/plain": [
       "               2010    2011    2012    2013   2014    2015    2016    2017  \\\n",
       "Location                                                                     \n",
       "Afghanistan  64.023  61.640  59.367  57.170  55.08  53.107  51.267  49.560   \n",
       "Albania      11.803  10.807   9.943   9.267   8.79   8.493   8.363   8.363   \n",
       "Algeria      23.540  22.907  22.450  22.117  21.85  21.587  21.257  20.850   \n",
       "Andorra       4.240   4.033   3.843   3.667   3.49   3.330   3.187   3.060   \n",
       "\n",
       "               2018    2019  \n",
       "Location                     \n",
       "Afghanistan  47.983  46.453  \n",
       "Albania       8.453   8.597  \n",
       "Algeria      20.407  19.930  \n",
       "Andorra       2.933   2.827  "
      ]
     },
     "metadata": {},
     "output_type": "display_data"
    },
    {
     "data": {
      "text/html": [
       "<div>\n",
       "<style scoped>\n",
       "    .dataframe tbody tr th:only-of-type {\n",
       "        vertical-align: middle;\n",
       "    }\n",
       "\n",
       "    .dataframe tbody tr th {\n",
       "        vertical-align: top;\n",
       "    }\n",
       "\n",
       "    .dataframe thead th {\n",
       "        text-align: right;\n",
       "    }\n",
       "</style>\n",
       "<table border=\"1\" class=\"dataframe\">\n",
       "  <thead>\n",
       "    <tr style=\"text-align: right;\">\n",
       "      <th></th>\n",
       "      <th>2010</th>\n",
       "      <th>2011</th>\n",
       "      <th>2012</th>\n",
       "      <th>2013</th>\n",
       "      <th>2014</th>\n",
       "      <th>2015</th>\n",
       "      <th>2016</th>\n",
       "      <th>2017</th>\n",
       "      <th>2018</th>\n",
       "      <th>2019</th>\n",
       "    </tr>\n",
       "    <tr>\n",
       "      <th>Location</th>\n",
       "      <th></th>\n",
       "      <th></th>\n",
       "      <th></th>\n",
       "      <th></th>\n",
       "      <th></th>\n",
       "      <th></th>\n",
       "      <th></th>\n",
       "      <th></th>\n",
       "      <th></th>\n",
       "      <th></th>\n",
       "    </tr>\n",
       "  </thead>\n",
       "  <tbody>\n",
       "    <tr>\n",
       "      <th>Angola</th>\n",
       "      <td>75.713</td>\n",
       "      <td>71.280</td>\n",
       "      <td>67.233</td>\n",
       "      <td>63.570</td>\n",
       "      <td>60.430</td>\n",
       "      <td>57.757</td>\n",
       "      <td>55.510</td>\n",
       "      <td>53.460</td>\n",
       "      <td>51.757</td>\n",
       "      <td>50.093</td>\n",
       "    </tr>\n",
       "    <tr>\n",
       "      <th>Antigua and Barbuda</th>\n",
       "      <td>8.667</td>\n",
       "      <td>8.223</td>\n",
       "      <td>7.807</td>\n",
       "      <td>7.420</td>\n",
       "      <td>7.070</td>\n",
       "      <td>6.757</td>\n",
       "      <td>6.483</td>\n",
       "      <td>6.230</td>\n",
       "      <td>6.000</td>\n",
       "      <td>5.783</td>\n",
       "    </tr>\n",
       "    <tr>\n",
       "      <th>Argentina</th>\n",
       "      <td>12.887</td>\n",
       "      <td>12.380</td>\n",
       "      <td>11.840</td>\n",
       "      <td>11.283</td>\n",
       "      <td>10.733</td>\n",
       "      <td>10.203</td>\n",
       "      <td>9.683</td>\n",
       "      <td>9.177</td>\n",
       "      <td>8.680</td>\n",
       "      <td>8.227</td>\n",
       "    </tr>\n",
       "    <tr>\n",
       "      <th>Armenia</th>\n",
       "      <td>16.497</td>\n",
       "      <td>15.677</td>\n",
       "      <td>14.897</td>\n",
       "      <td>14.170</td>\n",
       "      <td>13.477</td>\n",
       "      <td>12.817</td>\n",
       "      <td>12.183</td>\n",
       "      <td>11.583</td>\n",
       "      <td>11.007</td>\n",
       "      <td>10.497</td>\n",
       "    </tr>\n",
       "    <tr>\n",
       "      <th>Australia</th>\n",
       "      <td>3.993</td>\n",
       "      <td>3.803</td>\n",
       "      <td>3.623</td>\n",
       "      <td>3.467</td>\n",
       "      <td>3.343</td>\n",
       "      <td>3.253</td>\n",
       "      <td>3.183</td>\n",
       "      <td>3.137</td>\n",
       "      <td>3.090</td>\n",
       "      <td>3.047</td>\n",
       "    </tr>\n",
       "    <tr>\n",
       "      <th>Austria</th>\n",
       "      <td>3.573</td>\n",
       "      <td>3.463</td>\n",
       "      <td>3.333</td>\n",
       "      <td>3.210</td>\n",
       "      <td>3.113</td>\n",
       "      <td>3.043</td>\n",
       "      <td>2.987</td>\n",
       "      <td>2.943</td>\n",
       "      <td>2.897</td>\n",
       "      <td>2.843</td>\n",
       "    </tr>\n",
       "  </tbody>\n",
       "</table>\n",
       "</div>"
      ],
      "text/plain": [
       "                       2010    2011    2012    2013    2014    2015    2016  \\\n",
       "Location                                                                      \n",
       "Angola               75.713  71.280  67.233  63.570  60.430  57.757  55.510   \n",
       "Antigua and Barbuda   8.667   8.223   7.807   7.420   7.070   6.757   6.483   \n",
       "Argentina            12.887  12.380  11.840  11.283  10.733  10.203   9.683   \n",
       "Armenia              16.497  15.677  14.897  14.170  13.477  12.817  12.183   \n",
       "Australia             3.993   3.803   3.623   3.467   3.343   3.253   3.183   \n",
       "Austria               3.573   3.463   3.333   3.210   3.113   3.043   2.987   \n",
       "\n",
       "                       2017    2018    2019  \n",
       "Location                                     \n",
       "Angola               53.460  51.757  50.093  \n",
       "Antigua and Barbuda   6.230   6.000   5.783  \n",
       "Argentina             9.177   8.680   8.227  \n",
       "Armenia              11.583  11.007  10.497  \n",
       "Australia             3.137   3.090   3.047  \n",
       "Austria               2.943   2.897   2.843  "
      ]
     },
     "metadata": {},
     "output_type": "display_data"
    }
   ],
   "source": [
    "df = pd.read_csv('https://raw.githubusercontent.com/Datamanim/pandas/main/mergeTEst.csv',index_col= 0)\n",
    "df1 = df.iloc[:4,:]\n",
    "df2 = df.iloc[4:,:]\n",
    "display(df1)\n",
    "display(df2)"
   ]
  },
  {
   "cell_type": "code",
   "execution_count": 96,
   "id": "73f3a5be",
   "metadata": {
    "ExecuteTime": {
     "end_time": "2023-09-12T00:42:49.491042Z",
     "start_time": "2023-09-12T00:42:49.480838Z"
    }
   },
   "outputs": [
    {
     "data": {
      "text/html": [
       "<div>\n",
       "<style scoped>\n",
       "    .dataframe tbody tr th:only-of-type {\n",
       "        vertical-align: middle;\n",
       "    }\n",
       "\n",
       "    .dataframe tbody tr th {\n",
       "        vertical-align: top;\n",
       "    }\n",
       "\n",
       "    .dataframe thead th {\n",
       "        text-align: right;\n",
       "    }\n",
       "</style>\n",
       "<table border=\"1\" class=\"dataframe\">\n",
       "  <thead>\n",
       "    <tr style=\"text-align: right;\">\n",
       "      <th></th>\n",
       "      <th>2010</th>\n",
       "      <th>2011</th>\n",
       "      <th>2012</th>\n",
       "      <th>2013</th>\n",
       "      <th>2014</th>\n",
       "      <th>2015</th>\n",
       "      <th>2016</th>\n",
       "      <th>2017</th>\n",
       "      <th>2018</th>\n",
       "      <th>2019</th>\n",
       "    </tr>\n",
       "    <tr>\n",
       "      <th>Location</th>\n",
       "      <th></th>\n",
       "      <th></th>\n",
       "      <th></th>\n",
       "      <th></th>\n",
       "      <th></th>\n",
       "      <th></th>\n",
       "      <th></th>\n",
       "      <th></th>\n",
       "      <th></th>\n",
       "      <th></th>\n",
       "    </tr>\n",
       "  </thead>\n",
       "  <tbody>\n",
       "    <tr>\n",
       "      <th>Afghanistan</th>\n",
       "      <td>64.023</td>\n",
       "      <td>61.640</td>\n",
       "      <td>59.367</td>\n",
       "      <td>57.170</td>\n",
       "      <td>55.08</td>\n",
       "      <td>53.107</td>\n",
       "      <td>51.267</td>\n",
       "      <td>49.560</td>\n",
       "      <td>47.983</td>\n",
       "      <td>46.453</td>\n",
       "    </tr>\n",
       "    <tr>\n",
       "      <th>Albania</th>\n",
       "      <td>11.803</td>\n",
       "      <td>10.807</td>\n",
       "      <td>9.943</td>\n",
       "      <td>9.267</td>\n",
       "      <td>8.79</td>\n",
       "      <td>8.493</td>\n",
       "      <td>8.363</td>\n",
       "      <td>8.363</td>\n",
       "      <td>8.453</td>\n",
       "      <td>8.597</td>\n",
       "    </tr>\n",
       "    <tr>\n",
       "      <th>Algeria</th>\n",
       "      <td>23.540</td>\n",
       "      <td>22.907</td>\n",
       "      <td>22.450</td>\n",
       "      <td>22.117</td>\n",
       "      <td>21.85</td>\n",
       "      <td>21.587</td>\n",
       "      <td>21.257</td>\n",
       "      <td>20.850</td>\n",
       "      <td>20.407</td>\n",
       "      <td>19.930</td>\n",
       "    </tr>\n",
       "  </tbody>\n",
       "</table>\n",
       "</div>"
      ],
      "text/plain": [
       "               2010    2011    2012    2013   2014    2015    2016    2017  \\\n",
       "Location                                                                     \n",
       "Afghanistan  64.023  61.640  59.367  57.170  55.08  53.107  51.267  49.560   \n",
       "Albania      11.803  10.807   9.943   9.267   8.79   8.493   8.363   8.363   \n",
       "Algeria      23.540  22.907  22.450  22.117  21.85  21.587  21.257  20.850   \n",
       "\n",
       "               2018    2019  \n",
       "Location                     \n",
       "Afghanistan  47.983  46.453  \n",
       "Albania       8.453   8.597  \n",
       "Algeria      20.407  19.930  "
      ]
     },
     "execution_count": 96,
     "metadata": {},
     "output_type": "execute_result"
    }
   ],
   "source": [
    "# Question 91 : df1과 df2데이터를 하나의 데이터프레임으로 합쳐라.\n",
    "df_q91 = pd.concat([df1, df2])\n",
    "df_q91.head(3)"
   ]
  },
  {
   "cell_type": "code",
   "execution_count": 97,
   "id": "8cc721f5",
   "metadata": {
    "ExecuteTime": {
     "end_time": "2023-09-12T00:42:49.509315Z",
     "start_time": "2023-09-12T00:42:49.492151Z"
    }
   },
   "outputs": [
    {
     "data": {
      "text/html": [
       "<div>\n",
       "<style scoped>\n",
       "    .dataframe tbody tr th:only-of-type {\n",
       "        vertical-align: middle;\n",
       "    }\n",
       "\n",
       "    .dataframe tbody tr th {\n",
       "        vertical-align: top;\n",
       "    }\n",
       "\n",
       "    .dataframe thead th {\n",
       "        text-align: right;\n",
       "    }\n",
       "</style>\n",
       "<table border=\"1\" class=\"dataframe\">\n",
       "  <thead>\n",
       "    <tr style=\"text-align: right;\">\n",
       "      <th></th>\n",
       "      <th>2010</th>\n",
       "      <th>2011</th>\n",
       "      <th>2012</th>\n",
       "      <th>2013</th>\n",
       "    </tr>\n",
       "    <tr>\n",
       "      <th>Location</th>\n",
       "      <th></th>\n",
       "      <th></th>\n",
       "      <th></th>\n",
       "      <th></th>\n",
       "    </tr>\n",
       "  </thead>\n",
       "  <tbody>\n",
       "    <tr>\n",
       "      <th>Afghanistan</th>\n",
       "      <td>64.023</td>\n",
       "      <td>61.640</td>\n",
       "      <td>59.367</td>\n",
       "      <td>57.170</td>\n",
       "    </tr>\n",
       "    <tr>\n",
       "      <th>Albania</th>\n",
       "      <td>11.803</td>\n",
       "      <td>10.807</td>\n",
       "      <td>9.943</td>\n",
       "      <td>9.267</td>\n",
       "    </tr>\n",
       "  </tbody>\n",
       "</table>\n",
       "</div>"
      ],
      "text/plain": [
       "               2010    2011    2012    2013\n",
       "Location                                   \n",
       "Afghanistan  64.023  61.640  59.367  57.170\n",
       "Albania      11.803  10.807   9.943   9.267"
      ]
     },
     "metadata": {},
     "output_type": "display_data"
    },
    {
     "data": {
      "text/html": [
       "<div>\n",
       "<style scoped>\n",
       "    .dataframe tbody tr th:only-of-type {\n",
       "        vertical-align: middle;\n",
       "    }\n",
       "\n",
       "    .dataframe tbody tr th {\n",
       "        vertical-align: top;\n",
       "    }\n",
       "\n",
       "    .dataframe thead th {\n",
       "        text-align: right;\n",
       "    }\n",
       "</style>\n",
       "<table border=\"1\" class=\"dataframe\">\n",
       "  <thead>\n",
       "    <tr style=\"text-align: right;\">\n",
       "      <th></th>\n",
       "      <th>2013</th>\n",
       "      <th>2014</th>\n",
       "      <th>2015</th>\n",
       "      <th>2016</th>\n",
       "      <th>2017</th>\n",
       "      <th>2018</th>\n",
       "      <th>2019</th>\n",
       "    </tr>\n",
       "    <tr>\n",
       "      <th>Location</th>\n",
       "      <th></th>\n",
       "      <th></th>\n",
       "      <th></th>\n",
       "      <th></th>\n",
       "      <th></th>\n",
       "      <th></th>\n",
       "      <th></th>\n",
       "    </tr>\n",
       "  </thead>\n",
       "  <tbody>\n",
       "    <tr>\n",
       "      <th>Antigua and Barbuda</th>\n",
       "      <td>7.420</td>\n",
       "      <td>7.070</td>\n",
       "      <td>6.757</td>\n",
       "      <td>6.483</td>\n",
       "      <td>6.230</td>\n",
       "      <td>6.000</td>\n",
       "      <td>5.783</td>\n",
       "    </tr>\n",
       "    <tr>\n",
       "      <th>Argentina</th>\n",
       "      <td>11.283</td>\n",
       "      <td>10.733</td>\n",
       "      <td>10.203</td>\n",
       "      <td>9.683</td>\n",
       "      <td>9.177</td>\n",
       "      <td>8.680</td>\n",
       "      <td>8.227</td>\n",
       "    </tr>\n",
       "    <tr>\n",
       "      <th>Armenia</th>\n",
       "      <td>14.170</td>\n",
       "      <td>13.477</td>\n",
       "      <td>12.817</td>\n",
       "      <td>12.183</td>\n",
       "      <td>11.583</td>\n",
       "      <td>11.007</td>\n",
       "      <td>10.497</td>\n",
       "    </tr>\n",
       "    <tr>\n",
       "      <th>Australia</th>\n",
       "      <td>3.467</td>\n",
       "      <td>3.343</td>\n",
       "      <td>3.253</td>\n",
       "      <td>3.183</td>\n",
       "      <td>3.137</td>\n",
       "      <td>3.090</td>\n",
       "      <td>3.047</td>\n",
       "    </tr>\n",
       "    <tr>\n",
       "      <th>Austria</th>\n",
       "      <td>3.210</td>\n",
       "      <td>3.113</td>\n",
       "      <td>3.043</td>\n",
       "      <td>2.987</td>\n",
       "      <td>2.943</td>\n",
       "      <td>2.897</td>\n",
       "      <td>2.843</td>\n",
       "    </tr>\n",
       "  </tbody>\n",
       "</table>\n",
       "</div>"
      ],
      "text/plain": [
       "                       2013    2014    2015    2016    2017    2018    2019\n",
       "Location                                                                   \n",
       "Antigua and Barbuda   7.420   7.070   6.757   6.483   6.230   6.000   5.783\n",
       "Argentina            11.283  10.733  10.203   9.683   9.177   8.680   8.227\n",
       "Armenia              14.170  13.477  12.817  12.183  11.583  11.007  10.497\n",
       "Australia             3.467   3.343   3.253   3.183   3.137   3.090   3.047\n",
       "Austria               3.210   3.113   3.043   2.987   2.943   2.897   2.843"
      ]
     },
     "metadata": {},
     "output_type": "display_data"
    }
   ],
   "source": [
    "# Question 92 : df3과 df4 데이터를 하나의 데이터프레임으로 합쳐라. 둘다 포함하고 있는 년도에 대해서만 고려한다.\n",
    "df3 = df.iloc[:2,:4]\n",
    "df4 = df.iloc[5:,3:]\n",
    "display(df3)\n",
    "display(df4)"
   ]
  },
  {
   "cell_type": "code",
   "execution_count": 98,
   "id": "9ceb0efc",
   "metadata": {
    "ExecuteTime": {
     "end_time": "2023-09-12T00:42:49.519410Z",
     "start_time": "2023-09-12T00:42:49.511080Z"
    }
   },
   "outputs": [
    {
     "data": {
      "text/html": [
       "<div>\n",
       "<style scoped>\n",
       "    .dataframe tbody tr th:only-of-type {\n",
       "        vertical-align: middle;\n",
       "    }\n",
       "\n",
       "    .dataframe tbody tr th {\n",
       "        vertical-align: top;\n",
       "    }\n",
       "\n",
       "    .dataframe thead th {\n",
       "        text-align: right;\n",
       "    }\n",
       "</style>\n",
       "<table border=\"1\" class=\"dataframe\">\n",
       "  <thead>\n",
       "    <tr style=\"text-align: right;\">\n",
       "      <th></th>\n",
       "      <th>2010</th>\n",
       "      <th>2011</th>\n",
       "      <th>2012</th>\n",
       "      <th>2013</th>\n",
       "    </tr>\n",
       "    <tr>\n",
       "      <th>Location</th>\n",
       "      <th></th>\n",
       "      <th></th>\n",
       "      <th></th>\n",
       "      <th></th>\n",
       "    </tr>\n",
       "  </thead>\n",
       "  <tbody>\n",
       "    <tr>\n",
       "      <th>Afghanistan</th>\n",
       "      <td>64.023</td>\n",
       "      <td>61.640</td>\n",
       "      <td>59.367</td>\n",
       "      <td>57.170</td>\n",
       "    </tr>\n",
       "    <tr>\n",
       "      <th>Albania</th>\n",
       "      <td>11.803</td>\n",
       "      <td>10.807</td>\n",
       "      <td>9.943</td>\n",
       "      <td>9.267</td>\n",
       "    </tr>\n",
       "    <tr>\n",
       "      <th>Angola</th>\n",
       "      <td>75.713</td>\n",
       "      <td>71.280</td>\n",
       "      <td>67.233</td>\n",
       "      <td>63.570</td>\n",
       "    </tr>\n",
       "  </tbody>\n",
       "</table>\n",
       "</div>"
      ],
      "text/plain": [
       "               2010    2011    2012    2013\n",
       "Location                                   \n",
       "Afghanistan  64.023  61.640  59.367  57.170\n",
       "Albania      11.803  10.807   9.943   9.267\n",
       "Angola       75.713  71.280  67.233  63.570"
      ]
     },
     "execution_count": 98,
     "metadata": {},
     "output_type": "execute_result"
    }
   ],
   "source": [
    "df_q92 = pd.concat([df3, df2], join = 'inner')\n",
    "df_q92.head(3)"
   ]
  },
  {
   "cell_type": "code",
   "execution_count": 99,
   "id": "d11426a7",
   "metadata": {
    "ExecuteTime": {
     "end_time": "2023-09-12T00:42:49.531762Z",
     "start_time": "2023-09-12T00:42:49.521727Z"
    }
   },
   "outputs": [
    {
     "data": {
      "text/html": [
       "<div>\n",
       "<style scoped>\n",
       "    .dataframe tbody tr th:only-of-type {\n",
       "        vertical-align: middle;\n",
       "    }\n",
       "\n",
       "    .dataframe tbody tr th {\n",
       "        vertical-align: top;\n",
       "    }\n",
       "\n",
       "    .dataframe thead th {\n",
       "        text-align: right;\n",
       "    }\n",
       "</style>\n",
       "<table border=\"1\" class=\"dataframe\">\n",
       "  <thead>\n",
       "    <tr style=\"text-align: right;\">\n",
       "      <th></th>\n",
       "      <th>2010</th>\n",
       "      <th>2011</th>\n",
       "      <th>2012</th>\n",
       "      <th>2013</th>\n",
       "      <th>2014</th>\n",
       "      <th>2015</th>\n",
       "      <th>2016</th>\n",
       "      <th>2017</th>\n",
       "      <th>2018</th>\n",
       "      <th>2019</th>\n",
       "    </tr>\n",
       "    <tr>\n",
       "      <th>Location</th>\n",
       "      <th></th>\n",
       "      <th></th>\n",
       "      <th></th>\n",
       "      <th></th>\n",
       "      <th></th>\n",
       "      <th></th>\n",
       "      <th></th>\n",
       "      <th></th>\n",
       "      <th></th>\n",
       "      <th></th>\n",
       "    </tr>\n",
       "  </thead>\n",
       "  <tbody>\n",
       "    <tr>\n",
       "      <th>Afghanistan</th>\n",
       "      <td>64.023</td>\n",
       "      <td>61.640</td>\n",
       "      <td>59.367</td>\n",
       "      <td>57.170</td>\n",
       "      <td>0.00</td>\n",
       "      <td>0.000</td>\n",
       "      <td>0.000</td>\n",
       "      <td>0.00</td>\n",
       "      <td>0.0</td>\n",
       "      <td>0.000</td>\n",
       "    </tr>\n",
       "    <tr>\n",
       "      <th>Albania</th>\n",
       "      <td>11.803</td>\n",
       "      <td>10.807</td>\n",
       "      <td>9.943</td>\n",
       "      <td>9.267</td>\n",
       "      <td>0.00</td>\n",
       "      <td>0.000</td>\n",
       "      <td>0.000</td>\n",
       "      <td>0.00</td>\n",
       "      <td>0.0</td>\n",
       "      <td>0.000</td>\n",
       "    </tr>\n",
       "    <tr>\n",
       "      <th>Antigua and Barbuda</th>\n",
       "      <td>0.000</td>\n",
       "      <td>0.000</td>\n",
       "      <td>0.000</td>\n",
       "      <td>7.420</td>\n",
       "      <td>7.07</td>\n",
       "      <td>6.757</td>\n",
       "      <td>6.483</td>\n",
       "      <td>6.23</td>\n",
       "      <td>6.0</td>\n",
       "      <td>5.783</td>\n",
       "    </tr>\n",
       "  </tbody>\n",
       "</table>\n",
       "</div>"
      ],
      "text/plain": [
       "                       2010    2011    2012    2013  2014   2015   2016  2017  \\\n",
       "Location                                                                        \n",
       "Afghanistan          64.023  61.640  59.367  57.170  0.00  0.000  0.000  0.00   \n",
       "Albania              11.803  10.807   9.943   9.267  0.00  0.000  0.000  0.00   \n",
       "Antigua and Barbuda   0.000   0.000   0.000   7.420  7.07  6.757  6.483  6.23   \n",
       "\n",
       "                     2018   2019  \n",
       "Location                          \n",
       "Afghanistan           0.0  0.000  \n",
       "Albania               0.0  0.000  \n",
       "Antigua and Barbuda   6.0  5.783  "
      ]
     },
     "execution_count": 99,
     "metadata": {},
     "output_type": "execute_result"
    }
   ],
   "source": [
    "# Question 93 : df3과 df4 데이터를 하나의 데이터프레미으로 합쳐라. 모든 컬럼을 포함하고, 결측치는 0으로 대체한다.\n",
    "df_q93 = pd.concat([df3, df4], join = 'outer').fillna(0)\n",
    "df_q93.head(3)"
   ]
  },
  {
   "cell_type": "code",
   "execution_count": 100,
   "id": "72e82356",
   "metadata": {
    "ExecuteTime": {
     "end_time": "2023-09-12T00:42:50.178017Z",
     "start_time": "2023-09-12T00:42:50.144332Z"
    }
   },
   "outputs": [
    {
     "data": {
      "text/html": [
       "<div>\n",
       "<style scoped>\n",
       "    .dataframe tbody tr th:only-of-type {\n",
       "        vertical-align: middle;\n",
       "    }\n",
       "\n",
       "    .dataframe tbody tr th {\n",
       "        vertical-align: top;\n",
       "    }\n",
       "\n",
       "    .dataframe thead th {\n",
       "        text-align: right;\n",
       "    }\n",
       "</style>\n",
       "<table border=\"1\" class=\"dataframe\">\n",
       "  <thead>\n",
       "    <tr style=\"text-align: right;\">\n",
       "      <th>Location</th>\n",
       "      <th>Afghanistan</th>\n",
       "      <th>Albania</th>\n",
       "      <th>Algeria</th>\n",
       "    </tr>\n",
       "  </thead>\n",
       "  <tbody>\n",
       "    <tr>\n",
       "      <th>2010</th>\n",
       "      <td>64.023</td>\n",
       "      <td>11.803</td>\n",
       "      <td>23.540</td>\n",
       "    </tr>\n",
       "    <tr>\n",
       "      <th>2011</th>\n",
       "      <td>61.640</td>\n",
       "      <td>10.807</td>\n",
       "      <td>22.907</td>\n",
       "    </tr>\n",
       "    <tr>\n",
       "      <th>2012</th>\n",
       "      <td>59.367</td>\n",
       "      <td>9.943</td>\n",
       "      <td>22.450</td>\n",
       "    </tr>\n",
       "    <tr>\n",
       "      <th>2013</th>\n",
       "      <td>57.170</td>\n",
       "      <td>9.267</td>\n",
       "      <td>22.117</td>\n",
       "    </tr>\n",
       "    <tr>\n",
       "      <th>2014</th>\n",
       "      <td>55.080</td>\n",
       "      <td>8.790</td>\n",
       "      <td>21.850</td>\n",
       "    </tr>\n",
       "    <tr>\n",
       "      <th>2015</th>\n",
       "      <td>53.107</td>\n",
       "      <td>8.493</td>\n",
       "      <td>21.587</td>\n",
       "    </tr>\n",
       "    <tr>\n",
       "      <th>2016</th>\n",
       "      <td>51.267</td>\n",
       "      <td>8.363</td>\n",
       "      <td>21.257</td>\n",
       "    </tr>\n",
       "  </tbody>\n",
       "</table>\n",
       "</div>"
      ],
      "text/plain": [
       "Location  Afghanistan  Albania  Algeria\n",
       "2010           64.023   11.803   23.540\n",
       "2011           61.640   10.807   22.907\n",
       "2012           59.367    9.943   22.450\n",
       "2013           57.170    9.267   22.117\n",
       "2014           55.080    8.790   21.850\n",
       "2015           53.107    8.493   21.587\n",
       "2016           51.267    8.363   21.257"
      ]
     },
     "metadata": {},
     "output_type": "display_data"
    },
    {
     "data": {
      "text/html": [
       "<div>\n",
       "<style scoped>\n",
       "    .dataframe tbody tr th:only-of-type {\n",
       "        vertical-align: middle;\n",
       "    }\n",
       "\n",
       "    .dataframe tbody tr th {\n",
       "        vertical-align: top;\n",
       "    }\n",
       "\n",
       "    .dataframe thead th {\n",
       "        text-align: right;\n",
       "    }\n",
       "</style>\n",
       "<table border=\"1\" class=\"dataframe\">\n",
       "  <thead>\n",
       "    <tr style=\"text-align: right;\">\n",
       "      <th>Location</th>\n",
       "      <th>Algeria</th>\n",
       "      <th>Andorra</th>\n",
       "      <th>Angola</th>\n",
       "    </tr>\n",
       "  </thead>\n",
       "  <tbody>\n",
       "    <tr>\n",
       "      <th>2016</th>\n",
       "      <td>21.257</td>\n",
       "      <td>3.187</td>\n",
       "      <td>55.510</td>\n",
       "    </tr>\n",
       "    <tr>\n",
       "      <th>2017</th>\n",
       "      <td>20.850</td>\n",
       "      <td>3.060</td>\n",
       "      <td>53.460</td>\n",
       "    </tr>\n",
       "    <tr>\n",
       "      <th>2018</th>\n",
       "      <td>20.407</td>\n",
       "      <td>2.933</td>\n",
       "      <td>51.757</td>\n",
       "    </tr>\n",
       "    <tr>\n",
       "      <th>2019</th>\n",
       "      <td>19.930</td>\n",
       "      <td>2.827</td>\n",
       "      <td>50.093</td>\n",
       "    </tr>\n",
       "  </tbody>\n",
       "</table>\n",
       "</div>"
      ],
      "text/plain": [
       "Location  Algeria  Andorra  Angola\n",
       "2016       21.257    3.187  55.510\n",
       "2017       20.850    3.060  53.460\n",
       "2018       20.407    2.933  51.757\n",
       "2019       19.930    2.827  50.093"
      ]
     },
     "metadata": {},
     "output_type": "display_data"
    }
   ],
   "source": [
    "df5 = df.T.iloc[:7,:3]\n",
    "df6 = df.T.iloc[6:,2:5]\n",
    "display(df5)\n",
    "display(df6)"
   ]
  },
  {
   "cell_type": "code",
   "execution_count": 103,
   "id": "e9d696aa",
   "metadata": {
    "ExecuteTime": {
     "end_time": "2023-09-12T00:42:57.542569Z",
     "start_time": "2023-09-12T00:42:57.530038Z"
    }
   },
   "outputs": [
    {
     "data": {
      "text/html": [
       "<div>\n",
       "<style scoped>\n",
       "    .dataframe tbody tr th:only-of-type {\n",
       "        vertical-align: middle;\n",
       "    }\n",
       "\n",
       "    .dataframe tbody tr th {\n",
       "        vertical-align: top;\n",
       "    }\n",
       "\n",
       "    .dataframe thead th {\n",
       "        text-align: right;\n",
       "    }\n",
       "</style>\n",
       "<table border=\"1\" class=\"dataframe\">\n",
       "  <thead>\n",
       "    <tr style=\"text-align: right;\">\n",
       "      <th>Location</th>\n",
       "      <th>Afghanistan</th>\n",
       "      <th>Albania</th>\n",
       "      <th>Algeria</th>\n",
       "      <th>Andorra</th>\n",
       "      <th>Angola</th>\n",
       "    </tr>\n",
       "  </thead>\n",
       "  <tbody>\n",
       "    <tr>\n",
       "      <th>0</th>\n",
       "      <td>51.267</td>\n",
       "      <td>8.363</td>\n",
       "      <td>21.257</td>\n",
       "      <td>3.187</td>\n",
       "      <td>55.51</td>\n",
       "    </tr>\n",
       "  </tbody>\n",
       "</table>\n",
       "</div>"
      ],
      "text/plain": [
       "Location  Afghanistan  Albania  Algeria  Andorra  Angola\n",
       "0              51.267    8.363   21.257    3.187   55.51"
      ]
     },
     "execution_count": 103,
     "metadata": {},
     "output_type": "execute_result"
    }
   ],
   "source": [
    "# Question 94 : df5과 df6 데이터를 하나의 데이터프레임으로 merge함수를 이용하여 합쳐라. Algeria 컬럼을 key로 하고 두 데이터 모두 포함하는 데이터만 출력하라.\n",
    "df_q94 = df5.merge(df6, on = 'Algeria')\n",
    "df_q94.head()"
   ]
  },
  {
   "cell_type": "code",
   "execution_count": 104,
   "id": "15e46ed5",
   "metadata": {
    "ExecuteTime": {
     "end_time": "2023-09-12T00:43:01.558531Z",
     "start_time": "2023-09-12T00:43:01.547335Z"
    }
   },
   "outputs": [
    {
     "data": {
      "text/html": [
       "<div>\n",
       "<style scoped>\n",
       "    .dataframe tbody tr th:only-of-type {\n",
       "        vertical-align: middle;\n",
       "    }\n",
       "\n",
       "    .dataframe tbody tr th {\n",
       "        vertical-align: top;\n",
       "    }\n",
       "\n",
       "    .dataframe thead th {\n",
       "        text-align: right;\n",
       "    }\n",
       "</style>\n",
       "<table border=\"1\" class=\"dataframe\">\n",
       "  <thead>\n",
       "    <tr style=\"text-align: right;\">\n",
       "      <th>Location</th>\n",
       "      <th>Afghanistan</th>\n",
       "      <th>Albania</th>\n",
       "      <th>Algeria</th>\n",
       "      <th>Andorra</th>\n",
       "      <th>Angola</th>\n",
       "    </tr>\n",
       "  </thead>\n",
       "  <tbody>\n",
       "    <tr>\n",
       "      <th>0</th>\n",
       "      <td>64.023</td>\n",
       "      <td>11.803</td>\n",
       "      <td>23.540</td>\n",
       "      <td>NaN</td>\n",
       "      <td>NaN</td>\n",
       "    </tr>\n",
       "    <tr>\n",
       "      <th>1</th>\n",
       "      <td>61.640</td>\n",
       "      <td>10.807</td>\n",
       "      <td>22.907</td>\n",
       "      <td>NaN</td>\n",
       "      <td>NaN</td>\n",
       "    </tr>\n",
       "    <tr>\n",
       "      <th>2</th>\n",
       "      <td>59.367</td>\n",
       "      <td>9.943</td>\n",
       "      <td>22.450</td>\n",
       "      <td>NaN</td>\n",
       "      <td>NaN</td>\n",
       "    </tr>\n",
       "    <tr>\n",
       "      <th>3</th>\n",
       "      <td>57.170</td>\n",
       "      <td>9.267</td>\n",
       "      <td>22.117</td>\n",
       "      <td>NaN</td>\n",
       "      <td>NaN</td>\n",
       "    </tr>\n",
       "    <tr>\n",
       "      <th>4</th>\n",
       "      <td>55.080</td>\n",
       "      <td>8.790</td>\n",
       "      <td>21.850</td>\n",
       "      <td>NaN</td>\n",
       "      <td>NaN</td>\n",
       "    </tr>\n",
       "  </tbody>\n",
       "</table>\n",
       "</div>"
      ],
      "text/plain": [
       "Location  Afghanistan  Albania  Algeria  Andorra  Angola\n",
       "0              64.023   11.803   23.540      NaN     NaN\n",
       "1              61.640   10.807   22.907      NaN     NaN\n",
       "2              59.367    9.943   22.450      NaN     NaN\n",
       "3              57.170    9.267   22.117      NaN     NaN\n",
       "4              55.080    8.790   21.850      NaN     NaN"
      ]
     },
     "execution_count": 104,
     "metadata": {},
     "output_type": "execute_result"
    }
   ],
   "source": [
    "# Question 95 : df5과 df6 데이터를 하나의 데이터프레임으로 merge 함수를 이용하여 함쳐라. Algeria 컬럼을 key로 하고 합집합으로 합쳐라.\n",
    "df_q95 = df5.merge(df6, on = 'Algeria', how = 'outer')\n",
    "df_q95.head()"
   ]
  }
 ],
 "metadata": {
  "kernelspec": {
   "display_name": "Python 3 (ipykernel)",
   "language": "python",
   "name": "python3"
  },
  "language_info": {
   "codemirror_mode": {
    "name": "ipython",
    "version": 3
   },
   "file_extension": ".py",
   "mimetype": "text/x-python",
   "name": "python",
   "nbconvert_exporter": "python",
   "pygments_lexer": "ipython3",
   "version": "3.9.13"
  },
  "latex_envs": {
   "LaTeX_envs_menu_present": true,
   "autoclose": false,
   "autocomplete": true,
   "bibliofile": "biblio.bib",
   "cite_by": "apalike",
   "current_citInitial": 1,
   "eqLabelWithNumbers": true,
   "eqNumInitial": 1,
   "hotkeys": {
    "equation": "Ctrl-E",
    "itemize": "Ctrl-I"
   },
   "labels_anchors": false,
   "latex_user_defs": false,
   "report_style_numbering": false,
   "user_envs_cfg": false
  },
  "toc": {
   "base_numbering": 1,
   "nav_menu": {},
   "number_sections": true,
   "sideBar": true,
   "skip_h1_title": false,
   "title_cell": "Table of Contents",
   "title_sidebar": "Contents",
   "toc_cell": false,
   "toc_position": {},
   "toc_section_display": true,
   "toc_window_display": false
  },
  "varInspector": {
   "cols": {
    "lenName": 16,
    "lenType": 16,
    "lenVar": 40
   },
   "kernels_config": {
    "python": {
     "delete_cmd_postfix": "",
     "delete_cmd_prefix": "del ",
     "library": "var_list.py",
     "varRefreshCmd": "print(var_dic_list())"
    },
    "r": {
     "delete_cmd_postfix": ") ",
     "delete_cmd_prefix": "rm(",
     "library": "var_list.r",
     "varRefreshCmd": "cat(var_dic_list()) "
    }
   },
   "types_to_exclude": [
    "module",
    "function",
    "builtin_function_or_method",
    "instance",
    "_Feature"
   ],
   "window_display": false
  }
 },
 "nbformat": 4,
 "nbformat_minor": 5
}
