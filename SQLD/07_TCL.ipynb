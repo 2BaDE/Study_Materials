{
 "cells": [
  {
   "cell_type": "markdown",
   "id": "277de496",
   "metadata": {},
   "source": [
    "# COMMIT\n",
    "\n",
    "- COMMIT은 INSERT, UPDATE, DELETE문으로 변경한 데이터를 데이터베이스에 반영함\n",
    "- 변경 이전 데이터는 잃어버리며 다른 모든 데이터베이스 사용자는 변경된 데이터를 조회할 수 있음\n",
    "- COMMIT이 완료되면 데이터베이스 변경으로 인한 LOCK이 해제됨(병행제어)\n",
    "- COMMIT이 완료되면 다른 모든 데이터베이스 사용자는 변경된 데이터베이스를 조작할 수 있음\n",
    "- COMMIT을 실행하면 하나의 트랜잭션 과정을 종료 함"
   ]
  },
  {
   "cell_type": "markdown",
   "id": "0f3e6306",
   "metadata": {},
   "source": [
    "# ROLLBACK\n",
    "\n",
    "- ROLLBACK을 실행하면 데이터에 대한 변경 사항을 모두 취소하고 트랜잭션을 종료함\n",
    "- 단, 이전에 COMMIT한 곳까지만 복구함\n",
    "- ROLLBACK을 실행하면 LOCK이 해제되고 다른 사용자도 데이터베이스 행을 조작 가능함"
   ]
  },
  {
   "cell_type": "markdown",
   "id": "a446db25",
   "metadata": {},
   "source": [
    "# SAVEPOINT\n",
    "\n",
    "- SAVEPOINT는 트랜잭션을 작게 분할하여 관리하는 것으로 지정된 위치 이후의 트랜잭션만 ROLLBACK 가능\n",
    "- SAVEPOINT의 지정은 SAVEPOINT [savepoint]을 실행\n",
    "- 지정된 SAVEPOINT까지만 데이터 변경을 취소하고 싶은 경우 ROLLBACK TO [savepoint]를 실행\n",
    "\n",
    "```SQL\n",
    "SAVEPOINT t1;\n",
    "INSERT INTO EMP VALUES(10, 20);\n",
    "SAVEPOINT t2;\n",
    "INSERT INTO EMP VALUES(20, 30);\n",
    "ROLLBACK TO t2;\n",
    "COMMIT;\n",
    "SELECT * FROM EMP;\n",
    "```"
   ]
  },
  {
   "cell_type": "markdown",
   "id": "76e1a63d",
   "metadata": {},
   "source": [
    "# PROCEDURE\n",
    "\n",
    "- CREATE PROCEDURE 문법 사용\n",
    "- 생성하면 소스코드와 실행코드가 생성됨. 일련의 쿼리를 하나의 함수처럼 사용할 수 있음\n",
    "- EXECUTE 명령어로 실행\n",
    "- COMMIT, ROLLBACK 실행 가능"
   ]
  },
  {
   "cell_type": "markdown",
   "id": "a7845e65",
   "metadata": {},
   "source": [
    "# TRIGGER\n",
    "\n",
    "- CREATE TRIGGER 문법 사용\n",
    "- 생성하면 소스코드와 실행코드가 생성됨\n",
    "- 생성 후 자동 실행\n",
    "- COMMIT, ROLLBACK 실행불가"
   ]
  }
 ],
 "metadata": {
  "kernelspec": {
   "display_name": "Python 3 (ipykernel)",
   "language": "python",
   "name": "python3"
  },
  "language_info": {
   "codemirror_mode": {
    "name": "ipython",
    "version": 3
   },
   "file_extension": ".py",
   "mimetype": "text/x-python",
   "name": "python",
   "nbconvert_exporter": "python",
   "pygments_lexer": "ipython3",
   "version": "3.9.13"
  },
  "latex_envs": {
   "LaTeX_envs_menu_present": true,
   "autoclose": false,
   "autocomplete": true,
   "bibliofile": "biblio.bib",
   "cite_by": "apalike",
   "current_citInitial": 1,
   "eqLabelWithNumbers": true,
   "eqNumInitial": 1,
   "hotkeys": {
    "equation": "Ctrl-E",
    "itemize": "Ctrl-I"
   },
   "labels_anchors": false,
   "latex_user_defs": false,
   "report_style_numbering": false,
   "user_envs_cfg": false
  },
  "toc": {
   "base_numbering": 1,
   "nav_menu": {},
   "number_sections": true,
   "sideBar": true,
   "skip_h1_title": false,
   "title_cell": "Table of Contents",
   "title_sidebar": "Contents",
   "toc_cell": false,
   "toc_position": {},
   "toc_section_display": true,
   "toc_window_display": false
  },
  "varInspector": {
   "cols": {
    "lenName": 16,
    "lenType": 16,
    "lenVar": 40
   },
   "kernels_config": {
    "python": {
     "delete_cmd_postfix": "",
     "delete_cmd_prefix": "del ",
     "library": "var_list.py",
     "varRefreshCmd": "print(var_dic_list())"
    },
    "r": {
     "delete_cmd_postfix": ") ",
     "delete_cmd_prefix": "rm(",
     "library": "var_list.r",
     "varRefreshCmd": "cat(var_dic_list()) "
    }
   },
   "types_to_exclude": [
    "module",
    "function",
    "builtin_function_or_method",
    "instance",
    "_Feature"
   ],
   "window_display": false
  }
 },
 "nbformat": 4,
 "nbformat_minor": 5
}
