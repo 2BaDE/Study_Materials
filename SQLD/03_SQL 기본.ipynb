{
 "cells": [
  {
   "cell_type": "markdown",
   "id": "af1d1495",
   "metadata": {},
   "source": [
    "# 관계형 데이터베이스(Relational Database)\n",
    "\n",
    "## 관계형 데이터베이스 \n",
    "- 관계형 데이터베이스는 릴레이션과 릴레이션 조인 연산을 통해서 합집합, 교집합, 차집합 등을 만들 수 있음\n",
    "- 데이터베이스의 종류는 계층형, 네트워크형, 관계형 등이 있음 \n",
    "- 계층형 데이터베이스는 1:N 관계를 표현하며, 네트워크 데이터베이스는 1:N, M:N 표현도 가능함 \n",
    "\n",
    "## 관계형 데이터베이스 연산 \n",
    "**1. 집합 연산**\n",
    "- 합집합(Union) : 두 개의 릴레이션을 하나로 합하는 연산\n",
    "- 차집합(Difference) : 본래 릴레이션에는 존재하고 다른 릴레이션에는 존재하지 않는 것을 조회\n",
    "- 교집합(Intersection) : 두 개의 릴레이션 간 공통된 것을 조회 \n",
    "- 곱집합(Cartesian product) : 각 릴레이션에 존재하는 모든 데이터를 조합하여 연산 \n",
    "\n",
    "**2. 관계 연산**\n",
    "- 선택 연산(Selection) : 릴레이션에서 조건에 맞는 행만을 조회 \n",
    "- 투영 연산(Projection) : 릴레이션에서 조건에 맞는 속성만을 조회 \n",
    "- 결합 연산(Join) : 여러 릴레이션의 공통된 속성을 사용해서 새로운 릴레이션을 만들어 냄 \n",
    "- 나누기 연산(Division) : 기준 릴레이션에서 나누는 릴레이션이 가지고 있는 속성과 동일한 값을 가지는 행을 추출함 \n",
    "\n",
    "## 테이블의 구조 \n",
    "- 릴레이션은 데이터베이스 관리시스템에서 테이블(Table)로 만들어짐\n",
    "- 기본키(Primary Key)는 하나의 테이블에서 유일성, 최소성, Not Null을 만족하면서 해당 테이블을 대표하는 키 \n",
    "- 행(Row)은 하나의 테이블에서 저장되는 값으로 튜플(Tuple)이라고도 함 \n",
    "- 컬럼(Column)은 어떤 데이터를 저장하기 위한 필드로 속성(Attribute)라고도 함 \n",
    "- 왜래키(Foreign Key)는 다른 테이블의 기본키를 참조하는 컬럼"
   ]
  },
  {
   "cell_type": "markdown",
   "id": "984ba3b6",
   "metadata": {},
   "source": [
    "# SQL\n",
    "\n",
    "## SQL(Structured Query Language) \n",
    "- SQL은 관계형 데이터베이스에 대해서 데이터 구조를 정의, 조작, 제어를 할 수 있는 절차형 언어\n",
    "- 관계형 데이터베이스는 데이터베이스를 연결하고 SQL 문을 사용하여 데이터베이스를 누구나 쉽게 사용 가능함 \n",
    "\n",
    "## SQL 종류\n",
    "- DDL(Data Definition Language) : 관계형 데이터베이스를 구조하는 언어로 CREATE, DROP, ALTER, RENAME, TRUNCATE가 있음\n",
    "- DML(Data Management Language) : 테이블에서 데이터를 입력, 수정, 삭제, 조회하는 언어로 INSERT, UPDATE, DELETE, SELECT 문이 있음\n",
    "- DCL(Data Control Language) : 데이터베이스의 사용자에게 권한을 부여하거나 회수하는 언어로 GRANT, REVOKE문이 있음 \n",
    "- TCL(Transaction Control Language) : 트랜잭션을 제어하는 명령어로 COMMIT, ROLLBACK, SAVEPOINT문이 있음 \n",
    "\n",
    "# 트랜잭션\n",
    "\n",
    "## 트랜잭션(Transaction)\n",
    "- 트랜잭션은 데이터베이스의 작업을 처리하는 논리적 단위\n",
    "\n",
    "## 트랜잭션의 특성 \n",
    "- 원자성(Atomicity) : 트랜잭션은 데이터베이스 연산의 전부가 실행되거나 전혀 실행되지 않아야 함 \n",
    "- 일관성(Consistency) : 트랜잭션 실행 결과로 데이터베이스의 상태가 모순되지 않아야 함\n",
    "- 고립성(Isolation) : 트랜잭션 실행 중에 생성하는 연산의 중간 결과는 다른 트랜잭션이 접근할 수 있음 \n",
    "- 영속성(Durability) : 트랜잭션이 그 실행을 성공적으로 수행하면 그 결과는 영구적으로 보장되어야 함 "
   ]
  },
  {
   "cell_type": "markdown",
   "id": "9be6a32b",
   "metadata": {},
   "source": [
    "# SQL문의 실행 순서 \n",
    "1. 파싱(Parsing) : SQL문의 문법을 확인하고 구문분석함. 구문분석한 SQL문은 Library Cache에 저장함. \n",
    "2. 실행(Execution) : Optimizer가 수립한 실행 계획에 따라 SQL문을 실행 \n",
    "3. 인출(Fetch) : 데이터를 읽어서 전송함"
   ]
  }
 ],
 "metadata": {
  "kernelspec": {
   "display_name": "Python 3 (ipykernel)",
   "language": "python",
   "name": "python3"
  },
  "language_info": {
   "codemirror_mode": {
    "name": "ipython",
    "version": 3
   },
   "file_extension": ".py",
   "mimetype": "text/x-python",
   "name": "python",
   "nbconvert_exporter": "python",
   "pygments_lexer": "ipython3",
   "version": "3.9.13"
  },
  "latex_envs": {
   "LaTeX_envs_menu_present": true,
   "autoclose": false,
   "autocomplete": true,
   "bibliofile": "biblio.bib",
   "cite_by": "apalike",
   "current_citInitial": 1,
   "eqLabelWithNumbers": true,
   "eqNumInitial": 1,
   "hotkeys": {
    "equation": "Ctrl-E",
    "itemize": "Ctrl-I"
   },
   "labels_anchors": false,
   "latex_user_defs": false,
   "report_style_numbering": false,
   "user_envs_cfg": false
  },
  "toc": {
   "base_numbering": 1,
   "nav_menu": {},
   "number_sections": true,
   "sideBar": true,
   "skip_h1_title": false,
   "title_cell": "Table of Contents",
   "title_sidebar": "Contents",
   "toc_cell": false,
   "toc_position": {},
   "toc_section_display": true,
   "toc_window_display": false
  },
  "varInspector": {
   "cols": {
    "lenName": 16,
    "lenType": 16,
    "lenVar": 40
   },
   "kernels_config": {
    "python": {
     "delete_cmd_postfix": "",
     "delete_cmd_prefix": "del ",
     "library": "var_list.py",
     "varRefreshCmd": "print(var_dic_list())"
    },
    "r": {
     "delete_cmd_postfix": ") ",
     "delete_cmd_prefix": "rm(",
     "library": "var_list.r",
     "varRefreshCmd": "cat(var_dic_list()) "
    }
   },
   "types_to_exclude": [
    "module",
    "function",
    "builtin_function_or_method",
    "instance",
    "_Feature"
   ],
   "window_display": false
  }
 },
 "nbformat": 4,
 "nbformat_minor": 5
}
