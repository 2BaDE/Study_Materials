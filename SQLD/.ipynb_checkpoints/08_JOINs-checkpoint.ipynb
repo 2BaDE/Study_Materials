{
 "cells": [
  {
   "cell_type": "markdown",
   "id": "80301637",
   "metadata": {},
   "source": [
    "# EQUI JOIN\n",
    "\n",
    "- 교집합을 생성함\n",
    "- WHERE 절을 사용하여 조인 실행 \n",
    "\n",
    "```SQL\n",
    "SELECT * FROM [table1], [table2]\n",
    "WHERE [table1].[key] = [table2].[key]\n",
    "...;\n",
    "```"
   ]
  },
  {
   "cell_type": "markdown",
   "id": "d5250cfd",
   "metadata": {},
   "source": [
    "# Non-EQUI JOIN\n",
    "\n",
    "- Non-EQUI는 두 개의 테이블 간에 조인하는 경우 \"=\"를 사용하지 않고, \">\", \"<\", \">=\", \"<=\" 등을 사용한다.\n",
    "- 즉, 정확하게 일치하지 않는 조건을 조인하는 것"
   ]
  },
  {
   "cell_type": "markdown",
   "id": "94255d77",
   "metadata": {},
   "source": [
    "# HASH JOIN\n",
    "\n",
    "- 조인 컬럼의 인덱스가 존재하지 않을 경우에도 사용할 수 있는 기법\n",
    "- 해시 함수를 이용하여 조인을 수행하기 때문에 '='로 수행하는 조인인 동증조건에만 사용할 수 있음\n",
    "- 해시 함수가 적용될 때 동일한 값을 항상 같은 값으로 해시됨을 보장함\n",
    "- 해시 테이블을 메모리 내부에 생성해야 함\n",
    "- 해시 테이블을 저장할 때 메모리에 적재할 수 있는 영역의 크기보다 커지면 임시 영역(디스크)에 저장함\n",
    "- Hash Join을 수행할 때는 결과 행의 수가 적은 테이블을 선행 테이블로 사용하는 것이 좋음\n",
    "- 선행 테이블을 Build input, 후행 테이블은 Prove input이라고 함"
   ]
  },
  {
   "cell_type": "markdown",
   "id": "75eb901d",
   "metadata": {},
   "source": [
    "# NATURAL JOIN\n",
    "\n",
    "- 두 테이블 간에 동일한 컬럼이름을 가진 것을 모두 출력하는 조인\n",
    "- Alias를 사용할 수 없음\n",
    "- 두 테이블에서 동일한 컬럼 이름을 가지는 컬럼은 모두 조인됨"
   ]
  },
  {
   "cell_type": "markdown",
   "id": "42d9930f",
   "metadata": {},
   "source": [
    "# INNER JOIN\n",
    "\n",
    "- ISO 표준 SQL로 존재\n",
    "- INNER JOIN구에 두 개의 테이블 명을 기술하고 ON 구조 조인 조건을 서술\n",
    "\n",
    "```SQL\n",
    "SELECT *\n",
    " FROM [table1]\n",
    " INNER JOIN [table2] ON [table2].[key] = [table1].[key]\n",
    "...;\n",
    "```"
   ]
  },
  {
   "cell_type": "markdown",
   "id": "a681be61",
   "metadata": {},
   "source": [
    "# OUTER JOIN\n",
    "\n",
    "## LEFT OUTER JOIN\n",
    "- 두 개의 테이블 간에 교집합을 조회하고 왼쪽 테이블에만 있는 행도 포함하여 조회한다\n",
    "- WHERE 절 내부에 (+)가 오른쪽 테이블의 key에 제공됨\n",
    "\n",
    "## RIGHT OUTER JOIN\n",
    "- 두 개의 테이블 간에 교집합을 조회하고 오른쪽 테이블에만 있는 행도 포함하여 조회한다\n",
    "- WHERE 절 내부에 (-)가 왼쪽 테이블의 key에 제공됨\n",
    "\n",
    "## FULL OUTER JOIN \n",
    "- LEFT OUTER JOIN과 RIGHT OUTER JOIN 모두를 포함함"
   ]
  },
  {
   "cell_type": "markdown",
   "id": "3089884e",
   "metadata": {},
   "source": [
    "# SELF JOIN\n",
    "\n",
    "- 하나의 테이블에서 두 개의 컬럼이 연관관계를 가지고 있는 경우에 사용함\n",
    "- 계층형 쿼리"
   ]
  },
  {
   "cell_type": "markdown",
   "id": "b8354767",
   "metadata": {},
   "source": [
    "# CROSS JOIN \n",
    "\n",
    "- 조인 조건구 없이 2개의 테이블을 하나로 조인\n",
    "- 조인구가 없기 때문에 카테시안 곱이 발생함\n",
    "- WHERE table1.key1 <> table2.key2\n",
    "\n",
    "```SQL\n",
    "SELECT * FROM [table1]\n",
    " CROSS JOIN [table2];\n",
    "```"
   ]
  },
  {
   "cell_type": "markdown",
   "id": "3e296590",
   "metadata": {},
   "source": [
    "# INTERSECT\n",
    "\n",
    "- 두 개의 테이블에서 교집합을 조회한다\n",
    "\n",
    "```SQL\n",
    "SELECT [col1] FROM [table1]\n",
    "INTERSECT\n",
    "SELECT [col2] FROM [table2];\n",
    "```"
   ]
  },
  {
   "cell_type": "markdown",
   "id": "9d143504",
   "metadata": {},
   "source": [
    "# UNION\n",
    "\n",
    "- UNION 연산은 두 개의 테이블을 하나로 합치는 연산\n",
    "- 두 개의 테이블의 컬럼수, 컬럼의 데이터 형식 모두가 일치해야 함\n",
    "- UNION 연산은 두 개의 테이블을 하나로 합치면서 중복된 데이터를 제거함\n",
    "\n",
    "```SQL\n",
    "SELECT * FROM [table1]\n",
    "UNION\n",
    "SELECT * FROM [table2];\n",
    "```"
   ]
  },
  {
   "cell_type": "markdown",
   "id": "ef462ec4",
   "metadata": {},
   "source": [
    "# UNION ALL\n",
    "\n",
    "- 두개의 테이블을 하나로 합치나, UNION처럼 중복을 제거하거나 정렬을 유발하지는 않음\n",
    "\n",
    "```SQL\n",
    "SELECT * FROM [table1]\n",
    "UNION ALL\n",
    "SELECT * FROM [table2];\n",
    "```"
   ]
  },
  {
   "cell_type": "markdown",
   "id": "55d4533e",
   "metadata": {},
   "source": [
    "# MINUS/EXCEPT\n",
    "\n",
    "- MINUS 연산은 두 개의 테이블에서 차집합을 조회함\n",
    "- 연산시 중복된 값을 제거함\n",
    "\n",
    "```SQL\n",
    "SELECT * FROM [table1]\n",
    "MINUS\n",
    "SELECT * FROM [table2];\n",
    "```"
   ]
  }
 ],
 "metadata": {
  "kernelspec": {
   "display_name": "Python 3 (ipykernel)",
   "language": "python",
   "name": "python3"
  },
  "language_info": {
   "codemirror_mode": {
    "name": "ipython",
    "version": 3
   },
   "file_extension": ".py",
   "mimetype": "text/x-python",
   "name": "python",
   "nbconvert_exporter": "python",
   "pygments_lexer": "ipython3",
   "version": "3.9.13"
  },
  "latex_envs": {
   "LaTeX_envs_menu_present": true,
   "autoclose": false,
   "autocomplete": true,
   "bibliofile": "biblio.bib",
   "cite_by": "apalike",
   "current_citInitial": 1,
   "eqLabelWithNumbers": true,
   "eqNumInitial": 1,
   "hotkeys": {
    "equation": "Ctrl-E",
    "itemize": "Ctrl-I"
   },
   "labels_anchors": false,
   "latex_user_defs": false,
   "report_style_numbering": false,
   "user_envs_cfg": false
  },
  "toc": {
   "base_numbering": 1,
   "nav_menu": {},
   "number_sections": true,
   "sideBar": true,
   "skip_h1_title": false,
   "title_cell": "Table of Contents",
   "title_sidebar": "Contents",
   "toc_cell": false,
   "toc_position": {},
   "toc_section_display": true,
   "toc_window_display": false
  },
  "varInspector": {
   "cols": {
    "lenName": 16,
    "lenType": 16,
    "lenVar": 40
   },
   "kernels_config": {
    "python": {
     "delete_cmd_postfix": "",
     "delete_cmd_prefix": "del ",
     "library": "var_list.py",
     "varRefreshCmd": "print(var_dic_list())"
    },
    "r": {
     "delete_cmd_postfix": ") ",
     "delete_cmd_prefix": "rm(",
     "library": "var_list.r",
     "varRefreshCmd": "cat(var_dic_list()) "
    }
   },
   "types_to_exclude": [
    "module",
    "function",
    "builtin_function_or_method",
    "instance",
    "_Feature"
   ],
   "window_display": false
  }
 },
 "nbformat": 4,
 "nbformat_minor": 5
}
