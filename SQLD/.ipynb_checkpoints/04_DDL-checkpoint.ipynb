{
 "cells": [
  {
   "cell_type": "markdown",
   "id": "0fb8ed71",
   "metadata": {},
   "source": [
    "# 테이블 생성\n",
    "\n",
    "## 기본 문법 \n",
    "\n",
    "```SQL\n",
    "CREATE TABLE [table_name]\n",
    "(\n",
    " [col1] NUMBER(10) PRIMARY KEY,\n",
    " [col2] VARCHAR(20),\n",
    " [col3] INTEGER,\n",
    " ...;\n",
    ")\n",
    "```\n",
    "\n",
    "## 제약조건 생성 \n",
    "\n",
    "```SQL\n",
    "CREATE TABLE [table_name]\n",
    "(\n",
    " [col1] NUMBER(10) PRIMARY KEY,\n",
    " [col2] VARCHAR(20) NOT NULL,\n",
    " [col3] INTEGER,\n",
    " [col4] DATE DEFAULT SYSDATE,\n",
    " CONSTRAINT [primary_key] PRIMARY KEY([col1])\n",
    " CONSTRAINT [foreign_key] NUMBER(20, 2) FOREIGN KEY([col3])\n",
    " REFERENCE [parant_table]([col3])\n",
    " ...;\n",
    ")\n",
    "```\n",
    "\n",
    "- CONSTRAINT : 사용시 기본키와 기본키의 이름을 지정할 수 없다. \n",
    "- SYNDATE : DEFAULT 옵션을 사용하여 오늘 날짜를 기본값으로 지정함. \n",
    "- 왜래키를 지정하려면 부모(참조) 테이블이 존재해야 하며, 부모키의 기본키를 REFERENCE 문을 통해 참조할 수 있음. \n",
    "\n",
    "## CASCADE \n",
    "\n",
    "- CASCADE 옵션은 참조 관계가 있을 경우 참조되는 데이터를 자동 반영함 \n",
    "- ON DELETE CASCADE 옵션을 사용함. \n",
    "- ON DELETE CASCADE : 자신이 참조하고 있는 부모 테이블의 데이터가 삭제되면 자동으로 자신도 삭제되는 옵션 \n",
    "- ON DELETE CASCADE 옵션을 사용하여 참조 무결성을 준수함. \n",
    "\n",
    "```SQL\n",
    "CREATE TABLE [table_name]\n",
    "(\n",
    " [col1] NUMBER(10) PRIMARY KEY,\n",
    " [col2] VARCHAR(20) NOT NULL,\n",
    " [col3] INTEGER,\n",
    " [col4] DATE DEFAULT SYSDATE,\n",
    " CONSTRAINT [primary_key] PRIMARY KEY([col1])\n",
    " CONSTRAINT [foreign_key] NUMBER(20, 2) FOREIGN KEY([col3])\n",
    " REFERENCE [parant_table]([col3])\n",
    " ON DELETE CASCADE\n",
    " ...;\n",
    "```"
   ]
  },
  {
   "cell_type": "markdown",
   "id": "7ce7f982",
   "metadata": {},
   "source": [
    "# 테이블 변경 \n",
    "\n",
    "## 테이블명 변경 \n",
    "\n",
    "```SQL\n",
    "ALTER TABLE [table_name] RENAME TO [new_name];\n",
    "```\n",
    "\n",
    "## 컬럼 추가 \n",
    "\n",
    "```SQL\n",
    "ALTER TABLE [table_name]\n",
    "  ADD ([col1] [col_type] [col_option]);\n",
    "```\n",
    "\n",
    "## 컬럼 변경 \n",
    "\n",
    "- 컬럼의 변경은 ALTER TABLE ~ MODIFY 문을 사용함. \n",
    "- 데이터 타입을 변경하거나 데이터의 길이를 변경할 수 있음. \n",
    "\n",
    "```SQL\n",
    "ALTER TABLE [table_name]\n",
    "MODIFY ([col1] [col_type] [col_option]);\n",
    "```\n",
    "\n",
    "## 컬럼 삭제 \n",
    "\n",
    "```SQL\n",
    "ALTER TABLE [table_name] DROP COLUMN [col1];\n",
    "```\n",
    "\n",
    "## 컬럼명 변경 \n",
    "\n",
    "```SQL\n",
    "ALTER TABLE [table_name] RENAME COLUMN [col1] TO [new_col1];\n",
    "```"
   ]
  },
  {
   "cell_type": "markdown",
   "id": "fa7fc5e4",
   "metadata": {},
   "source": [
    "# 테이블 삭제 \n",
    "\n",
    "```SQL\n",
    "DROP TABLE [table_name];\n",
    "DROP TABLE [table_name] CASCADE CONSTRAINT;\n",
    "```\n",
    "\n",
    "- CASCADE CONSTRAINT 옵션은 해당 테이블의 데이터를 왜래키로 참조한 자식테이블과 관련된 제약사항을 삭제할 때 사용함."
   ]
  },
  {
   "cell_type": "markdown",
   "id": "1ebfea73",
   "metadata": {},
   "source": [
    "# 뷰(View) \n",
    "\n",
    "- 뷰는 테이블로부터 유도된 가상의 테이블 \n",
    "- 실제 데이터를 가지고 있지 않으며 테이블을 참조해서 원하는 컬럼만을 조회할 수 있음 \n",
    "- 참조한 테이블이 변경되면 뷰도 변경되며 입력, 수정, 삭제에 제약이 존재함. \n",
    "- ALTER문을 사용해서 변경 가능함.\n",
    "\n",
    "```SQL\n",
    "CREATE VIEW [view_name] AS\n",
    "     (\n",
    "         [subquries]\n",
    "     );\n",
    "\n",
    "/* Drop View*/\n",
    "DROP VIEW [view_name];\n",
    "```\n",
    "\n",
    "## 뷰의 장/단점 \n",
    "\n",
    "**1. 장점** \n",
    "- 특정 칼럼만 조회할 수 있기 때문에 보안기능이 있음\n",
    "- 데이터 관리가 간단해짐\n",
    "- SELECT문이 간단해짐\n",
    "\n",
    "**2. 단점**\n",
    "- 독자적인 인덱스를 만들 수 없음 \n",
    "- 데이터 구조를 변경할 수 없음"
   ]
  }
 ],
 "metadata": {
  "kernelspec": {
   "display_name": "Python 3 (ipykernel)",
   "language": "python",
   "name": "python3"
  },
  "language_info": {
   "codemirror_mode": {
    "name": "ipython",
    "version": 3
   },
   "file_extension": ".py",
   "mimetype": "text/x-python",
   "name": "python",
   "nbconvert_exporter": "python",
   "pygments_lexer": "ipython3",
   "version": "3.9.13"
  },
  "latex_envs": {
   "LaTeX_envs_menu_present": true,
   "autoclose": false,
   "autocomplete": true,
   "bibliofile": "biblio.bib",
   "cite_by": "apalike",
   "current_citInitial": 1,
   "eqLabelWithNumbers": true,
   "eqNumInitial": 1,
   "hotkeys": {
    "equation": "Ctrl-E",
    "itemize": "Ctrl-I"
   },
   "labels_anchors": false,
   "latex_user_defs": false,
   "report_style_numbering": false,
   "user_envs_cfg": false
  },
  "toc": {
   "base_numbering": 1,
   "nav_menu": {},
   "number_sections": true,
   "sideBar": true,
   "skip_h1_title": false,
   "title_cell": "Table of Contents",
   "title_sidebar": "Contents",
   "toc_cell": false,
   "toc_position": {},
   "toc_section_display": true,
   "toc_window_display": false
  },
  "varInspector": {
   "cols": {
    "lenName": 16,
    "lenType": 16,
    "lenVar": 40
   },
   "kernels_config": {
    "python": {
     "delete_cmd_postfix": "",
     "delete_cmd_prefix": "del ",
     "library": "var_list.py",
     "varRefreshCmd": "print(var_dic_list())"
    },
    "r": {
     "delete_cmd_postfix": ") ",
     "delete_cmd_prefix": "rm(",
     "library": "var_list.r",
     "varRefreshCmd": "cat(var_dic_list()) "
    }
   },
   "types_to_exclude": [
    "module",
    "function",
    "builtin_function_or_method",
    "instance",
    "_Feature"
   ],
   "window_display": false
  }
 },
 "nbformat": 4,
 "nbformat_minor": 5
}
