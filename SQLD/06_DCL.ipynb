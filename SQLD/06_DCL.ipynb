{
 "cells": [
  {
   "cell_type": "markdown",
   "id": "4020c555",
   "metadata": {},
   "source": [
    "# GRANT\n",
    "\n",
    "- GRANT 문은 데이터베이스 사용자에게 권한을 부여\n",
    "- 데이터베이스 사용을 위해서는 권한이 필요하며 연결, 입력, 수정, 삭제, 조회 가능\n",
    "\n",
    "## 기본 문법\n",
    "\n",
    "```SQL\n",
    "GRANT [privileges] ON [object] TO [user];\n",
    "```\n",
    "\n",
    "- [privielges] : 권한\n",
    "- [object] : 데이터베이스 내부의 객체(테이블, 데이터베이스, 그룹)\n",
    "\n",
    "## 권한 \n",
    "\n",
    "- SELECT : 지정된 테이블에 대해서 SELECT 권한을 부여한다\n",
    "- INSERT : 지정된 테이블에 대해서 INSERT 권한을 부여한다\n",
    "- UPDATE : 지정된 테이블에 대해서 UPDATE 권한을 부여한다\n",
    "- DELETE : 지정된 테이블에 대해서 DELETE 권한을 부여한다\n",
    "- REFRENCES : 지정된 테이블에 대해서 참조하는 제약 조건을 생성하는 권한을 부여한다\n",
    "- ALTER : 지정된 테이블에 대해서 수정할 수 있는 권한을 부여한다\n",
    "- INDEX : 지정된 테이블에 대해서 인덱스를 생성할 수 있는 권한을 부여한다\n",
    "- ALL : 지정된 테이블에 대해서 모든 권한을 부여한다\n",
    "\n",
    "## WITH GRANT OPTION \n",
    "\n",
    "**1. WITH GRANT OPTION**\n",
    "- 특정 사용자에게 권한을 부여할 수 있는 권한을 부여한다\n",
    "- 권한을 A 사용자가 B에 부여하고 B가 다시 C를 부여한 후에 권한을 취소하면 모든 권한이 회수된다\n",
    "\n",
    "**2. WITH ADMIN OPTION**\n",
    "- 테이블에 대한 모든 권한을 부여함 \n",
    "- 권한을 A 사용자가 B에 부여하고 B가 다시 C에게 부여한 후에 권한을 취소하면 B 사용자 권한만 취소된다\n",
    "\n",
    "```SQL\n",
    "GRANT SELECT, INSERT, UPDATE ON [table] TO [user] WITH GRANT OPTION;\n",
    "```"
   ]
  },
  {
   "cell_type": "markdown",
   "id": "fce7978b",
   "metadata": {},
   "source": [
    "# REVOKE\n",
    "\n",
    "- REVOKE 문은 데이터베이스 사용자에게 부여한 권한을 회수함 \n",
    "\n",
    "## 기본 문법 \n",
    "\n",
    "```SQL\n",
    "REVOKE [privileges] ON [object] FROM [user];\n",
    "```"
   ]
  },
  {
   "cell_type": "markdown",
   "id": "4d2fcc0d",
   "metadata": {},
   "source": [
    "# ROLE\n",
    "\n",
    "- 사용자에게 허가 할 수 있는 권한들의 집합\n",
    "- ROLE을 이용하면 권한 부여와 회수를 쉽게 할 수 있음\n",
    "- CREATE ROLE 권한을 가진 USER에 의해서 생성 됨\n",
    "- 한 사용자가 여러 개의 ROLE을 ACCESS할 수 있고, 여러 사용자에게 같은 ROLE을 부여할 수 있음"
   ]
  }
 ],
 "metadata": {
  "kernelspec": {
   "display_name": "Python 3 (ipykernel)",
   "language": "python",
   "name": "python3"
  },
  "language_info": {
   "codemirror_mode": {
    "name": "ipython",
    "version": 3
   },
   "file_extension": ".py",
   "mimetype": "text/x-python",
   "name": "python",
   "nbconvert_exporter": "python",
   "pygments_lexer": "ipython3",
   "version": "3.9.13"
  },
  "latex_envs": {
   "LaTeX_envs_menu_present": true,
   "autoclose": false,
   "autocomplete": true,
   "bibliofile": "biblio.bib",
   "cite_by": "apalike",
   "current_citInitial": 1,
   "eqLabelWithNumbers": true,
   "eqNumInitial": 1,
   "hotkeys": {
    "equation": "Ctrl-E",
    "itemize": "Ctrl-I"
   },
   "labels_anchors": false,
   "latex_user_defs": false,
   "report_style_numbering": false,
   "user_envs_cfg": false
  },
  "toc": {
   "base_numbering": 1,
   "nav_menu": {},
   "number_sections": true,
   "sideBar": true,
   "skip_h1_title": false,
   "title_cell": "Table of Contents",
   "title_sidebar": "Contents",
   "toc_cell": false,
   "toc_position": {},
   "toc_section_display": true,
   "toc_window_display": false
  },
  "varInspector": {
   "cols": {
    "lenName": 16,
    "lenType": 16,
    "lenVar": 40
   },
   "kernels_config": {
    "python": {
     "delete_cmd_postfix": "",
     "delete_cmd_prefix": "del ",
     "library": "var_list.py",
     "varRefreshCmd": "print(var_dic_list())"
    },
    "r": {
     "delete_cmd_postfix": ") ",
     "delete_cmd_prefix": "rm(",
     "library": "var_list.r",
     "varRefreshCmd": "cat(var_dic_list()) "
    }
   },
   "types_to_exclude": [
    "module",
    "function",
    "builtin_function_or_method",
    "instance",
    "_Feature"
   ],
   "window_display": false
  }
 },
 "nbformat": 4,
 "nbformat_minor": 5
}
